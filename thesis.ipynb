{
 "cells": [
  {
   "cell_type": "markdown",
   "source": [
    "# Imports and Setups"
   ],
   "metadata": {}
  },
  {
   "cell_type": "code",
   "execution_count": null,
   "source": [
    "%load_ext autoreload\n",
    "%autoreload 2\n",
    "\n",
    "import pandas as pd\n",
    "import os\n",
    "import matplotlib.pyplot as plt\n",
    "import numpy as np\n",
    "import plotnine as p9\n",
    "from sklearn import preprocessing\n",
    "from sklearn.preprocessing import StandardScaler\n",
    "from sklearn.preprocessing import LabelBinarizer\n",
    "from sklearn.pipeline import Pipeline\n",
    "import transformer\n",
    "from sklearn.metrics import mean_squared_error\n",
    "from sklearn import metrics\n",
    "from fairnesTester import FairnessTester\n",
    "from sklearn.pipeline import FeatureUnion\n",
    "from sklearn.model_selection import train_test_split\n",
    "from fairnesTester import FairnessTester\n",
    "\n",
    "from sklearn.neighbors import KNeighborsClassifier\n",
    "from sklearn.svm import SVC\n",
    "from sklearn.tree import DecisionTreeClassifier\n",
    "from sklearn.ensemble import RandomForestClassifier, AdaBoostClassifier, GradientBoostingClassifier\n",
    "from sklearn.naive_bayes import GaussianNB\n",
    "from sklearn.gaussian_process import GaussianProcessClassifier\n"
   ],
   "outputs": [],
   "metadata": {}
  },
  {
   "cell_type": "code",
   "execution_count": null,
   "source": [
    "#pipelines and transformer\n",
    "\n",
    "cat_trans = Pipeline(steps=[\n",
    "    (\"selector\", transformer.DataSelector(\"object\")),\n",
    "    (\"one_hot\", preprocessing.OneHotEncoder())\n",
    "])\n",
    "num_trans = Pipeline(steps=[\n",
    "    (\"selector\", transformer.DataSelector(\"number\")),\n",
    "    (\"scaler\", StandardScaler() )\n",
    "])\n",
    "\n",
    "pre_pipe = FeatureUnion(transformer_list=[\n",
    "    (\"cat\", cat_trans),\n",
    "    (\"num\", num_trans)\n",
    "])\n",
    "\n",
    "lb = LabelBinarizer()\n",
    "del_nan = transformer.DeleteNAN(\"\")"
   ],
   "outputs": [],
   "metadata": {}
  },
  {
   "cell_type": "markdown",
   "source": [
    "# Importin and preparing the data\n"
   ],
   "metadata": {}
  },
  {
   "cell_type": "markdown",
   "source": [
    "## Adult Income Data set"
   ],
   "metadata": {}
  },
  {
   "cell_type": "code",
   "execution_count": null,
   "source": [
    "filename = \"Datasets/adult.data\"\n",
    "names = [\"age\", \"workclass\", \"fnlwgt\",\"education\", \"education-num\", \"marital-status\", \"occupation\", \"relationship\", \"race\", \"sex\", \"capital-gain\", \"capital-loss\", \"hours-per-week\", \"native-country\", \"class\"]\n",
    "train = pd.read_csv(filename, names=names)\n",
    "test = test = pd.read_csv(\"Datasets/adult.test\", names=names)\n",
    "\n",
    "train = del_nan.transform(train)\n",
    "test = del_nan.transform(test)\n",
    "\n",
    "train[\"class\"] = lb.fit_transform(train[\"class\"])\n",
    "test[\"class\"] = lb.fit_transform(test[\"class\"])\n",
    "\n",
    "train_data = pre_pipe.fit_transform(train.drop(\"class\", axis=1))\n",
    "train_labels = train[\"class\"]\n",
    "\n",
    "test_data = pre_pipe.transform(test.drop(\"class\", axis=1))\n",
    "test_labels = test[\"class\"]\n",
    "\n",
    "#attribute for Fairness tester\n",
    "dataset_name = \"Adult_Income\"\n",
    "priv_val = \" Male\"\n",
    "unpriv_val = \" Female\"\n",
    "protected_att = \"sex\"\n",
    "\n"
   ],
   "outputs": [],
   "metadata": {}
  },
  {
   "cell_type": "markdown",
   "source": [
    "## German Credit Dataset"
   ],
   "metadata": {}
  },
  {
   "cell_type": "code",
   "execution_count": null,
   "source": [
    "filename = \"Datasets/german.data\"\n",
    "names = [\"status existing account\",\"duration\", \"credit history\", \"purpose\", \"credit amount\", \"savings\", \"employment since\", \"installment rate\", \"sex\", \"other debtors\", \"residence since\", \"property\", \"age\", \"installment plans\", \"housing\", \"num existing credits\", \"job\", \"no of pople liable\", \"telephone\", \"foreign worker\", \"class\" ]\n",
    "data = pd.read_csv(filename, sep=\" \", names =names)\n",
    "\n",
    "data[\"class\"] = lb.fit_transform(data[\"class\"])\n",
    "\n",
    "data, test, train_labels, test_labels = train_test_split(data, data[\"class\"], random_state=42)\n",
    "\n",
    "train_data = pre_pipe.fit_transform(data.drop(\"class\", axis=1))\n",
    "test_data = pre_pipe.transform(test.drop(\"class\", axis=1))\n",
    "\n",
    "#transform for Fairness tester\n",
    "test[\"sex\"].replace([\"A91\",\"A93\", \"A94\"],\"m\",inplace=True)\n",
    "test[\"sex\"].replace([\"A92\",\"A95\"],\"f\",inplace=True)\n",
    "\n",
    "#attribute for Fairness tester\n",
    "dataset_name = \"German_Credit\"\n",
    "priv_val = \"m\"\n",
    "unpriv_val = \"f\"\n",
    "protected_att = \"sex\"\n"
   ],
   "outputs": [],
   "metadata": {}
  },
  {
   "cell_type": "markdown",
   "source": [
    "## Default of Creddit Card Payments"
   ],
   "metadata": {}
  },
  {
   "cell_type": "code",
   "execution_count": null,
   "source": [
    "filename = \"Datasets/default of credit.xls\"\n",
    "data_inp = pd.read_excel(filename, dtype={\"X1\": int,\"X2\": object,\"X3\": object,\"X4\": object,\"X5\": object,\"X6\": object,\"X7\": object,\"X8\": object,\"X9\": object,\"X10\": object,\"X11\": object,\"X12\": int,\"X13\": int,\"X14\": int,\"X15\": int,\"X16\": int,\"X17\": int,\"X23\": int,\"X18\": int,\"X19\": int,\"X20\": int,\"X21\": int,\"X22\": int})\n",
    "\n",
    "data_inp = data_inp.rename(columns={\"Y\": \"class\"})\n",
    "\n",
    "data, test, train_labels, test_labels = train_test_split(data_inp, data_inp[\"class\"], random_state=42)\n",
    "\n",
    "pre_pipe.fit(data_inp.drop(\"class\", axis=1))\n",
    "train_data = pre_pipe.transform(data.drop(\"class\", axis=1))\n",
    "test_data = pre_pipe.transform(test.drop(\"class\", axis=1))\n",
    "\n",
    "\n",
    "#attribute for Fairness tester\n",
    "dataset_name = \"default_of_credit\"\n",
    "priv_val = 1 #male\n",
    "unpriv_val = 2 #female\n",
    "protected_att = \"X2\"\n",
    "\n"
   ],
   "outputs": [],
   "metadata": {}
  },
  {
   "cell_type": "markdown",
   "source": [
    "## Rici vs Stefano Dataset"
   ],
   "metadata": {}
  },
  {
   "cell_type": "code",
   "execution_count": null,
   "source": [
    "filename = \"Datasets/ricci.csv\"\n",
    "data_inp = pd.read_csv(filename).drop(\"Unnamed: 0\", axis=1)\n",
    "#applicants with combine >= 70 pass\n",
    "#read paper Did the Results of Promotion Exams Have a Disparate Impact on Minorities? Using Statistical Evidence in Ricci v. DeStefano\n",
    "data_inp.rename(columns={\"Combine\": \"class\"}, inplace=True)\n",
    "\n",
    "data_inp.loc[data_inp[\"class\"]>=70, \"class\"] = 1\n",
    "data_inp.loc[(data_inp[\"class\"]<70) & (data_inp[\"class\"]>1), \"class\"] = 0\n",
    "\n",
    "data, test, train_labels, test_labels = train_test_split(data_inp, data_inp[\"class\"], random_state=42)\n",
    "\n",
    "pre_pipe.fit(data_inp.drop(\"class\", axis=1))\n",
    "train_data = pre_pipe.transform(data.drop(\"class\", axis=1))\n",
    "test_data = pre_pipe.transform(test.drop(\"class\", axis=1))\n",
    "\n",
    "#transform for Fairness tester\n",
    "test[\"Race\"].replace([\"H\",\"B\",],\"NW\",inplace=True)\n",
    "\n",
    "\n",
    "#attribute for Fairness tester\n",
    "dataset_name = \"ricci_vs_stefano\"\n",
    "priv_val = \"W\" #white\n",
    "unpriv_val = \"NW\" #not white\n",
    "protected_att = \"Race\"\n"
   ],
   "outputs": [],
   "metadata": {}
  },
  {
   "cell_type": "markdown",
   "source": [
    "# Classifiers"
   ],
   "metadata": {}
  },
  {
   "cell_type": "markdown",
   "source": [
    "## Decision Tree"
   ],
   "metadata": {}
  },
  {
   "cell_type": "code",
   "execution_count": null,
   "source": [
    "tree = DecisionTreeClassifier()\n",
    "tree.fit(train_data,train_labels)\n",
    "\n",
    "tree_pred = tree.predict(test_data)\n",
    "test[\"prediction\"] = tree_pred\n",
    "dataset_name"
   ],
   "outputs": [],
   "metadata": {}
  },
  {
   "cell_type": "markdown",
   "source": [
    "## Random Forest"
   ],
   "metadata": {}
  },
  {
   "cell_type": "code",
   "execution_count": null,
   "source": [
    "forest = RandomForestClassifier()\n",
    "forest.fit(train_data,train_labels)\n",
    "\n",
    "forest_pred = forest.predict(test_data)\n",
    "test[\"prediction\"] = forest_pred\n",
    "dataset_name"
   ],
   "outputs": [],
   "metadata": {}
  },
  {
   "cell_type": "markdown",
   "source": [
    "## K-Nearest-Neighbour"
   ],
   "metadata": {}
  },
  {
   "cell_type": "code",
   "execution_count": null,
   "source": [
    "knn = KNeighborsClassifier(3)\n",
    "knn.fit(train_data,train_labels)\n",
    "\n",
    "knn_pred = knn.predict(test_data)\n",
    "test[\"prediction\"] = knn_pred\n",
    "dataset_name "
   ],
   "outputs": [],
   "metadata": {}
  },
  {
   "cell_type": "markdown",
   "source": [
    "## Support Vector Machine"
   ],
   "metadata": {}
  },
  {
   "cell_type": "code",
   "execution_count": null,
   "source": [
    "#nochmal dringend anschauen\n",
    "svc = SVC(kernel=\"rbf\", C=0.025, probability=True) \n",
    "svc.fit(train_data,train_labels)\n",
    "\n",
    "svc_pred = svc.predict(test_data)\n",
    "test[\"prediction\"] = svc_pred\n",
    "dataset_name"
   ],
   "outputs": [],
   "metadata": {}
  },
  {
   "cell_type": "markdown",
   "source": [
    "## Ada Boost "
   ],
   "metadata": {}
  },
  {
   "cell_type": "code",
   "execution_count": null,
   "source": [
    "ada = AdaBoostClassifier()\n",
    "svc.fit(train_data,train_labels)\n",
    "\n",
    "svc_pred = svc.predict(test_data)\n",
    "test[\"prediction\"] = svc_pred\n",
    "dataset_name"
   ],
   "outputs": [],
   "metadata": {}
  },
  {
   "cell_type": "markdown",
   "source": [
    "## Gaussian NB"
   ],
   "metadata": {}
  },
  {
   "cell_type": "code",
   "execution_count": null,
   "source": [
    "gnb = GaussianNB()\n",
    "gnb.fit(train_data.toarray(),train_labels)\n",
    "\n",
    "gnb_pred = gnb.predict(test_data.toarray())\n",
    "test[\"prediction\"] = gnb_pred\n",
    "dataset_name"
   ],
   "outputs": [],
   "metadata": {}
  },
  {
   "cell_type": "markdown",
   "source": [
    "## Gaussian Proccess Classifier"
   ],
   "metadata": {}
  },
  {
   "cell_type": "code",
   "execution_count": null,
   "source": [
    "gpc = GaussianProcessClassifier()\n",
    "gpc.fit(train_data.toarray(),train_labels)\n",
    "\n",
    "gpc_pred = gpc.predict(test_data.toarray())\n",
    "test[\"prediction\"] = gpc_pred\n",
    "gpc.__class__.__name__"
   ],
   "outputs": [],
   "metadata": {}
  },
  {
   "cell_type": "markdown",
   "source": [
    "# Classifiert List\n"
   ],
   "metadata": {}
  },
  {
   "cell_type": "code",
   "execution_count": null,
   "source": [
    "classifiers = [DecisionTreeClassifier(),RandomForestClassifier(),SVC(),AdaBoostClassifier(),KNeighborsClassifier(5), GaussianNB(), GaussianProcessClassifier()]\n",
    "model_names = []\n",
    "for model in classifiers:\n",
    "    \n",
    "    name = model.__class__.__name__\n",
    "    model_names.append(name)\n",
    "\n",
    "    model.fit(train_data.toarray(), train_labels)\n",
    "    pred = model.predict(test_data.toarray())\n",
    "\n",
    "    test[name]=pred\n",
    "\n",
    "\n"
   ],
   "outputs": [],
   "metadata": {}
  },
  {
   "cell_type": "markdown",
   "source": [
    "# Testing for Fairness\n"
   ],
   "metadata": {}
  },
  {
   "cell_type": "markdown",
   "source": [
    "## testing one model"
   ],
   "metadata": {}
  },
  {
   "cell_type": "code",
   "execution_count": null,
   "source": [
    "tester = FairnessTester()\n",
    "tester.setup(test, protected_att, priv_val, unpriv_val)\n",
    "print(\"privileged confusion: \\n\",tester.priv_confusion_matrix())\n",
    "print(\"unprivileged confusion: \\n\", tester.unpriv_confusion_matrix())\n",
    "tester.confuison_based_dic()"
   ],
   "outputs": [],
   "metadata": {}
  },
  {
   "cell_type": "markdown",
   "source": [
    "## testing classifiers list"
   ],
   "metadata": {}
  },
  {
   "cell_type": "code",
   "execution_count": null,
   "source": [
    "tester = FairnessTester()\n",
    "\n",
    "\n",
    "result_df = pd.DataFrame()\n",
    "\n",
    "for name in model_names:\n",
    "    tester.setup(test, protected_att, priv_val, unpriv_val, name)\n",
    "    result_dic = {\"model\": name}\n",
    "    result_dic.update(tester.confusion_based_dic())\n",
    "    result_df= result_df.append(result_dic, ignore_index=True)\n",
    "\n",
    "result_df\n",
    "    \n",
    "\n"
   ],
   "outputs": [],
   "metadata": {}
  },
  {
   "cell_type": "code",
   "execution_count": 45,
   "source": [
    "tester = FairnessTester()\n",
    "\n",
    "\n",
    "result_df = pd.DataFrame()\n",
    "\n",
    "for name in model_names:\n",
    "    tester.setup(test, protected_att, priv_val, unpriv_val, name)\n",
    "    result_dic = {\"model\": name}\n",
    "    result_dic.update(tester.confusion_based_dic_priv())\n",
    "    result_df= result_df.append(result_dic, ignore_index=True)\n",
    "    \n",
    "    result_dic = {\"model\": name}\n",
    "    result_dic.update(tester.confusion_based_dic_unpriv())\n",
    "    result_df= result_df.append(result_dic, ignore_index=True)\n",
    "\n",
    "result_df\n",
    "    "
   ],
   "outputs": [
    {
     "output_type": "stream",
     "name": "stderr",
     "text": [
      "/home/maxk/Dokumente/Thesis/fairnesTester.py:103: RuntimeWarning: invalid value encountered in double_scalars\n",
      "/home/maxk/Dokumente/Thesis/fairnesTester.py:104: RuntimeWarning: invalid value encountered in double_scalars\n",
      "/home/maxk/Dokumente/Thesis/fairnesTester.py:103: RuntimeWarning: invalid value encountered in double_scalars\n",
      "/home/maxk/Dokumente/Thesis/fairnesTester.py:104: RuntimeWarning: invalid value encountered in double_scalars\n",
      "/home/maxk/Dokumente/Thesis/fairnesTester.py:103: RuntimeWarning: invalid value encountered in double_scalars\n",
      "/home/maxk/Dokumente/Thesis/fairnesTester.py:104: RuntimeWarning: invalid value encountered in double_scalars\n",
      "/home/maxk/Dokumente/Thesis/fairnesTester.py:104: RuntimeWarning: invalid value encountered in double_scalars\n",
      "/home/maxk/Dokumente/Thesis/fairnesTester.py:103: RuntimeWarning: divide by zero encountered in double_scalars\n",
      "/home/maxk/Dokumente/Thesis/fairnesTester.py:104: RuntimeWarning: invalid value encountered in double_scalars\n"
     ]
    },
    {
     "output_type": "execute_result",
     "data": {
      "text/plain": [
       "                        model   group  statistical parity  predictive parity  \\\n",
       "0      DecisionTreeClassifier    priv            0.611111           1.000000   \n",
       "1      DecisionTreeClassifier  unpriv            0.416667           1.000000   \n",
       "2      RandomForestClassifier    priv            0.611111           1.000000   \n",
       "3      RandomForestClassifier  unpriv            0.416667           1.000000   \n",
       "4                         SVC    priv            0.611111           0.909091   \n",
       "5                         SVC  unpriv            0.333333           1.000000   \n",
       "6          AdaBoostClassifier    priv            0.611111           1.000000   \n",
       "7          AdaBoostClassifier  unpriv            0.416667           1.000000   \n",
       "8        KNeighborsClassifier    priv            0.555556           0.900000   \n",
       "9        KNeighborsClassifier  unpriv            0.416667           1.000000   \n",
       "10                 GaussianNB    priv            0.722222           0.846154   \n",
       "11                 GaussianNB  unpriv            0.333333           1.000000   \n",
       "12  GaussianProcessClassifier    priv            0.611111           0.909091   \n",
       "13  GaussianProcessClassifier  unpriv            0.416667           1.000000   \n",
       "\n",
       "    negative predictive parity  equal opportunity  predictive equality  \\\n",
       "0                     1.000000           1.000000             0.000000   \n",
       "1                     1.000000           1.000000             0.000000   \n",
       "2                     1.000000           1.000000             0.000000   \n",
       "3                     1.000000           1.000000             0.000000   \n",
       "4                     0.857143           0.909091             0.142857   \n",
       "5                     0.875000           0.800000             0.000000   \n",
       "6                     1.000000           1.000000             0.000000   \n",
       "7                     1.000000           1.000000             0.000000   \n",
       "8                     0.750000           0.818182             0.142857   \n",
       "9                     1.000000           1.000000             0.000000   \n",
       "10                    1.000000           1.000000             0.285714   \n",
       "11                    0.875000           0.800000             0.000000   \n",
       "12                    0.857143           0.909091             0.142857   \n",
       "13                    1.000000           1.000000             0.000000   \n",
       "\n",
       "    overall accuracy equality  treatment equality  \n",
       "0                    1.000000                 NaN  \n",
       "1                    1.000000                 NaN  \n",
       "2                    1.000000                 NaN  \n",
       "3                    1.000000                 NaN  \n",
       "4                    0.888889            1.571429  \n",
       "5                    0.916667            0.000000  \n",
       "6                    1.000000                 NaN  \n",
       "7                    1.000000                 NaN  \n",
       "8                    0.833333            0.785714  \n",
       "9                    1.000000                 NaN  \n",
       "10                   0.888889                 inf  \n",
       "11                   0.916667            0.000000  \n",
       "12                   0.888889            1.571429  \n",
       "13                   1.000000                 NaN  "
      ],
      "text/html": [
       "<div>\n",
       "<style scoped>\n",
       "    .dataframe tbody tr th:only-of-type {\n",
       "        vertical-align: middle;\n",
       "    }\n",
       "\n",
       "    .dataframe tbody tr th {\n",
       "        vertical-align: top;\n",
       "    }\n",
       "\n",
       "    .dataframe thead th {\n",
       "        text-align: right;\n",
       "    }\n",
       "</style>\n",
       "<table border=\"1\" class=\"dataframe\">\n",
       "  <thead>\n",
       "    <tr style=\"text-align: right;\">\n",
       "      <th></th>\n",
       "      <th>model</th>\n",
       "      <th>group</th>\n",
       "      <th>statistical parity</th>\n",
       "      <th>predictive parity</th>\n",
       "      <th>negative predictive parity</th>\n",
       "      <th>equal opportunity</th>\n",
       "      <th>predictive equality</th>\n",
       "      <th>overall accuracy equality</th>\n",
       "      <th>treatment equality</th>\n",
       "    </tr>\n",
       "  </thead>\n",
       "  <tbody>\n",
       "    <tr>\n",
       "      <th>0</th>\n",
       "      <td>DecisionTreeClassifier</td>\n",
       "      <td>priv</td>\n",
       "      <td>0.611111</td>\n",
       "      <td>1.000000</td>\n",
       "      <td>1.000000</td>\n",
       "      <td>1.000000</td>\n",
       "      <td>0.000000</td>\n",
       "      <td>1.000000</td>\n",
       "      <td>NaN</td>\n",
       "    </tr>\n",
       "    <tr>\n",
       "      <th>1</th>\n",
       "      <td>DecisionTreeClassifier</td>\n",
       "      <td>unpriv</td>\n",
       "      <td>0.416667</td>\n",
       "      <td>1.000000</td>\n",
       "      <td>1.000000</td>\n",
       "      <td>1.000000</td>\n",
       "      <td>0.000000</td>\n",
       "      <td>1.000000</td>\n",
       "      <td>NaN</td>\n",
       "    </tr>\n",
       "    <tr>\n",
       "      <th>2</th>\n",
       "      <td>RandomForestClassifier</td>\n",
       "      <td>priv</td>\n",
       "      <td>0.611111</td>\n",
       "      <td>1.000000</td>\n",
       "      <td>1.000000</td>\n",
       "      <td>1.000000</td>\n",
       "      <td>0.000000</td>\n",
       "      <td>1.000000</td>\n",
       "      <td>NaN</td>\n",
       "    </tr>\n",
       "    <tr>\n",
       "      <th>3</th>\n",
       "      <td>RandomForestClassifier</td>\n",
       "      <td>unpriv</td>\n",
       "      <td>0.416667</td>\n",
       "      <td>1.000000</td>\n",
       "      <td>1.000000</td>\n",
       "      <td>1.000000</td>\n",
       "      <td>0.000000</td>\n",
       "      <td>1.000000</td>\n",
       "      <td>NaN</td>\n",
       "    </tr>\n",
       "    <tr>\n",
       "      <th>4</th>\n",
       "      <td>SVC</td>\n",
       "      <td>priv</td>\n",
       "      <td>0.611111</td>\n",
       "      <td>0.909091</td>\n",
       "      <td>0.857143</td>\n",
       "      <td>0.909091</td>\n",
       "      <td>0.142857</td>\n",
       "      <td>0.888889</td>\n",
       "      <td>1.571429</td>\n",
       "    </tr>\n",
       "    <tr>\n",
       "      <th>5</th>\n",
       "      <td>SVC</td>\n",
       "      <td>unpriv</td>\n",
       "      <td>0.333333</td>\n",
       "      <td>1.000000</td>\n",
       "      <td>0.875000</td>\n",
       "      <td>0.800000</td>\n",
       "      <td>0.000000</td>\n",
       "      <td>0.916667</td>\n",
       "      <td>0.000000</td>\n",
       "    </tr>\n",
       "    <tr>\n",
       "      <th>6</th>\n",
       "      <td>AdaBoostClassifier</td>\n",
       "      <td>priv</td>\n",
       "      <td>0.611111</td>\n",
       "      <td>1.000000</td>\n",
       "      <td>1.000000</td>\n",
       "      <td>1.000000</td>\n",
       "      <td>0.000000</td>\n",
       "      <td>1.000000</td>\n",
       "      <td>NaN</td>\n",
       "    </tr>\n",
       "    <tr>\n",
       "      <th>7</th>\n",
       "      <td>AdaBoostClassifier</td>\n",
       "      <td>unpriv</td>\n",
       "      <td>0.416667</td>\n",
       "      <td>1.000000</td>\n",
       "      <td>1.000000</td>\n",
       "      <td>1.000000</td>\n",
       "      <td>0.000000</td>\n",
       "      <td>1.000000</td>\n",
       "      <td>NaN</td>\n",
       "    </tr>\n",
       "    <tr>\n",
       "      <th>8</th>\n",
       "      <td>KNeighborsClassifier</td>\n",
       "      <td>priv</td>\n",
       "      <td>0.555556</td>\n",
       "      <td>0.900000</td>\n",
       "      <td>0.750000</td>\n",
       "      <td>0.818182</td>\n",
       "      <td>0.142857</td>\n",
       "      <td>0.833333</td>\n",
       "      <td>0.785714</td>\n",
       "    </tr>\n",
       "    <tr>\n",
       "      <th>9</th>\n",
       "      <td>KNeighborsClassifier</td>\n",
       "      <td>unpriv</td>\n",
       "      <td>0.416667</td>\n",
       "      <td>1.000000</td>\n",
       "      <td>1.000000</td>\n",
       "      <td>1.000000</td>\n",
       "      <td>0.000000</td>\n",
       "      <td>1.000000</td>\n",
       "      <td>NaN</td>\n",
       "    </tr>\n",
       "    <tr>\n",
       "      <th>10</th>\n",
       "      <td>GaussianNB</td>\n",
       "      <td>priv</td>\n",
       "      <td>0.722222</td>\n",
       "      <td>0.846154</td>\n",
       "      <td>1.000000</td>\n",
       "      <td>1.000000</td>\n",
       "      <td>0.285714</td>\n",
       "      <td>0.888889</td>\n",
       "      <td>inf</td>\n",
       "    </tr>\n",
       "    <tr>\n",
       "      <th>11</th>\n",
       "      <td>GaussianNB</td>\n",
       "      <td>unpriv</td>\n",
       "      <td>0.333333</td>\n",
       "      <td>1.000000</td>\n",
       "      <td>0.875000</td>\n",
       "      <td>0.800000</td>\n",
       "      <td>0.000000</td>\n",
       "      <td>0.916667</td>\n",
       "      <td>0.000000</td>\n",
       "    </tr>\n",
       "    <tr>\n",
       "      <th>12</th>\n",
       "      <td>GaussianProcessClassifier</td>\n",
       "      <td>priv</td>\n",
       "      <td>0.611111</td>\n",
       "      <td>0.909091</td>\n",
       "      <td>0.857143</td>\n",
       "      <td>0.909091</td>\n",
       "      <td>0.142857</td>\n",
       "      <td>0.888889</td>\n",
       "      <td>1.571429</td>\n",
       "    </tr>\n",
       "    <tr>\n",
       "      <th>13</th>\n",
       "      <td>GaussianProcessClassifier</td>\n",
       "      <td>unpriv</td>\n",
       "      <td>0.416667</td>\n",
       "      <td>1.000000</td>\n",
       "      <td>1.000000</td>\n",
       "      <td>1.000000</td>\n",
       "      <td>0.000000</td>\n",
       "      <td>1.000000</td>\n",
       "      <td>NaN</td>\n",
       "    </tr>\n",
       "  </tbody>\n",
       "</table>\n",
       "</div>"
      ]
     },
     "metadata": {},
     "execution_count": 45
    }
   ],
   "metadata": {}
  },
  {
   "cell_type": "markdown",
   "source": [
    "# Plotting"
   ],
   "metadata": {}
  },
  {
   "cell_type": "code",
   "execution_count": 52,
   "source": [
    "plot = p9.ggplot(data= result_df, mapping = p9.aes(x=\"model\", y=\"statistical parity\")) \n",
    "plot+p9.geom_col()+p9.facet_grid(\"group~.\") + p9.theme(axis_text_x = p9.element_text(angle=90))\n"
   ],
   "outputs": [
    {
     "output_type": "display_data",
     "data": {
      "text/plain": [
       "<Figure size 640x480 with 2 Axes>"
      ],
      "image/svg+xml": "<?xml version=\"1.0\" encoding=\"utf-8\" standalone=\"no\"?>\n<!DOCTYPE svg PUBLIC \"-//W3C//DTD SVG 1.1//EN\"\n  \"http://www.w3.org/Graphics/SVG/1.1/DTD/svg11.dtd\">\n<svg height=\"414.428063pt\" version=\"1.1\" viewBox=\"0 0 419.810688 414.428063\" width=\"419.810688pt\" xmlns=\"http://www.w3.org/2000/svg\" xmlns:xlink=\"http://www.w3.org/1999/xlink\">\n <metadata>\n  <rdf:RDF xmlns:cc=\"http://creativecommons.org/ns#\" xmlns:dc=\"http://purl.org/dc/elements/1.1/\" xmlns:rdf=\"http://www.w3.org/1999/02/22-rdf-syntax-ns#\">\n   <cc:Work>\n    <dc:type rdf:resource=\"http://purl.org/dc/dcmitype/StillImage\"/>\n    <dc:date>2021-08-18T14:04:06.718129</dc:date>\n    <dc:format>image/svg+xml</dc:format>\n    <dc:creator>\n     <cc:Agent>\n      <dc:title>Matplotlib v3.4.2, https://matplotlib.org/</dc:title>\n     </cc:Agent>\n    </dc:creator>\n   </cc:Work>\n  </rdf:RDF>\n </metadata>\n <defs>\n  <style type=\"text/css\">*{stroke-linecap:butt;stroke-linejoin:round;}</style>\n </defs>\n <g id=\"figure_1\">\n  <g id=\"patch_1\">\n   <path d=\"M 0 414.428063 \nL 419.810688 414.428063 \nL 419.810688 0 \nL 0 0 \nz\n\" style=\"fill:#ffffff;stroke:#ffffff;stroke-linejoin:miter;\"/>\n  </g>\n  <g id=\"axes_1\">\n   <g id=\"patch_2\">\n    <path d=\"M 41.190688 137.736 \nL 398.310688 137.736 \nL 398.310688 7.2 \nL 41.190688 7.2 \nz\n\" style=\"fill:#ebebeb;\"/>\n   </g>\n   <g id=\"matplotlib.axis_1\">\n    <g id=\"xtick_1\">\n     <g id=\"line2d_1\">\n      <path clip-path=\"url(#p4fbc6339dd)\" d=\"M 70.950688 137.736 \nL 70.950688 7.2 \n\" style=\"fill:none;stroke:#ffffff;\"/>\n     </g>\n    </g>\n    <g id=\"xtick_2\">\n     <g id=\"line2d_2\">\n      <path clip-path=\"url(#p4fbc6339dd)\" d=\"M 120.550688 137.736 \nL 120.550688 7.2 \n\" style=\"fill:none;stroke:#ffffff;\"/>\n     </g>\n    </g>\n    <g id=\"xtick_3\">\n     <g id=\"line2d_3\">\n      <path clip-path=\"url(#p4fbc6339dd)\" d=\"M 170.150688 137.736 \nL 170.150688 7.2 \n\" style=\"fill:none;stroke:#ffffff;\"/>\n     </g>\n    </g>\n    <g id=\"xtick_4\">\n     <g id=\"line2d_4\">\n      <path clip-path=\"url(#p4fbc6339dd)\" d=\"M 219.750688 137.736 \nL 219.750688 7.2 \n\" style=\"fill:none;stroke:#ffffff;\"/>\n     </g>\n    </g>\n    <g id=\"xtick_5\">\n     <g id=\"line2d_5\">\n      <path clip-path=\"url(#p4fbc6339dd)\" d=\"M 269.350687 137.736 \nL 269.350687 7.2 \n\" style=\"fill:none;stroke:#ffffff;\"/>\n     </g>\n    </g>\n    <g id=\"xtick_6\">\n     <g id=\"line2d_6\">\n      <path clip-path=\"url(#p4fbc6339dd)\" d=\"M 318.950688 137.736 \nL 318.950688 7.2 \n\" style=\"fill:none;stroke:#ffffff;\"/>\n     </g>\n    </g>\n    <g id=\"xtick_7\">\n     <g id=\"line2d_7\">\n      <path clip-path=\"url(#p4fbc6339dd)\" d=\"M 368.550687 137.736 \nL 368.550687 7.2 \n\" style=\"fill:none;stroke:#ffffff;\"/>\n     </g>\n    </g>\n   </g>\n   <g id=\"matplotlib.axis_2\">\n    <g id=\"ytick_1\">\n     <g id=\"line2d_8\">\n      <path clip-path=\"url(#p4fbc6339dd)\" d=\"M 41.190688 131.802545 \nL 398.310688 131.802545 \n\" style=\"fill:none;stroke:#ffffff;\"/>\n     </g>\n     <g id=\"line2d_9\">\n      <path d=\"M 41.190688 131.802545 \n\" style=\"fill:none;stroke:#333333;stroke-width:1.5;\"/>\n      <defs>\n       <path d=\"M 0 0 \nL -2.75 0 \n\" id=\"m880f12627d\" style=\"stroke:#000000;\"/>\n      </defs>\n      <g>\n       <use style=\"fill:#333333;stroke:#000000;\" x=\"41.190688\" xlink:href=\"#m880f12627d\" y=\"131.802545\"/>\n      </g>\n     </g>\n     <g id=\"text_1\">\n      <!-- 0 -->\n      <g style=\"fill:#4d4d4d;\" transform=\"translate(30.641688 134.230795)scale(0.088 -0.088)\">\n       <defs>\n        <path d=\"M 2034 4250 \nQ 1547 4250 1301 3770 \nQ 1056 3291 1056 2328 \nQ 1056 1369 1301 889 \nQ 1547 409 2034 409 \nQ 2525 409 2770 889 \nQ 3016 1369 3016 2328 \nQ 3016 3291 2770 3770 \nQ 2525 4250 2034 4250 \nz\nM 2034 4750 \nQ 2819 4750 3233 4129 \nQ 3647 3509 3647 2328 \nQ 3647 1150 3233 529 \nQ 2819 -91 2034 -91 \nQ 1250 -91 836 529 \nQ 422 1150 422 2328 \nQ 422 3509 836 4129 \nQ 1250 4750 2034 4750 \nz\n\" id=\"DejaVuSans-30\" transform=\"scale(0.015625)\"/>\n       </defs>\n       <use xlink:href=\"#DejaVuSans-30\"/>\n      </g>\n     </g>\n    </g>\n    <g id=\"ytick_2\">\n     <g id=\"line2d_10\">\n      <path clip-path=\"url(#p4fbc6339dd)\" d=\"M 41.190688 98.940336 \nL 398.310688 98.940336 \n\" style=\"fill:none;stroke:#ffffff;\"/>\n     </g>\n     <g id=\"line2d_11\">\n      <path d=\"M 41.190688 98.940336 \n\" style=\"fill:none;stroke:#333333;stroke-width:1.5;\"/>\n      <g>\n       <use style=\"fill:#333333;stroke:#000000;\" x=\"41.190688\" xlink:href=\"#m880f12627d\" y=\"98.940336\"/>\n      </g>\n     </g>\n     <g id=\"text_2\">\n      <!-- 0.2 -->\n      <g style=\"fill:#4d4d4d;\" transform=\"translate(22.245938 101.368586)scale(0.088 -0.088)\">\n       <defs>\n        <path d=\"M 684 794 \nL 1344 794 \nL 1344 0 \nL 684 0 \nL 684 794 \nz\n\" id=\"DejaVuSans-2e\" transform=\"scale(0.015625)\"/>\n        <path d=\"M 1228 531 \nL 3431 531 \nL 3431 0 \nL 469 0 \nL 469 531 \nQ 828 903 1448 1529 \nQ 2069 2156 2228 2338 \nQ 2531 2678 2651 2914 \nQ 2772 3150 2772 3378 \nQ 2772 3750 2511 3984 \nQ 2250 4219 1831 4219 \nQ 1534 4219 1204 4116 \nQ 875 4013 500 3803 \nL 500 4441 \nQ 881 4594 1212 4672 \nQ 1544 4750 1819 4750 \nQ 2544 4750 2975 4387 \nQ 3406 4025 3406 3419 \nQ 3406 3131 3298 2873 \nQ 3191 2616 2906 2266 \nQ 2828 2175 2409 1742 \nQ 1991 1309 1228 531 \nz\n\" id=\"DejaVuSans-32\" transform=\"scale(0.015625)\"/>\n       </defs>\n       <use xlink:href=\"#DejaVuSans-30\"/>\n       <use x=\"63.623047\" xlink:href=\"#DejaVuSans-2e\"/>\n       <use x=\"95.410156\" xlink:href=\"#DejaVuSans-32\"/>\n      </g>\n     </g>\n    </g>\n    <g id=\"ytick_3\">\n     <g id=\"line2d_12\">\n      <path clip-path=\"url(#p4fbc6339dd)\" d=\"M 41.190688 66.078126 \nL 398.310688 66.078126 \n\" style=\"fill:none;stroke:#ffffff;\"/>\n     </g>\n     <g id=\"line2d_13\">\n      <path d=\"M 41.190688 66.078126 \n\" style=\"fill:none;stroke:#333333;stroke-width:1.5;\"/>\n      <g>\n       <use style=\"fill:#333333;stroke:#000000;\" x=\"41.190688\" xlink:href=\"#m880f12627d\" y=\"66.078126\"/>\n      </g>\n     </g>\n     <g id=\"text_3\">\n      <!-- 0.4 -->\n      <g style=\"fill:#4d4d4d;\" transform=\"translate(22.245938 68.506376)scale(0.088 -0.088)\">\n       <defs>\n        <path d=\"M 2419 4116 \nL 825 1625 \nL 2419 1625 \nL 2419 4116 \nz\nM 2253 4666 \nL 3047 4666 \nL 3047 1625 \nL 3713 1625 \nL 3713 1100 \nL 3047 1100 \nL 3047 0 \nL 2419 0 \nL 2419 1100 \nL 313 1100 \nL 313 1709 \nL 2253 4666 \nz\n\" id=\"DejaVuSans-34\" transform=\"scale(0.015625)\"/>\n       </defs>\n       <use xlink:href=\"#DejaVuSans-30\"/>\n       <use x=\"63.623047\" xlink:href=\"#DejaVuSans-2e\"/>\n       <use x=\"95.410156\" xlink:href=\"#DejaVuSans-34\"/>\n      </g>\n     </g>\n    </g>\n    <g id=\"ytick_4\">\n     <g id=\"line2d_14\">\n      <path clip-path=\"url(#p4fbc6339dd)\" d=\"M 41.190688 33.215916 \nL 398.310688 33.215916 \n\" style=\"fill:none;stroke:#ffffff;\"/>\n     </g>\n     <g id=\"line2d_15\">\n      <path d=\"M 41.190688 33.215916 \n\" style=\"fill:none;stroke:#333333;stroke-width:1.5;\"/>\n      <g>\n       <use style=\"fill:#333333;stroke:#000000;\" x=\"41.190688\" xlink:href=\"#m880f12627d\" y=\"33.215916\"/>\n      </g>\n     </g>\n     <g id=\"text_4\">\n      <!-- 0.6 -->\n      <g style=\"fill:#4d4d4d;\" transform=\"translate(22.245938 35.644166)scale(0.088 -0.088)\">\n       <defs>\n        <path d=\"M 2113 2584 \nQ 1688 2584 1439 2293 \nQ 1191 2003 1191 1497 \nQ 1191 994 1439 701 \nQ 1688 409 2113 409 \nQ 2538 409 2786 701 \nQ 3034 994 3034 1497 \nQ 3034 2003 2786 2293 \nQ 2538 2584 2113 2584 \nz\nM 3366 4563 \nL 3366 3988 \nQ 3128 4100 2886 4159 \nQ 2644 4219 2406 4219 \nQ 1781 4219 1451 3797 \nQ 1122 3375 1075 2522 \nQ 1259 2794 1537 2939 \nQ 1816 3084 2150 3084 \nQ 2853 3084 3261 2657 \nQ 3669 2231 3669 1497 \nQ 3669 778 3244 343 \nQ 2819 -91 2113 -91 \nQ 1303 -91 875 529 \nQ 447 1150 447 2328 \nQ 447 3434 972 4092 \nQ 1497 4750 2381 4750 \nQ 2619 4750 2861 4703 \nQ 3103 4656 3366 4563 \nz\n\" id=\"DejaVuSans-36\" transform=\"scale(0.015625)\"/>\n       </defs>\n       <use xlink:href=\"#DejaVuSans-30\"/>\n       <use x=\"63.623047\" xlink:href=\"#DejaVuSans-2e\"/>\n       <use x=\"95.410156\" xlink:href=\"#DejaVuSans-36\"/>\n      </g>\n     </g>\n    </g>\n    <g id=\"ytick_5\">\n     <g id=\"line2d_16\">\n      <path clip-path=\"url(#p4fbc6339dd)\" d=\"M 41.190688 115.371441 \nL 398.310688 115.371441 \n\" style=\"fill:none;stroke:#ffffff;stroke-width:0.5;\"/>\n     </g>\n    </g>\n    <g id=\"ytick_6\">\n     <g id=\"line2d_17\">\n      <path clip-path=\"url(#p4fbc6339dd)\" d=\"M 41.190688 82.509231 \nL 398.310688 82.509231 \n\" style=\"fill:none;stroke:#ffffff;stroke-width:0.5;\"/>\n     </g>\n    </g>\n    <g id=\"ytick_7\">\n     <g id=\"line2d_18\">\n      <path clip-path=\"url(#p4fbc6339dd)\" d=\"M 41.190688 49.647021 \nL 398.310688 49.647021 \n\" style=\"fill:none;stroke:#ffffff;stroke-width:0.5;\"/>\n     </g>\n    </g>\n    <g id=\"ytick_8\">\n     <g id=\"line2d_19\">\n      <path clip-path=\"url(#p4fbc6339dd)\" d=\"M 41.190688 16.784811 \nL 398.310688 16.784811 \n\" style=\"fill:none;stroke:#ffffff;stroke-width:0.5;\"/>\n     </g>\n    </g>\n    <g id=\"text_5\">\n     <!-- statistical parity -->\n     <g transform=\"translate(15.558281 182.886359)rotate(-90)scale(0.11 -0.11)\">\n      <defs>\n       <path d=\"M 2834 3397 \nL 2834 2853 \nQ 2591 2978 2328 3040 \nQ 2066 3103 1784 3103 \nQ 1356 3103 1142 2972 \nQ 928 2841 928 2578 \nQ 928 2378 1081 2264 \nQ 1234 2150 1697 2047 \nL 1894 2003 \nQ 2506 1872 2764 1633 \nQ 3022 1394 3022 966 \nQ 3022 478 2636 193 \nQ 2250 -91 1575 -91 \nQ 1294 -91 989 -36 \nQ 684 19 347 128 \nL 347 722 \nQ 666 556 975 473 \nQ 1284 391 1588 391 \nQ 1994 391 2212 530 \nQ 2431 669 2431 922 \nQ 2431 1156 2273 1281 \nQ 2116 1406 1581 1522 \nL 1381 1569 \nQ 847 1681 609 1914 \nQ 372 2147 372 2553 \nQ 372 3047 722 3315 \nQ 1072 3584 1716 3584 \nQ 2034 3584 2315 3537 \nQ 2597 3491 2834 3397 \nz\n\" id=\"DejaVuSans-73\" transform=\"scale(0.015625)\"/>\n       <path d=\"M 1172 4494 \nL 1172 3500 \nL 2356 3500 \nL 2356 3053 \nL 1172 3053 \nL 1172 1153 \nQ 1172 725 1289 603 \nQ 1406 481 1766 481 \nL 2356 481 \nL 2356 0 \nL 1766 0 \nQ 1100 0 847 248 \nQ 594 497 594 1153 \nL 594 3053 \nL 172 3053 \nL 172 3500 \nL 594 3500 \nL 594 4494 \nL 1172 4494 \nz\n\" id=\"DejaVuSans-74\" transform=\"scale(0.015625)\"/>\n       <path d=\"M 2194 1759 \nQ 1497 1759 1228 1600 \nQ 959 1441 959 1056 \nQ 959 750 1161 570 \nQ 1363 391 1709 391 \nQ 2188 391 2477 730 \nQ 2766 1069 2766 1631 \nL 2766 1759 \nL 2194 1759 \nz\nM 3341 1997 \nL 3341 0 \nL 2766 0 \nL 2766 531 \nQ 2569 213 2275 61 \nQ 1981 -91 1556 -91 \nQ 1019 -91 701 211 \nQ 384 513 384 1019 \nQ 384 1609 779 1909 \nQ 1175 2209 1959 2209 \nL 2766 2209 \nL 2766 2266 \nQ 2766 2663 2505 2880 \nQ 2244 3097 1772 3097 \nQ 1472 3097 1187 3025 \nQ 903 2953 641 2809 \nL 641 3341 \nQ 956 3463 1253 3523 \nQ 1550 3584 1831 3584 \nQ 2591 3584 2966 3190 \nQ 3341 2797 3341 1997 \nz\n\" id=\"DejaVuSans-61\" transform=\"scale(0.015625)\"/>\n       <path d=\"M 603 3500 \nL 1178 3500 \nL 1178 0 \nL 603 0 \nL 603 3500 \nz\nM 603 4863 \nL 1178 4863 \nL 1178 4134 \nL 603 4134 \nL 603 4863 \nz\n\" id=\"DejaVuSans-69\" transform=\"scale(0.015625)\"/>\n       <path d=\"M 3122 3366 \nL 3122 2828 \nQ 2878 2963 2633 3030 \nQ 2388 3097 2138 3097 \nQ 1578 3097 1268 2742 \nQ 959 2388 959 1747 \nQ 959 1106 1268 751 \nQ 1578 397 2138 397 \nQ 2388 397 2633 464 \nQ 2878 531 3122 666 \nL 3122 134 \nQ 2881 22 2623 -34 \nQ 2366 -91 2075 -91 \nQ 1284 -91 818 406 \nQ 353 903 353 1747 \nQ 353 2603 823 3093 \nQ 1294 3584 2113 3584 \nQ 2378 3584 2631 3529 \nQ 2884 3475 3122 3366 \nz\n\" id=\"DejaVuSans-63\" transform=\"scale(0.015625)\"/>\n       <path d=\"M 603 4863 \nL 1178 4863 \nL 1178 0 \nL 603 0 \nL 603 4863 \nz\n\" id=\"DejaVuSans-6c\" transform=\"scale(0.015625)\"/>\n       <path id=\"DejaVuSans-20\" transform=\"scale(0.015625)\"/>\n       <path d=\"M 1159 525 \nL 1159 -1331 \nL 581 -1331 \nL 581 3500 \nL 1159 3500 \nL 1159 2969 \nQ 1341 3281 1617 3432 \nQ 1894 3584 2278 3584 \nQ 2916 3584 3314 3078 \nQ 3713 2572 3713 1747 \nQ 3713 922 3314 415 \nQ 2916 -91 2278 -91 \nQ 1894 -91 1617 61 \nQ 1341 213 1159 525 \nz\nM 3116 1747 \nQ 3116 2381 2855 2742 \nQ 2594 3103 2138 3103 \nQ 1681 3103 1420 2742 \nQ 1159 2381 1159 1747 \nQ 1159 1113 1420 752 \nQ 1681 391 2138 391 \nQ 2594 391 2855 752 \nQ 3116 1113 3116 1747 \nz\n\" id=\"DejaVuSans-70\" transform=\"scale(0.015625)\"/>\n       <path d=\"M 2631 2963 \nQ 2534 3019 2420 3045 \nQ 2306 3072 2169 3072 \nQ 1681 3072 1420 2755 \nQ 1159 2438 1159 1844 \nL 1159 0 \nL 581 0 \nL 581 3500 \nL 1159 3500 \nL 1159 2956 \nQ 1341 3275 1631 3429 \nQ 1922 3584 2338 3584 \nQ 2397 3584 2469 3576 \nQ 2541 3569 2628 3553 \nL 2631 2963 \nz\n\" id=\"DejaVuSans-72\" transform=\"scale(0.015625)\"/>\n       <path d=\"M 2059 -325 \nQ 1816 -950 1584 -1140 \nQ 1353 -1331 966 -1331 \nL 506 -1331 \nL 506 -850 \nL 844 -850 \nQ 1081 -850 1212 -737 \nQ 1344 -625 1503 -206 \nL 1606 56 \nL 191 3500 \nL 800 3500 \nL 1894 763 \nL 2988 3500 \nL 3597 3500 \nL 2059 -325 \nz\n\" id=\"DejaVuSans-79\" transform=\"scale(0.015625)\"/>\n      </defs>\n      <use xlink:href=\"#DejaVuSans-73\"/>\n      <use x=\"52.099609\" xlink:href=\"#DejaVuSans-74\"/>\n      <use x=\"91.308594\" xlink:href=\"#DejaVuSans-61\"/>\n      <use x=\"152.587891\" xlink:href=\"#DejaVuSans-74\"/>\n      <use x=\"191.796875\" xlink:href=\"#DejaVuSans-69\"/>\n      <use x=\"219.580078\" xlink:href=\"#DejaVuSans-73\"/>\n      <use x=\"271.679688\" xlink:href=\"#DejaVuSans-74\"/>\n      <use x=\"310.888672\" xlink:href=\"#DejaVuSans-69\"/>\n      <use x=\"338.671875\" xlink:href=\"#DejaVuSans-63\"/>\n      <use x=\"393.652344\" xlink:href=\"#DejaVuSans-61\"/>\n      <use x=\"454.931641\" xlink:href=\"#DejaVuSans-6c\"/>\n      <use x=\"482.714844\" xlink:href=\"#DejaVuSans-20\"/>\n      <use x=\"514.501953\" xlink:href=\"#DejaVuSans-70\"/>\n      <use x=\"577.978516\" xlink:href=\"#DejaVuSans-61\"/>\n      <use x=\"639.257812\" xlink:href=\"#DejaVuSans-72\"/>\n      <use x=\"680.371094\" xlink:href=\"#DejaVuSans-69\"/>\n      <use x=\"708.154297\" xlink:href=\"#DejaVuSans-74\"/>\n      <use x=\"747.363281\" xlink:href=\"#DejaVuSans-79\"/>\n     </g>\n    </g>\n   </g>\n   <g id=\"PolyCollection_1\">\n    <path clip-path=\"url(#p4fbc6339dd)\" d=\"M 48.630688 131.802545 \nL 48.630688 31.390238 \nL 93.270688 31.390238 \nL 93.270688 131.802545 \nz\n\" style=\"fill:#595959;\"/>\n    <path clip-path=\"url(#p4fbc6339dd)\" d=\"M 98.230688 131.802545 \nL 98.230688 31.390238 \nL 142.870688 31.390238 \nL 142.870688 131.802545 \nz\n\" style=\"fill:#595959;\"/>\n    <path clip-path=\"url(#p4fbc6339dd)\" d=\"M 147.830688 131.802545 \nL 147.830688 13.133455 \nL 192.470688 13.133455 \nL 192.470688 131.802545 \nz\n\" style=\"fill:#595959;\"/>\n    <path clip-path=\"url(#p4fbc6339dd)\" d=\"M 197.430688 131.802545 \nL 197.430688 31.390238 \nL 242.070688 31.390238 \nL 242.070688 131.802545 \nz\n\" style=\"fill:#595959;\"/>\n    <path clip-path=\"url(#p4fbc6339dd)\" d=\"M 247.030688 131.802545 \nL 247.030688 40.518629 \nL 291.670687 40.518629 \nL 291.670687 131.802545 \nz\n\" style=\"fill:#595959;\"/>\n    <path clip-path=\"url(#p4fbc6339dd)\" d=\"M 296.630687 131.802545 \nL 296.630687 31.390238 \nL 341.270688 31.390238 \nL 341.270688 131.802545 \nz\n\" style=\"fill:#595959;\"/>\n    <path clip-path=\"url(#p4fbc6339dd)\" d=\"M 346.230687 131.802545 \nL 346.230687 31.390238 \nL 390.870688 31.390238 \nL 390.870688 131.802545 \nz\n\" style=\"fill:#595959;\"/>\n   </g>\n   <g id=\"patch_3\">\n    <path d=\"M 398.310688 137.736 \nL 412.610688 137.736 \nL 412.610688 7.2 \nL 398.310688 7.2 \nz\n\" style=\"fill:#d9d9d9;\"/>\n   </g>\n   <g id=\"text_6\">\n    <!-- priv -->\n    <g style=\"fill:#1a1a1a;\" transform=\"translate(403.032438 64.03925)rotate(-270)scale(0.088 -0.088)\">\n     <defs>\n      <path d=\"M 191 3500 \nL 800 3500 \nL 1894 563 \nL 2988 3500 \nL 3597 3500 \nL 2284 0 \nL 1503 0 \nL 191 3500 \nz\n\" id=\"DejaVuSans-76\" transform=\"scale(0.015625)\"/>\n     </defs>\n     <use xlink:href=\"#DejaVuSans-70\"/>\n     <use x=\"63.476562\" xlink:href=\"#DejaVuSans-72\"/>\n     <use x=\"104.589844\" xlink:href=\"#DejaVuSans-69\"/>\n     <use x=\"132.373047\" xlink:href=\"#DejaVuSans-76\"/>\n    </g>\n   </g>\n  </g>\n  <g id=\"axes_2\">\n   <g id=\"patch_4\">\n    <path d=\"M 41.190688 273.312 \nL 398.310688 273.312 \nL 398.310688 142.776 \nL 41.190688 142.776 \nz\n\" style=\"fill:#ebebeb;\"/>\n   </g>\n   <g id=\"matplotlib.axis_3\">\n    <g id=\"xtick_8\">\n     <g id=\"line2d_20\">\n      <path clip-path=\"url(#pd8c25e6b4c)\" d=\"M 70.950688 273.312 \nL 70.950688 142.776 \n\" style=\"fill:none;stroke:#ffffff;stroke-linecap:square;\"/>\n     </g>\n     <g id=\"line2d_21\">\n      <path d=\"M 70.950688 273.312 \n\" style=\"fill:none;stroke:#333333;stroke-linecap:square;stroke-width:1.5;\"/>\n      <defs>\n       <path d=\"M 0 0 \nL 0 2.75 \n\" id=\"m3d0fd91621\" style=\"stroke:#000000;\"/>\n      </defs>\n      <g>\n       <use style=\"fill:#333333;stroke:#000000;\" x=\"70.950688\" xlink:href=\"#m3d0fd91621\" y=\"273.312\"/>\n      </g>\n     </g>\n     <g id=\"text_7\">\n      <!-- AdaBoostClassifier -->\n      <g style=\"fill:#4d4d4d;\" transform=\"translate(73.378938 360.1185)rotate(-90)scale(0.088 -0.088)\">\n       <defs>\n        <path d=\"M 2188 4044 \nL 1331 1722 \nL 3047 1722 \nL 2188 4044 \nz\nM 1831 4666 \nL 2547 4666 \nL 4325 0 \nL 3669 0 \nL 3244 1197 \nL 1141 1197 \nL 716 0 \nL 50 0 \nL 1831 4666 \nz\n\" id=\"DejaVuSans-41\" transform=\"scale(0.015625)\"/>\n        <path d=\"M 2906 2969 \nL 2906 4863 \nL 3481 4863 \nL 3481 0 \nL 2906 0 \nL 2906 525 \nQ 2725 213 2448 61 \nQ 2172 -91 1784 -91 \nQ 1150 -91 751 415 \nQ 353 922 353 1747 \nQ 353 2572 751 3078 \nQ 1150 3584 1784 3584 \nQ 2172 3584 2448 3432 \nQ 2725 3281 2906 2969 \nz\nM 947 1747 \nQ 947 1113 1208 752 \nQ 1469 391 1925 391 \nQ 2381 391 2643 752 \nQ 2906 1113 2906 1747 \nQ 2906 2381 2643 2742 \nQ 2381 3103 1925 3103 \nQ 1469 3103 1208 2742 \nQ 947 2381 947 1747 \nz\n\" id=\"DejaVuSans-64\" transform=\"scale(0.015625)\"/>\n        <path d=\"M 1259 2228 \nL 1259 519 \nL 2272 519 \nQ 2781 519 3026 730 \nQ 3272 941 3272 1375 \nQ 3272 1813 3026 2020 \nQ 2781 2228 2272 2228 \nL 1259 2228 \nz\nM 1259 4147 \nL 1259 2741 \nL 2194 2741 \nQ 2656 2741 2882 2914 \nQ 3109 3088 3109 3444 \nQ 3109 3797 2882 3972 \nQ 2656 4147 2194 4147 \nL 1259 4147 \nz\nM 628 4666 \nL 2241 4666 \nQ 2963 4666 3353 4366 \nQ 3744 4066 3744 3513 \nQ 3744 3084 3544 2831 \nQ 3344 2578 2956 2516 \nQ 3422 2416 3680 2098 \nQ 3938 1781 3938 1306 \nQ 3938 681 3513 340 \nQ 3088 0 2303 0 \nL 628 0 \nL 628 4666 \nz\n\" id=\"DejaVuSans-42\" transform=\"scale(0.015625)\"/>\n        <path d=\"M 1959 3097 \nQ 1497 3097 1228 2736 \nQ 959 2375 959 1747 \nQ 959 1119 1226 758 \nQ 1494 397 1959 397 \nQ 2419 397 2687 759 \nQ 2956 1122 2956 1747 \nQ 2956 2369 2687 2733 \nQ 2419 3097 1959 3097 \nz\nM 1959 3584 \nQ 2709 3584 3137 3096 \nQ 3566 2609 3566 1747 \nQ 3566 888 3137 398 \nQ 2709 -91 1959 -91 \nQ 1206 -91 779 398 \nQ 353 888 353 1747 \nQ 353 2609 779 3096 \nQ 1206 3584 1959 3584 \nz\n\" id=\"DejaVuSans-6f\" transform=\"scale(0.015625)\"/>\n        <path d=\"M 4122 4306 \nL 4122 3641 \nQ 3803 3938 3442 4084 \nQ 3081 4231 2675 4231 \nQ 1875 4231 1450 3742 \nQ 1025 3253 1025 2328 \nQ 1025 1406 1450 917 \nQ 1875 428 2675 428 \nQ 3081 428 3442 575 \nQ 3803 722 4122 1019 \nL 4122 359 \nQ 3791 134 3420 21 \nQ 3050 -91 2638 -91 \nQ 1578 -91 968 557 \nQ 359 1206 359 2328 \nQ 359 3453 968 4101 \nQ 1578 4750 2638 4750 \nQ 3056 4750 3426 4639 \nQ 3797 4528 4122 4306 \nz\n\" id=\"DejaVuSans-43\" transform=\"scale(0.015625)\"/>\n        <path d=\"M 2375 4863 \nL 2375 4384 \nL 1825 4384 \nQ 1516 4384 1395 4259 \nQ 1275 4134 1275 3809 \nL 1275 3500 \nL 2222 3500 \nL 2222 3053 \nL 1275 3053 \nL 1275 0 \nL 697 0 \nL 697 3053 \nL 147 3053 \nL 147 3500 \nL 697 3500 \nL 697 3744 \nQ 697 4328 969 4595 \nQ 1241 4863 1831 4863 \nL 2375 4863 \nz\n\" id=\"DejaVuSans-66\" transform=\"scale(0.015625)\"/>\n        <path d=\"M 3597 1894 \nL 3597 1613 \nL 953 1613 \nQ 991 1019 1311 708 \nQ 1631 397 2203 397 \nQ 2534 397 2845 478 \nQ 3156 559 3463 722 \nL 3463 178 \nQ 3153 47 2828 -22 \nQ 2503 -91 2169 -91 \nQ 1331 -91 842 396 \nQ 353 884 353 1716 \nQ 353 2575 817 3079 \nQ 1281 3584 2069 3584 \nQ 2775 3584 3186 3129 \nQ 3597 2675 3597 1894 \nz\nM 3022 2063 \nQ 3016 2534 2758 2815 \nQ 2500 3097 2075 3097 \nQ 1594 3097 1305 2825 \nQ 1016 2553 972 2059 \nL 3022 2063 \nz\n\" id=\"DejaVuSans-65\" transform=\"scale(0.015625)\"/>\n       </defs>\n       <use xlink:href=\"#DejaVuSans-41\"/>\n       <use x=\"66.658203\" xlink:href=\"#DejaVuSans-64\"/>\n       <use x=\"130.134766\" xlink:href=\"#DejaVuSans-61\"/>\n       <use x=\"191.414062\" xlink:href=\"#DejaVuSans-42\"/>\n       <use x=\"260.017578\" xlink:href=\"#DejaVuSans-6f\"/>\n       <use x=\"321.199219\" xlink:href=\"#DejaVuSans-6f\"/>\n       <use x=\"382.380859\" xlink:href=\"#DejaVuSans-73\"/>\n       <use x=\"434.480469\" xlink:href=\"#DejaVuSans-74\"/>\n       <use x=\"473.689453\" xlink:href=\"#DejaVuSans-43\"/>\n       <use x=\"543.513672\" xlink:href=\"#DejaVuSans-6c\"/>\n       <use x=\"571.296875\" xlink:href=\"#DejaVuSans-61\"/>\n       <use x=\"632.576172\" xlink:href=\"#DejaVuSans-73\"/>\n       <use x=\"684.675781\" xlink:href=\"#DejaVuSans-73\"/>\n       <use x=\"736.775391\" xlink:href=\"#DejaVuSans-69\"/>\n       <use x=\"764.558594\" xlink:href=\"#DejaVuSans-66\"/>\n       <use x=\"799.763672\" xlink:href=\"#DejaVuSans-69\"/>\n       <use x=\"827.546875\" xlink:href=\"#DejaVuSans-65\"/>\n       <use x=\"889.070312\" xlink:href=\"#DejaVuSans-72\"/>\n      </g>\n     </g>\n    </g>\n    <g id=\"xtick_9\">\n     <g id=\"line2d_22\">\n      <path clip-path=\"url(#pd8c25e6b4c)\" d=\"M 120.550688 273.312 \nL 120.550688 142.776 \n\" style=\"fill:none;stroke:#ffffff;stroke-linecap:square;\"/>\n     </g>\n     <g id=\"line2d_23\">\n      <path d=\"M 120.550688 273.312 \n\" style=\"fill:none;stroke:#333333;stroke-linecap:square;stroke-width:1.5;\"/>\n      <g>\n       <use style=\"fill:#333333;stroke:#000000;\" x=\"120.550688\" xlink:href=\"#m3d0fd91621\" y=\"273.312\"/>\n      </g>\n     </g>\n     <g id=\"text_8\">\n      <!-- DecisionTreeClassifier -->\n      <g style=\"fill:#4d4d4d;\" transform=\"translate(122.978938 374.22325)rotate(-90)scale(0.088 -0.088)\">\n       <defs>\n        <path d=\"M 1259 4147 \nL 1259 519 \nL 2022 519 \nQ 2988 519 3436 956 \nQ 3884 1394 3884 2338 \nQ 3884 3275 3436 3711 \nQ 2988 4147 2022 4147 \nL 1259 4147 \nz\nM 628 4666 \nL 1925 4666 \nQ 3281 4666 3915 4102 \nQ 4550 3538 4550 2338 \nQ 4550 1131 3912 565 \nQ 3275 0 1925 0 \nL 628 0 \nL 628 4666 \nz\n\" id=\"DejaVuSans-44\" transform=\"scale(0.015625)\"/>\n        <path d=\"M 3513 2113 \nL 3513 0 \nL 2938 0 \nL 2938 2094 \nQ 2938 2591 2744 2837 \nQ 2550 3084 2163 3084 \nQ 1697 3084 1428 2787 \nQ 1159 2491 1159 1978 \nL 1159 0 \nL 581 0 \nL 581 3500 \nL 1159 3500 \nL 1159 2956 \nQ 1366 3272 1645 3428 \nQ 1925 3584 2291 3584 \nQ 2894 3584 3203 3211 \nQ 3513 2838 3513 2113 \nz\n\" id=\"DejaVuSans-6e\" transform=\"scale(0.015625)\"/>\n        <path d=\"M -19 4666 \nL 3928 4666 \nL 3928 4134 \nL 2272 4134 \nL 2272 0 \nL 1638 0 \nL 1638 4134 \nL -19 4134 \nL -19 4666 \nz\n\" id=\"DejaVuSans-54\" transform=\"scale(0.015625)\"/>\n       </defs>\n       <use xlink:href=\"#DejaVuSans-44\"/>\n       <use x=\"77.001953\" xlink:href=\"#DejaVuSans-65\"/>\n       <use x=\"138.525391\" xlink:href=\"#DejaVuSans-63\"/>\n       <use x=\"193.505859\" xlink:href=\"#DejaVuSans-69\"/>\n       <use x=\"221.289062\" xlink:href=\"#DejaVuSans-73\"/>\n       <use x=\"273.388672\" xlink:href=\"#DejaVuSans-69\"/>\n       <use x=\"301.171875\" xlink:href=\"#DejaVuSans-6f\"/>\n       <use x=\"362.353516\" xlink:href=\"#DejaVuSans-6e\"/>\n       <use x=\"425.732422\" xlink:href=\"#DejaVuSans-54\"/>\n       <use x=\"472.066406\" xlink:href=\"#DejaVuSans-72\"/>\n       <use x=\"510.929688\" xlink:href=\"#DejaVuSans-65\"/>\n       <use x=\"572.453125\" xlink:href=\"#DejaVuSans-65\"/>\n       <use x=\"633.976562\" xlink:href=\"#DejaVuSans-43\"/>\n       <use x=\"703.800781\" xlink:href=\"#DejaVuSans-6c\"/>\n       <use x=\"731.583984\" xlink:href=\"#DejaVuSans-61\"/>\n       <use x=\"792.863281\" xlink:href=\"#DejaVuSans-73\"/>\n       <use x=\"844.962891\" xlink:href=\"#DejaVuSans-73\"/>\n       <use x=\"897.0625\" xlink:href=\"#DejaVuSans-69\"/>\n       <use x=\"924.845703\" xlink:href=\"#DejaVuSans-66\"/>\n       <use x=\"960.050781\" xlink:href=\"#DejaVuSans-69\"/>\n       <use x=\"987.833984\" xlink:href=\"#DejaVuSans-65\"/>\n       <use x=\"1049.357422\" xlink:href=\"#DejaVuSans-72\"/>\n      </g>\n     </g>\n    </g>\n    <g id=\"xtick_10\">\n     <g id=\"line2d_24\">\n      <path clip-path=\"url(#pd8c25e6b4c)\" d=\"M 170.150688 273.312 \nL 170.150688 142.776 \n\" style=\"fill:none;stroke:#ffffff;stroke-linecap:square;\"/>\n     </g>\n     <g id=\"line2d_25\">\n      <path d=\"M 170.150688 273.312 \n\" style=\"fill:none;stroke:#333333;stroke-linecap:square;stroke-width:1.5;\"/>\n      <g>\n       <use style=\"fill:#333333;stroke:#000000;\" x=\"170.150688\" xlink:href=\"#m3d0fd91621\" y=\"273.312\"/>\n      </g>\n     </g>\n     <g id=\"text_9\">\n      <!-- GaussianNB -->\n      <g style=\"fill:#4d4d4d;\" transform=\"translate(172.578938 331.2545)rotate(-90)scale(0.088 -0.088)\">\n       <defs>\n        <path d=\"M 3809 666 \nL 3809 1919 \nL 2778 1919 \nL 2778 2438 \nL 4434 2438 \nL 4434 434 \nQ 4069 175 3628 42 \nQ 3188 -91 2688 -91 \nQ 1594 -91 976 548 \nQ 359 1188 359 2328 \nQ 359 3472 976 4111 \nQ 1594 4750 2688 4750 \nQ 3144 4750 3555 4637 \nQ 3966 4525 4313 4306 \nL 4313 3634 \nQ 3963 3931 3569 4081 \nQ 3175 4231 2741 4231 \nQ 1884 4231 1454 3753 \nQ 1025 3275 1025 2328 \nQ 1025 1384 1454 906 \nQ 1884 428 2741 428 \nQ 3075 428 3337 486 \nQ 3600 544 3809 666 \nz\n\" id=\"DejaVuSans-47\" transform=\"scale(0.015625)\"/>\n        <path d=\"M 544 1381 \nL 544 3500 \nL 1119 3500 \nL 1119 1403 \nQ 1119 906 1312 657 \nQ 1506 409 1894 409 \nQ 2359 409 2629 706 \nQ 2900 1003 2900 1516 \nL 2900 3500 \nL 3475 3500 \nL 3475 0 \nL 2900 0 \nL 2900 538 \nQ 2691 219 2414 64 \nQ 2138 -91 1772 -91 \nQ 1169 -91 856 284 \nQ 544 659 544 1381 \nz\nM 1991 3584 \nL 1991 3584 \nz\n\" id=\"DejaVuSans-75\" transform=\"scale(0.015625)\"/>\n        <path d=\"M 628 4666 \nL 1478 4666 \nL 3547 763 \nL 3547 4666 \nL 4159 4666 \nL 4159 0 \nL 3309 0 \nL 1241 3903 \nL 1241 0 \nL 628 0 \nL 628 4666 \nz\n\" id=\"DejaVuSans-4e\" transform=\"scale(0.015625)\"/>\n       </defs>\n       <use xlink:href=\"#DejaVuSans-47\"/>\n       <use x=\"77.490234\" xlink:href=\"#DejaVuSans-61\"/>\n       <use x=\"138.769531\" xlink:href=\"#DejaVuSans-75\"/>\n       <use x=\"202.148438\" xlink:href=\"#DejaVuSans-73\"/>\n       <use x=\"254.248047\" xlink:href=\"#DejaVuSans-73\"/>\n       <use x=\"306.347656\" xlink:href=\"#DejaVuSans-69\"/>\n       <use x=\"334.130859\" xlink:href=\"#DejaVuSans-61\"/>\n       <use x=\"395.410156\" xlink:href=\"#DejaVuSans-6e\"/>\n       <use x=\"458.789062\" xlink:href=\"#DejaVuSans-4e\"/>\n       <use x=\"533.59375\" xlink:href=\"#DejaVuSans-42\"/>\n      </g>\n     </g>\n    </g>\n    <g id=\"xtick_11\">\n     <g id=\"line2d_26\">\n      <path clip-path=\"url(#pd8c25e6b4c)\" d=\"M 219.750688 273.312 \nL 219.750688 142.776 \n\" style=\"fill:none;stroke:#ffffff;stroke-linecap:square;\"/>\n     </g>\n     <g id=\"line2d_27\">\n      <path d=\"M 219.750688 273.312 \n\" style=\"fill:none;stroke:#333333;stroke-linecap:square;stroke-width:1.5;\"/>\n      <g>\n       <use style=\"fill:#333333;stroke:#000000;\" x=\"219.750688\" xlink:href=\"#m3d0fd91621\" y=\"273.312\"/>\n      </g>\n     </g>\n     <g id=\"text_10\">\n      <!-- GaussianProcessClassifier -->\n      <g style=\"fill:#4d4d4d;\" transform=\"translate(222.178938 392.182125)rotate(-90)scale(0.088 -0.088)\">\n       <defs>\n        <path d=\"M 1259 4147 \nL 1259 2394 \nL 2053 2394 \nQ 2494 2394 2734 2622 \nQ 2975 2850 2975 3272 \nQ 2975 3691 2734 3919 \nQ 2494 4147 2053 4147 \nL 1259 4147 \nz\nM 628 4666 \nL 2053 4666 \nQ 2838 4666 3239 4311 \nQ 3641 3956 3641 3272 \nQ 3641 2581 3239 2228 \nQ 2838 1875 2053 1875 \nL 1259 1875 \nL 1259 0 \nL 628 0 \nL 628 4666 \nz\n\" id=\"DejaVuSans-50\" transform=\"scale(0.015625)\"/>\n       </defs>\n       <use xlink:href=\"#DejaVuSans-47\"/>\n       <use x=\"77.490234\" xlink:href=\"#DejaVuSans-61\"/>\n       <use x=\"138.769531\" xlink:href=\"#DejaVuSans-75\"/>\n       <use x=\"202.148438\" xlink:href=\"#DejaVuSans-73\"/>\n       <use x=\"254.248047\" xlink:href=\"#DejaVuSans-73\"/>\n       <use x=\"306.347656\" xlink:href=\"#DejaVuSans-69\"/>\n       <use x=\"334.130859\" xlink:href=\"#DejaVuSans-61\"/>\n       <use x=\"395.410156\" xlink:href=\"#DejaVuSans-6e\"/>\n       <use x=\"458.789062\" xlink:href=\"#DejaVuSans-50\"/>\n       <use x=\"517.341797\" xlink:href=\"#DejaVuSans-72\"/>\n       <use x=\"556.205078\" xlink:href=\"#DejaVuSans-6f\"/>\n       <use x=\"617.386719\" xlink:href=\"#DejaVuSans-63\"/>\n       <use x=\"672.367188\" xlink:href=\"#DejaVuSans-65\"/>\n       <use x=\"733.890625\" xlink:href=\"#DejaVuSans-73\"/>\n       <use x=\"785.990234\" xlink:href=\"#DejaVuSans-73\"/>\n       <use x=\"838.089844\" xlink:href=\"#DejaVuSans-43\"/>\n       <use x=\"907.914062\" xlink:href=\"#DejaVuSans-6c\"/>\n       <use x=\"935.697266\" xlink:href=\"#DejaVuSans-61\"/>\n       <use x=\"996.976562\" xlink:href=\"#DejaVuSans-73\"/>\n       <use x=\"1049.076172\" xlink:href=\"#DejaVuSans-73\"/>\n       <use x=\"1101.175781\" xlink:href=\"#DejaVuSans-69\"/>\n       <use x=\"1128.958984\" xlink:href=\"#DejaVuSans-66\"/>\n       <use x=\"1164.164062\" xlink:href=\"#DejaVuSans-69\"/>\n       <use x=\"1191.947266\" xlink:href=\"#DejaVuSans-65\"/>\n       <use x=\"1253.470703\" xlink:href=\"#DejaVuSans-72\"/>\n      </g>\n     </g>\n    </g>\n    <g id=\"xtick_12\">\n     <g id=\"line2d_28\">\n      <path clip-path=\"url(#pd8c25e6b4c)\" d=\"M 269.350687 273.312 \nL 269.350687 142.776 \n\" style=\"fill:none;stroke:#ffffff;stroke-linecap:square;\"/>\n     </g>\n     <g id=\"line2d_29\">\n      <path d=\"M 269.350687 273.312 \n\" style=\"fill:none;stroke:#333333;stroke-linecap:square;stroke-width:1.5;\"/>\n      <g>\n       <use style=\"fill:#333333;stroke:#000000;\" x=\"269.350687\" xlink:href=\"#m3d0fd91621\" y=\"273.312\"/>\n      </g>\n     </g>\n     <g id=\"text_11\">\n      <!-- KNeighborsClassifier -->\n      <g style=\"fill:#4d4d4d;\" transform=\"translate(271.778937 368.983125)rotate(-90)scale(0.088 -0.088)\">\n       <defs>\n        <path d=\"M 628 4666 \nL 1259 4666 \nL 1259 2694 \nL 3353 4666 \nL 4166 4666 \nL 1850 2491 \nL 4331 0 \nL 3500 0 \nL 1259 2247 \nL 1259 0 \nL 628 0 \nL 628 4666 \nz\n\" id=\"DejaVuSans-4b\" transform=\"scale(0.015625)\"/>\n        <path d=\"M 2906 1791 \nQ 2906 2416 2648 2759 \nQ 2391 3103 1925 3103 \nQ 1463 3103 1205 2759 \nQ 947 2416 947 1791 \nQ 947 1169 1205 825 \nQ 1463 481 1925 481 \nQ 2391 481 2648 825 \nQ 2906 1169 2906 1791 \nz\nM 3481 434 \nQ 3481 -459 3084 -895 \nQ 2688 -1331 1869 -1331 \nQ 1566 -1331 1297 -1286 \nQ 1028 -1241 775 -1147 \nL 775 -588 \nQ 1028 -725 1275 -790 \nQ 1522 -856 1778 -856 \nQ 2344 -856 2625 -561 \nQ 2906 -266 2906 331 \nL 2906 616 \nQ 2728 306 2450 153 \nQ 2172 0 1784 0 \nQ 1141 0 747 490 \nQ 353 981 353 1791 \nQ 353 2603 747 3093 \nQ 1141 3584 1784 3584 \nQ 2172 3584 2450 3431 \nQ 2728 3278 2906 2969 \nL 2906 3500 \nL 3481 3500 \nL 3481 434 \nz\n\" id=\"DejaVuSans-67\" transform=\"scale(0.015625)\"/>\n        <path d=\"M 3513 2113 \nL 3513 0 \nL 2938 0 \nL 2938 2094 \nQ 2938 2591 2744 2837 \nQ 2550 3084 2163 3084 \nQ 1697 3084 1428 2787 \nQ 1159 2491 1159 1978 \nL 1159 0 \nL 581 0 \nL 581 4863 \nL 1159 4863 \nL 1159 2956 \nQ 1366 3272 1645 3428 \nQ 1925 3584 2291 3584 \nQ 2894 3584 3203 3211 \nQ 3513 2838 3513 2113 \nz\n\" id=\"DejaVuSans-68\" transform=\"scale(0.015625)\"/>\n        <path d=\"M 3116 1747 \nQ 3116 2381 2855 2742 \nQ 2594 3103 2138 3103 \nQ 1681 3103 1420 2742 \nQ 1159 2381 1159 1747 \nQ 1159 1113 1420 752 \nQ 1681 391 2138 391 \nQ 2594 391 2855 752 \nQ 3116 1113 3116 1747 \nz\nM 1159 2969 \nQ 1341 3281 1617 3432 \nQ 1894 3584 2278 3584 \nQ 2916 3584 3314 3078 \nQ 3713 2572 3713 1747 \nQ 3713 922 3314 415 \nQ 2916 -91 2278 -91 \nQ 1894 -91 1617 61 \nQ 1341 213 1159 525 \nL 1159 0 \nL 581 0 \nL 581 4863 \nL 1159 4863 \nL 1159 2969 \nz\n\" id=\"DejaVuSans-62\" transform=\"scale(0.015625)\"/>\n       </defs>\n       <use xlink:href=\"#DejaVuSans-4b\"/>\n       <use x=\"65.576172\" xlink:href=\"#DejaVuSans-4e\"/>\n       <use x=\"140.380859\" xlink:href=\"#DejaVuSans-65\"/>\n       <use x=\"201.904297\" xlink:href=\"#DejaVuSans-69\"/>\n       <use x=\"229.6875\" xlink:href=\"#DejaVuSans-67\"/>\n       <use x=\"293.164062\" xlink:href=\"#DejaVuSans-68\"/>\n       <use x=\"356.542969\" xlink:href=\"#DejaVuSans-62\"/>\n       <use x=\"420.019531\" xlink:href=\"#DejaVuSans-6f\"/>\n       <use x=\"481.201172\" xlink:href=\"#DejaVuSans-72\"/>\n       <use x=\"522.314453\" xlink:href=\"#DejaVuSans-73\"/>\n       <use x=\"574.414062\" xlink:href=\"#DejaVuSans-43\"/>\n       <use x=\"644.238281\" xlink:href=\"#DejaVuSans-6c\"/>\n       <use x=\"672.021484\" xlink:href=\"#DejaVuSans-61\"/>\n       <use x=\"733.300781\" xlink:href=\"#DejaVuSans-73\"/>\n       <use x=\"785.400391\" xlink:href=\"#DejaVuSans-73\"/>\n       <use x=\"837.5\" xlink:href=\"#DejaVuSans-69\"/>\n       <use x=\"865.283203\" xlink:href=\"#DejaVuSans-66\"/>\n       <use x=\"900.488281\" xlink:href=\"#DejaVuSans-69\"/>\n       <use x=\"928.271484\" xlink:href=\"#DejaVuSans-65\"/>\n       <use x=\"989.794922\" xlink:href=\"#DejaVuSans-72\"/>\n      </g>\n     </g>\n    </g>\n    <g id=\"xtick_13\">\n     <g id=\"line2d_30\">\n      <path clip-path=\"url(#pd8c25e6b4c)\" d=\"M 318.950688 273.312 \nL 318.950688 142.776 \n\" style=\"fill:none;stroke:#ffffff;stroke-linecap:square;\"/>\n     </g>\n     <g id=\"line2d_31\">\n      <path d=\"M 318.950688 273.312 \n\" style=\"fill:none;stroke:#333333;stroke-linecap:square;stroke-width:1.5;\"/>\n      <g>\n       <use style=\"fill:#333333;stroke:#000000;\" x=\"318.950688\" xlink:href=\"#m3d0fd91621\" y=\"273.312\"/>\n      </g>\n     </g>\n     <g id=\"text_12\">\n      <!-- RandomForestClassifier -->\n      <g style=\"fill:#4d4d4d;\" transform=\"translate(321.378938 381.85725)rotate(-90)scale(0.088 -0.088)\">\n       <defs>\n        <path d=\"M 2841 2188 \nQ 3044 2119 3236 1894 \nQ 3428 1669 3622 1275 \nL 4263 0 \nL 3584 0 \nL 2988 1197 \nQ 2756 1666 2539 1819 \nQ 2322 1972 1947 1972 \nL 1259 1972 \nL 1259 0 \nL 628 0 \nL 628 4666 \nL 2053 4666 \nQ 2853 4666 3247 4331 \nQ 3641 3997 3641 3322 \nQ 3641 2881 3436 2590 \nQ 3231 2300 2841 2188 \nz\nM 1259 4147 \nL 1259 2491 \nL 2053 2491 \nQ 2509 2491 2742 2702 \nQ 2975 2913 2975 3322 \nQ 2975 3731 2742 3939 \nQ 2509 4147 2053 4147 \nL 1259 4147 \nz\n\" id=\"DejaVuSans-52\" transform=\"scale(0.015625)\"/>\n        <path d=\"M 3328 2828 \nQ 3544 3216 3844 3400 \nQ 4144 3584 4550 3584 \nQ 5097 3584 5394 3201 \nQ 5691 2819 5691 2113 \nL 5691 0 \nL 5113 0 \nL 5113 2094 \nQ 5113 2597 4934 2840 \nQ 4756 3084 4391 3084 \nQ 3944 3084 3684 2787 \nQ 3425 2491 3425 1978 \nL 3425 0 \nL 2847 0 \nL 2847 2094 \nQ 2847 2600 2669 2842 \nQ 2491 3084 2119 3084 \nQ 1678 3084 1418 2786 \nQ 1159 2488 1159 1978 \nL 1159 0 \nL 581 0 \nL 581 3500 \nL 1159 3500 \nL 1159 2956 \nQ 1356 3278 1631 3431 \nQ 1906 3584 2284 3584 \nQ 2666 3584 2933 3390 \nQ 3200 3197 3328 2828 \nz\n\" id=\"DejaVuSans-6d\" transform=\"scale(0.015625)\"/>\n        <path d=\"M 628 4666 \nL 3309 4666 \nL 3309 4134 \nL 1259 4134 \nL 1259 2759 \nL 3109 2759 \nL 3109 2228 \nL 1259 2228 \nL 1259 0 \nL 628 0 \nL 628 4666 \nz\n\" id=\"DejaVuSans-46\" transform=\"scale(0.015625)\"/>\n       </defs>\n       <use xlink:href=\"#DejaVuSans-52\"/>\n       <use x=\"67.232422\" xlink:href=\"#DejaVuSans-61\"/>\n       <use x=\"128.511719\" xlink:href=\"#DejaVuSans-6e\"/>\n       <use x=\"191.890625\" xlink:href=\"#DejaVuSans-64\"/>\n       <use x=\"255.367188\" xlink:href=\"#DejaVuSans-6f\"/>\n       <use x=\"316.548828\" xlink:href=\"#DejaVuSans-6d\"/>\n       <use x=\"413.960938\" xlink:href=\"#DejaVuSans-46\"/>\n       <use x=\"467.855469\" xlink:href=\"#DejaVuSans-6f\"/>\n       <use x=\"529.037109\" xlink:href=\"#DejaVuSans-72\"/>\n       <use x=\"567.900391\" xlink:href=\"#DejaVuSans-65\"/>\n       <use x=\"629.423828\" xlink:href=\"#DejaVuSans-73\"/>\n       <use x=\"681.523438\" xlink:href=\"#DejaVuSans-74\"/>\n       <use x=\"720.732422\" xlink:href=\"#DejaVuSans-43\"/>\n       <use x=\"790.556641\" xlink:href=\"#DejaVuSans-6c\"/>\n       <use x=\"818.339844\" xlink:href=\"#DejaVuSans-61\"/>\n       <use x=\"879.619141\" xlink:href=\"#DejaVuSans-73\"/>\n       <use x=\"931.71875\" xlink:href=\"#DejaVuSans-73\"/>\n       <use x=\"983.818359\" xlink:href=\"#DejaVuSans-69\"/>\n       <use x=\"1011.601562\" xlink:href=\"#DejaVuSans-66\"/>\n       <use x=\"1046.806641\" xlink:href=\"#DejaVuSans-69\"/>\n       <use x=\"1074.589844\" xlink:href=\"#DejaVuSans-65\"/>\n       <use x=\"1136.113281\" xlink:href=\"#DejaVuSans-72\"/>\n      </g>\n     </g>\n    </g>\n    <g id=\"xtick_14\">\n     <g id=\"line2d_32\">\n      <path clip-path=\"url(#pd8c25e6b4c)\" d=\"M 368.550687 273.312 \nL 368.550687 142.776 \n\" style=\"fill:none;stroke:#ffffff;stroke-linecap:square;\"/>\n     </g>\n     <g id=\"line2d_33\">\n      <path d=\"M 368.550687 273.312 \n\" style=\"fill:none;stroke:#333333;stroke-linecap:square;stroke-width:1.5;\"/>\n      <g>\n       <use style=\"fill:#333333;stroke:#000000;\" x=\"368.550687\" xlink:href=\"#m3d0fd91621\" y=\"273.312\"/>\n      </g>\n     </g>\n     <g id=\"text_13\">\n      <!-- SVC -->\n      <g style=\"fill:#4d4d4d;\" transform=\"translate(370.978937 296.01325)rotate(-90)scale(0.088 -0.088)\">\n       <defs>\n        <path d=\"M 3425 4513 \nL 3425 3897 \nQ 3066 4069 2747 4153 \nQ 2428 4238 2131 4238 \nQ 1616 4238 1336 4038 \nQ 1056 3838 1056 3469 \nQ 1056 3159 1242 3001 \nQ 1428 2844 1947 2747 \nL 2328 2669 \nQ 3034 2534 3370 2195 \nQ 3706 1856 3706 1288 \nQ 3706 609 3251 259 \nQ 2797 -91 1919 -91 \nQ 1588 -91 1214 -16 \nQ 841 59 441 206 \nL 441 856 \nQ 825 641 1194 531 \nQ 1563 422 1919 422 \nQ 2459 422 2753 634 \nQ 3047 847 3047 1241 \nQ 3047 1584 2836 1778 \nQ 2625 1972 2144 2069 \nL 1759 2144 \nQ 1053 2284 737 2584 \nQ 422 2884 422 3419 \nQ 422 4038 858 4394 \nQ 1294 4750 2059 4750 \nQ 2388 4750 2728 4690 \nQ 3069 4631 3425 4513 \nz\n\" id=\"DejaVuSans-53\" transform=\"scale(0.015625)\"/>\n        <path d=\"M 1831 0 \nL 50 4666 \nL 709 4666 \nL 2188 738 \nL 3669 4666 \nL 4325 4666 \nL 2547 0 \nL 1831 0 \nz\n\" id=\"DejaVuSans-56\" transform=\"scale(0.015625)\"/>\n       </defs>\n       <use xlink:href=\"#DejaVuSans-53\"/>\n       <use x=\"63.476562\" xlink:href=\"#DejaVuSans-56\"/>\n       <use x=\"131.884766\" xlink:href=\"#DejaVuSans-43\"/>\n      </g>\n     </g>\n    </g>\n    <g id=\"text_14\">\n     <!-- model -->\n     <g transform=\"translate(196.864203 404.940406)scale(0.11 -0.11)\">\n      <use xlink:href=\"#DejaVuSans-6d\"/>\n      <use x=\"97.412109\" xlink:href=\"#DejaVuSans-6f\"/>\n      <use x=\"158.59375\" xlink:href=\"#DejaVuSans-64\"/>\n      <use x=\"222.070312\" xlink:href=\"#DejaVuSans-65\"/>\n      <use x=\"283.59375\" xlink:href=\"#DejaVuSans-6c\"/>\n     </g>\n    </g>\n   </g>\n   <g id=\"matplotlib.axis_4\">\n    <g id=\"ytick_9\">\n     <g id=\"line2d_34\">\n      <path clip-path=\"url(#pd8c25e6b4c)\" d=\"M 41.190688 267.378545 \nL 398.310688 267.378545 \n\" style=\"fill:none;stroke:#ffffff;stroke-linecap:square;\"/>\n     </g>\n     <g id=\"line2d_35\">\n      <path d=\"M 41.190688 267.378545 \n\" style=\"fill:none;stroke:#333333;stroke-linecap:square;stroke-width:1.5;\"/>\n      <g>\n       <use style=\"fill:#333333;stroke:#000000;\" x=\"41.190688\" xlink:href=\"#m880f12627d\" y=\"267.378545\"/>\n      </g>\n     </g>\n     <g id=\"text_15\">\n      <!-- 0 -->\n      <g style=\"fill:#4d4d4d;\" transform=\"translate(30.641688 269.806795)scale(0.088 -0.088)\">\n       <use xlink:href=\"#DejaVuSans-30\"/>\n      </g>\n     </g>\n    </g>\n    <g id=\"ytick_10\">\n     <g id=\"line2d_36\">\n      <path clip-path=\"url(#pd8c25e6b4c)\" d=\"M 41.190688 234.516336 \nL 398.310688 234.516336 \n\" style=\"fill:none;stroke:#ffffff;stroke-linecap:square;\"/>\n     </g>\n     <g id=\"line2d_37\">\n      <path d=\"M 41.190688 234.516336 \n\" style=\"fill:none;stroke:#333333;stroke-linecap:square;stroke-width:1.5;\"/>\n      <g>\n       <use style=\"fill:#333333;stroke:#000000;\" x=\"41.190688\" xlink:href=\"#m880f12627d\" y=\"234.516336\"/>\n      </g>\n     </g>\n     <g id=\"text_16\">\n      <!-- 0.2 -->\n      <g style=\"fill:#4d4d4d;\" transform=\"translate(22.245938 236.944586)scale(0.088 -0.088)\">\n       <use xlink:href=\"#DejaVuSans-30\"/>\n       <use x=\"63.623047\" xlink:href=\"#DejaVuSans-2e\"/>\n       <use x=\"95.410156\" xlink:href=\"#DejaVuSans-32\"/>\n      </g>\n     </g>\n    </g>\n    <g id=\"ytick_11\">\n     <g id=\"line2d_38\">\n      <path clip-path=\"url(#pd8c25e6b4c)\" d=\"M 41.190688 201.654126 \nL 398.310688 201.654126 \n\" style=\"fill:none;stroke:#ffffff;stroke-linecap:square;\"/>\n     </g>\n     <g id=\"line2d_39\">\n      <path d=\"M 41.190688 201.654126 \n\" style=\"fill:none;stroke:#333333;stroke-linecap:square;stroke-width:1.5;\"/>\n      <g>\n       <use style=\"fill:#333333;stroke:#000000;\" x=\"41.190688\" xlink:href=\"#m880f12627d\" y=\"201.654126\"/>\n      </g>\n     </g>\n     <g id=\"text_17\">\n      <!-- 0.4 -->\n      <g style=\"fill:#4d4d4d;\" transform=\"translate(22.245938 204.082376)scale(0.088 -0.088)\">\n       <use xlink:href=\"#DejaVuSans-30\"/>\n       <use x=\"63.623047\" xlink:href=\"#DejaVuSans-2e\"/>\n       <use x=\"95.410156\" xlink:href=\"#DejaVuSans-34\"/>\n      </g>\n     </g>\n    </g>\n    <g id=\"ytick_12\">\n     <g id=\"line2d_40\">\n      <path clip-path=\"url(#pd8c25e6b4c)\" d=\"M 41.190688 168.791916 \nL 398.310688 168.791916 \n\" style=\"fill:none;stroke:#ffffff;stroke-linecap:square;\"/>\n     </g>\n     <g id=\"line2d_41\">\n      <path d=\"M 41.190688 168.791916 \n\" style=\"fill:none;stroke:#333333;stroke-linecap:square;stroke-width:1.5;\"/>\n      <g>\n       <use style=\"fill:#333333;stroke:#000000;\" x=\"41.190688\" xlink:href=\"#m880f12627d\" y=\"168.791916\"/>\n      </g>\n     </g>\n     <g id=\"text_18\">\n      <!-- 0.6 -->\n      <g style=\"fill:#4d4d4d;\" transform=\"translate(22.245938 171.220166)scale(0.088 -0.088)\">\n       <use xlink:href=\"#DejaVuSans-30\"/>\n       <use x=\"63.623047\" xlink:href=\"#DejaVuSans-2e\"/>\n       <use x=\"95.410156\" xlink:href=\"#DejaVuSans-36\"/>\n      </g>\n     </g>\n    </g>\n    <g id=\"ytick_13\">\n     <g id=\"line2d_42\">\n      <path clip-path=\"url(#pd8c25e6b4c)\" d=\"M 41.190688 250.947441 \nL 398.310688 250.947441 \n\" style=\"fill:none;stroke:#ffffff;stroke-linecap:square;stroke-width:0.5;\"/>\n     </g>\n    </g>\n    <g id=\"ytick_14\">\n     <g id=\"line2d_43\">\n      <path clip-path=\"url(#pd8c25e6b4c)\" d=\"M 41.190688 218.085231 \nL 398.310688 218.085231 \n\" style=\"fill:none;stroke:#ffffff;stroke-linecap:square;stroke-width:0.5;\"/>\n     </g>\n    </g>\n    <g id=\"ytick_15\">\n     <g id=\"line2d_44\">\n      <path clip-path=\"url(#pd8c25e6b4c)\" d=\"M 41.190688 185.223021 \nL 398.310688 185.223021 \n\" style=\"fill:none;stroke:#ffffff;stroke-linecap:square;stroke-width:0.5;\"/>\n     </g>\n    </g>\n    <g id=\"ytick_16\">\n     <g id=\"line2d_45\">\n      <path clip-path=\"url(#pd8c25e6b4c)\" d=\"M 41.190688 152.360811 \nL 398.310688 152.360811 \n\" style=\"fill:none;stroke:#ffffff;stroke-linecap:square;stroke-width:0.5;\"/>\n     </g>\n    </g>\n   </g>\n   <g id=\"PolyCollection_2\">\n    <path clip-path=\"url(#pd8c25e6b4c)\" d=\"M 48.630688 267.378545 \nL 48.630688 198.915608 \nL 93.270688 198.915608 \nL 93.270688 267.378545 \nz\n\" style=\"fill:#595959;\"/>\n    <path clip-path=\"url(#pd8c25e6b4c)\" d=\"M 98.230688 267.378545 \nL 98.230688 198.915608 \nL 142.870688 198.915608 \nL 142.870688 267.378545 \nz\n\" style=\"fill:#595959;\"/>\n    <path clip-path=\"url(#pd8c25e6b4c)\" d=\"M 147.830688 267.378545 \nL 147.830688 212.608196 \nL 192.470688 212.608196 \nL 192.470688 267.378545 \nz\n\" style=\"fill:#595959;\"/>\n    <path clip-path=\"url(#pd8c25e6b4c)\" d=\"M 197.430688 267.378545 \nL 197.430688 198.915608 \nL 242.070688 198.915608 \nL 242.070688 267.378545 \nz\n\" style=\"fill:#595959;\"/>\n    <path clip-path=\"url(#pd8c25e6b4c)\" d=\"M 247.030688 267.378545 \nL 247.030688 198.915608 \nL 291.670687 198.915608 \nL 291.670687 267.378545 \nz\n\" style=\"fill:#595959;\"/>\n    <path clip-path=\"url(#pd8c25e6b4c)\" d=\"M 296.630687 267.378545 \nL 296.630687 198.915608 \nL 341.270688 198.915608 \nL 341.270688 267.378545 \nz\n\" style=\"fill:#595959;\"/>\n    <path clip-path=\"url(#pd8c25e6b4c)\" d=\"M 346.230687 267.378545 \nL 346.230687 212.608196 \nL 390.870688 212.608196 \nL 390.870688 267.378545 \nz\n\" style=\"fill:#595959;\"/>\n   </g>\n   <g id=\"patch_5\">\n    <path d=\"M 398.310688 273.312 \nL 412.610688 273.312 \nL 412.610688 142.776 \nL 398.310688 142.776 \nz\n\" style=\"fill:#d9d9d9;\"/>\n   </g>\n   <g id=\"text_19\">\n    <!-- unpriv -->\n    <g style=\"fill:#1a1a1a;\" transform=\"translate(403.032438 194.03825)rotate(-270)scale(0.088 -0.088)\">\n     <use xlink:href=\"#DejaVuSans-75\"/>\n     <use x=\"63.378906\" xlink:href=\"#DejaVuSans-6e\"/>\n     <use x=\"126.757812\" xlink:href=\"#DejaVuSans-70\"/>\n     <use x=\"190.234375\" xlink:href=\"#DejaVuSans-72\"/>\n     <use x=\"231.347656\" xlink:href=\"#DejaVuSans-69\"/>\n     <use x=\"259.130859\" xlink:href=\"#DejaVuSans-76\"/>\n    </g>\n   </g>\n  </g>\n </g>\n <defs>\n  <clipPath id=\"p4fbc6339dd\">\n   <rect height=\"130.536\" width=\"357.12\" x=\"41.190688\" y=\"7.2\"/>\n  </clipPath>\n  <clipPath id=\"pd8c25e6b4c\">\n   <rect height=\"130.536\" width=\"357.12\" x=\"41.190688\" y=\"142.776\"/>\n  </clipPath>\n </defs>\n</svg>\n",
      "image/png": "[encoded data removed]"
     },
     "metadata": {}
    },
    {
     "output_type": "execute_result",
     "data": {
      "text/plain": [
       "<ggplot: (8758390913003)>"
      ]
     },
     "metadata": {},
     "execution_count": 52
    }
   ],
   "metadata": {}
  },
  {
   "cell_type": "code",
   "execution_count": null,
   "source": [],
   "outputs": [],
   "metadata": {}
  }
 ],
 "metadata": {
  "orig_nbformat": 4,
  "language_info": {
   "name": "python",
   "version": "3.8.10",
   "mimetype": "text/x-python",
   "codemirror_mode": {
    "name": "ipython",
    "version": 3
   },
   "pygments_lexer": "ipython3",
   "nbconvert_exporter": "python",
   "file_extension": ".py"
  },
  "kernelspec": {
   "name": "python3",
   "display_name": "Python 3.8.10 64-bit"
  },
  "interpreter": {
   "hash": "916dbcbb3f70747c44a77c7bcd40155683ae19c65e1c03b4aa3499c5328201f1"
  }
 },
 "nbformat": 4,
 "nbformat_minor": 2
}