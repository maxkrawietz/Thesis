{
 "cells": [
  {
   "cell_type": "markdown",
   "source": [
    "# Imports and Setups"
   ],
   "metadata": {}
  },
  {
   "cell_type": "code",
   "execution_count": null,
   "source": [
    "%load_ext autoreload\r\n",
    "%autoreload 2\r\n",
    "\r\n",
    "import pandas as pd\r\n",
    "import os\r\n",
    "import matplotlib.pyplot as plt\r\n",
    "import numpy as np\r\n",
    "import plotnine as p9\r\n",
    "from sklearn import preprocessing\r\n",
    "from sklearn.preprocessing import StandardScaler\r\n",
    "from sklearn.preprocessing import LabelBinarizer\r\n",
    "from sklearn.pipeline import Pipeline\r\n",
    "import transformer\r\n",
    "from sklearn.metrics import mean_squared_error\r\n",
    "from sklearn import metrics\r\n",
    "from fairnesTester import FairnessTester\r\n",
    "from sklearn.pipeline import FeatureUnion\r\n",
    "from sklearn.model_selection import train_test_split\r\n",
    "from fairnesTester import FairnessTester\r\n",
    "\r\n",
    "from sklearn.neighbors import KNeighborsClassifier\r\n",
    "from sklearn.svm import SVC\r\n",
    "from sklearn.tree import DecisionTreeClassifier, plot_tree, export_graphviz\r\n",
    "from sklearn.ensemble import RandomForestClassifier, AdaBoostClassifier, GradientBoostingClassifier\r\n",
    "from sklearn.naive_bayes import GaussianNB\r\n",
    "from sklearn.gaussian_process import GaussianProcessClassifier\r\n",
    "from xgboost import XGBClassifier\r\n",
    "\r\n",
    "#pipelines and transformer\r\n",
    "\r\n",
    "cat_trans = Pipeline(steps=[\r\n",
    "    (\"selector\", transformer.DataSelector(\"object\")),\r\n",
    "    (\"one_hot\", preprocessing.OneHotEncoder())\r\n",
    "])\r\n",
    "num_trans = Pipeline(steps=[\r\n",
    "    (\"selector\", transformer.DataSelector(\"number\")),\r\n",
    "    (\"scaler\", StandardScaler() )\r\n",
    "])\r\n",
    "\r\n",
    "pre_pipe = FeatureUnion(transformer_list=[\r\n",
    "    (\"cat\", cat_trans),\r\n",
    "    (\"num\", num_trans)\r\n",
    "])\r\n",
    "\r\n",
    "lb = LabelBinarizer()\r\n",
    "del_nan = transformer.DeleteNAN(\"\")"
   ],
   "outputs": [],
   "metadata": {}
  },
  {
   "cell_type": "markdown",
   "source": [
    "# Importing and preparing the data\n"
   ],
   "metadata": {}
  },
  {
   "cell_type": "markdown",
   "source": [
    "## Adult Income Data set"
   ],
   "metadata": {}
  },
  {
   "cell_type": "code",
   "execution_count": null,
   "source": [
    "filename = \"Datasets/adult.data\"\r\n",
    "names = [\"age\", \"workclass\", \"fnlwgt\",\"education\", \"education-num\", \"marital-status\", \"occupation\", \"relationship\", \"race\", \"sex\", \"capital-gain\", \"capital-loss\", \"hours-per-week\", \"native-country\", \"class\"]\r\n",
    "train = pd.read_csv(filename, names=names)\r\n",
    "test = test = pd.read_csv(\"Datasets/adult.test\", names=names)\r\n",
    "\r\n",
    "del_nan.set_nan_char(\" ?\")\r\n",
    "train = del_nan.transform(train)\r\n",
    "test = del_nan.transform(test)\r\n",
    "\r\n",
    "train[\"class\"] = lb.fit_transform(train[\"class\"])\r\n",
    "test[\"class\"] = lb.fit_transform(test[\"class\"])\r\n",
    "\r\n",
    "train_data = pre_pipe.fit_transform(train.drop(\"class\", axis=1))\r\n",
    "train_labels = train[\"class\"]\r\n",
    "\r\n",
    "test_data = pre_pipe.transform(test.drop(\"class\", axis=1))\r\n",
    "test_labels = test[\"class\"]\r\n",
    "\r\n",
    "#attribute for Fairness tester\r\n",
    "dataset_name = \"Adult_Income\"\r\n",
    "priv_val = \" Male\"\r\n",
    "unpriv_val = \" Female\"\r\n",
    "protected_att = \"sex\""
   ],
   "outputs": [],
   "metadata": {}
  },
  {
   "cell_type": "markdown",
   "source": [
    "## German Credit Dataset"
   ],
   "metadata": {}
  },
  {
   "cell_type": "code",
   "execution_count": null,
   "source": [
    "filename = \"Datasets/german.data\"\r\n",
    "names = [\"status existing account\",\"duration\", \"credit history\", \"purpose\", \"credit amount\", \"savings\", \"employment since\", \"installment rate\", \"sex\", \"other debtors\", \"residence since\", \"property\", \"age\", \"installment plans\", \"housing\", \"num existing credits\", \"job\", \"no of pople liable\", \"telephone\", \"foreign worker\", \"class\" ]\r\n",
    "data = pd.read_csv(filename, sep=\" \", names =names)\r\n",
    "\r\n",
    "data[\"class\"] = lb.fit_transform(data[\"class\"])\r\n",
    "\r\n",
    "data, test, train_labels, test_labels = train_test_split(data, data[\"class\"], random_state=42)\r\n",
    "\r\n",
    "train_data = pre_pipe.fit_transform(data.drop(\"class\", axis=1))\r\n",
    "test_data = pre_pipe.transform(test.drop(\"class\", axis=1))\r\n",
    "\r\n",
    "#transform for Fairness tester\r\n",
    "test[\"sex\"].replace([\"A91\",\"A93\", \"A94\"],\"m\",inplace=True)\r\n",
    "test[\"sex\"].replace([\"A92\",\"A95\"],\"f\",inplace=True)\r\n",
    "\r\n",
    "#attribute for Fairness tester\r\n",
    "dataset_name = \"German_Credit\"\r\n",
    "priv_val = \"m\"\r\n",
    "unpriv_val = \"f\"\r\n",
    "protected_att = \"sex\"\r\n"
   ],
   "outputs": [],
   "metadata": {}
  },
  {
   "cell_type": "markdown",
   "source": [
    "## Default of Creddit Card Payments"
   ],
   "metadata": {}
  },
  {
   "cell_type": "code",
   "execution_count": null,
   "source": [
    "filename = \"Datasets/default of credit.xls\"\r\n",
    "data_inp = pd.read_excel(filename, dtype={\"X1\": int,\"X2\": object,\"X3\": object,\"X4\": object,\"X5\": object,\"X6\": object,\"X7\": object,\"X8\": object,\"X9\": object,\"X10\": object,\"X11\": object,\"X12\": int,\"X13\": int,\"X14\": int,\"X15\": int,\"X16\": int,\"X17\": int,\"X23\": int,\"X18\": int,\"X19\": int,\"X20\": int,\"X21\": int,\"X22\": int})\r\n",
    "\r\n",
    "data_inp = data_inp.rename(columns={\"Y\": \"class\"})\r\n",
    "\r\n",
    "data, test, train_labels, test_labels = train_test_split(data_inp, data_inp[\"class\"], random_state=42)\r\n",
    "\r\n",
    "pre_pipe.fit(data_inp.drop(\"class\", axis=1))\r\n",
    "train_data = pre_pipe.transform(data.drop(\"class\", axis=1))\r\n",
    "test_data = pre_pipe.transform(test.drop(\"class\", axis=1))\r\n",
    "\r\n",
    "\r\n",
    "#attribute for Fairness tester\r\n",
    "dataset_name = \"Default_Of_Credit\"\r\n",
    "priv_val = 1 #male\r\n",
    "unpriv_val = 2 #female\r\n",
    "protected_att = \"X2\"\r\n",
    "\r\n"
   ],
   "outputs": [],
   "metadata": {}
  },
  {
   "cell_type": "markdown",
   "source": [
    "## Rici vs Stefano Dataset"
   ],
   "metadata": {}
  },
  {
   "cell_type": "code",
   "execution_count": null,
   "source": [
    "filename = \"Datasets/ricci.csv\"\r\n",
    "data_inp = pd.read_csv(filename).drop(\"Unnamed: 0\", axis=1)\r\n",
    "#applicants with combine >= 70 pass\r\n",
    "#read paper Did the Results of Promotion Exams Have a Disparate Impact on Minorities? Using Statistical Evidence in Ricci v. DeStefano\r\n",
    "data_inp.rename(columns={\"Combine\": \"class\"}, inplace=True)\r\n",
    "\r\n",
    "data_inp.loc[(data_inp[\"class\"]<70), \"class\"] = 0\r\n",
    "data_inp.loc[data_inp[\"class\"]>=70, \"class\"] = 1\r\n",
    "\r\n",
    "\r\n",
    "data, test, train_labels, test_labels = train_test_split(data_inp, data_inp[\"class\"], random_state=42)\r\n",
    "\r\n",
    "pre_pipe.fit(data_inp.drop(\"class\", axis=1))\r\n",
    "train_data = pre_pipe.transform(data.drop(\"class\", axis=1))\r\n",
    "test_data = pre_pipe.transform(test.drop(\"class\", axis=1))\r\n",
    "\r\n",
    "#transform for Fairness tester\r\n",
    "test[\"Race\"].replace([\"H\",\"B\",],\"NW\",inplace=True)\r\n",
    "\r\n",
    "\r\n",
    "#attribute for Fairness tester\r\n",
    "dataset_name = \"Ricci_vs_Stefano\"\r\n",
    "priv_val = \"W\" #white\r\n",
    "unpriv_val = \"NW\" #not white\r\n",
    "protected_att = \"Race\"\r\n"
   ],
   "outputs": [],
   "metadata": {}
  },
  {
   "cell_type": "markdown",
   "source": [
    "## Heart Disease Dataset"
   ],
   "metadata": {}
  },
  {
   "cell_type": "code",
   "execution_count": null,
   "source": [
    "filename = \"Datasets/processed.cleveland.data\"\r\n",
    "names = [\"age\", \"sex\", 3,4,5,6,7,8,9,10,11,12,13,\"class\"]\r\n",
    "data_inp = pd.read_csv(filename, names=names)\r\n",
    "\r\n",
    "\r\n",
    "data_inp.loc[data_inp[\"class\"]>=1, \"class\"] = 1 #existing heart disase\r\n",
    "\r\n",
    "data, test, train_labels, test_labels = train_test_split(data_inp, data_inp[\"class\"], random_state=42)\r\n",
    "\r\n",
    "pre_pipe.fit(data_inp.drop(\"class\", axis=1))\r\n",
    "train_data = pre_pipe.transform(data.drop(\"class\", axis=1))\r\n",
    "test_data = pre_pipe.transform(test.drop(\"class\", axis=1))\r\n",
    "\r\n",
    "\r\n",
    "#attribute for Fairness tester\r\n",
    "dataset_name = \"Heart_Diseases\"\r\n",
    "priv_val = 1 #male\r\n",
    "unpriv_val = 0 #female\r\n",
    "protected_att = \"sex\""
   ],
   "outputs": [],
   "metadata": {}
  },
  {
   "cell_type": "markdown",
   "source": [
    "## Heart Failure Dataset"
   ],
   "metadata": {}
  },
  {
   "cell_type": "code",
   "execution_count": null,
   "source": [
    "filename = \"Datasets/heart_failure.csv\"\r\n",
    "data_inp = pd.read_csv(filename)\r\n",
    "data_inp.rename(columns={\"DEATH_EVENT\":\"class\"}, inplace=True)\r\n",
    "\r\n",
    "data, test, train_labels, test_labels = train_test_split(data_inp, data_inp[\"class\"], random_state=42)\r\n",
    "\r\n",
    "\r\n",
    "pre_pipe.fit(data_inp.drop(\"class\", axis=1))\r\n",
    "train_data = pre_pipe.transform(data.drop(\"class\", axis=1))\r\n",
    "test_data = pre_pipe.transform(test.drop(\"class\", axis=1))\r\n",
    "\r\n",
    "\r\n",
    "#attribute for Fairness tester\r\n",
    "dataset_name = \"Heart_Failure\"\r\n",
    "priv_val = 1 #male\r\n",
    "unpriv_val = 0 #female\r\n",
    "protected_att = \"sex\""
   ],
   "outputs": [],
   "metadata": {}
  },
  {
   "cell_type": "markdown",
   "source": [
    "## Student Performance Data Set"
   ],
   "metadata": {}
  },
  {
   "cell_type": "code",
   "execution_count": null,
   "source": [
    "filename = \"Datasets/student-por.csv\"\r\n",
    "data_inp = pd.read_csv(filename, sep=\";\")\r\n",
    "\r\n",
    "data_inp.drop([\"G1\",\"G2\"],axis=1,inplace=True)\r\n",
    "data_inp.rename(columns={\"G3\":\"class\"},inplace=True)\r\n",
    "\r\n",
    "data_inp.loc[(data_inp[\"class\"]<10), \"class\"] = 0 #failed\r\n",
    "data_inp.loc[data_inp[\"class\"]>=10, \"class\"] = 1 #passed\r\n",
    "\r\n",
    "\r\n",
    "data, test, train_labels, test_labels = train_test_split(data_inp, data_inp[\"class\"], random_state=42)\r\n",
    "\r\n",
    "\r\n",
    "pre_pipe.fit(data_inp.drop(\"class\", axis=1))\r\n",
    "train_data = pre_pipe.transform(data.drop(\"class\", axis=1))\r\n",
    "test_data = pre_pipe.transform(test.drop(\"class\", axis=1))\r\n",
    "\r\n",
    "\r\n",
    "#attribute for Fairness tester\r\n",
    "dataset_name = \"Student_Performance\"\r\n",
    "priv_val = \"M\" #male\r\n",
    "unpriv_val = \"F\" #female\r\n",
    "protected_att = \"sex\"\r\n",
    "\r\n"
   ],
   "outputs": [],
   "metadata": {}
  },
  {
   "cell_type": "markdown",
   "source": [
    "# Classifiers"
   ],
   "metadata": {}
  },
  {
   "cell_type": "markdown",
   "source": [
    "## Decision Tree"
   ],
   "metadata": {}
  },
  {
   "cell_type": "code",
   "execution_count": null,
   "source": [
    "tree = DecisionTreeClassifier()\r\n",
    "tree.fit(train_data,train_labels)\r\n",
    "\r\n",
    "tree_pred = tree.predict(test_data)\r\n",
    "test[\"prediction\"] = tree_pred\r\n",
    "dataset_name"
   ],
   "outputs": [],
   "metadata": {}
  },
  {
   "cell_type": "markdown",
   "source": [
    "## Random Forest"
   ],
   "metadata": {}
  },
  {
   "cell_type": "code",
   "execution_count": null,
   "source": [
    "forest = RandomForestClassifier()\r\n",
    "forest.fit(train_data,train_labels)\r\n",
    "\r\n",
    "forest_pred = forest.predict(test_data)\r\n",
    "test[\"prediction\"] = forest_pred\r\n",
    "dataset_name"
   ],
   "outputs": [],
   "metadata": {}
  },
  {
   "cell_type": "code",
   "execution_count": null,
   "source": [
    "features = [\"X\", \"Race_White\", \"Race_Black\", \"Race_Hispanic\", \"Position_Leutantent\", \"Position_Captain\", \"oral\", \"written\"]\r\n",
    "export_graphviz(tree,out_file=\"decision_tree_graph\" , feature_names= features, fill=True)"
   ],
   "outputs": [],
   "metadata": {}
  },
  {
   "cell_type": "markdown",
   "source": [
    "## K-Nearest-Neighbour"
   ],
   "metadata": {}
  },
  {
   "cell_type": "code",
   "execution_count": null,
   "source": [
    "knn = KNeighborsClassifier(3)\r\n",
    "knn.fit(train_data,train_labels)\r\n",
    "\r\n",
    "knn_pred = knn.predict(test_data)\r\n",
    "test[\"prediction\"] = knn_pred\r\n",
    "dataset_name "
   ],
   "outputs": [],
   "metadata": {}
  },
  {
   "cell_type": "markdown",
   "source": [
    "## Support Vector Machine"
   ],
   "metadata": {}
  },
  {
   "cell_type": "code",
   "execution_count": null,
   "source": [
    "#nochmal dringend anschauen\r\n",
    "svc = SVC(kernel=\"rbf\", C=0.025, probability=True) \r\n",
    "svc.fit(train_data,train_labels)\r\n",
    "\r\n",
    "svc_pred = svc.predict(test_data)\r\n",
    "test[\"prediction\"] = svc_pred\r\n",
    "dataset_name"
   ],
   "outputs": [],
   "metadata": {}
  },
  {
   "cell_type": "markdown",
   "source": [
    "## Ada Boost "
   ],
   "metadata": {}
  },
  {
   "cell_type": "code",
   "execution_count": null,
   "source": [
    "ada = AdaBoostClassifier()\r\n",
    "svc.fit(train_data,train_labels)\r\n",
    "\r\n",
    "svc_pred = svc.predict(test_data)\r\n",
    "test[\"prediction\"] = svc_pred\r\n",
    "dataset_name"
   ],
   "outputs": [],
   "metadata": {}
  },
  {
   "cell_type": "markdown",
   "source": [
    "## Gaussian NB"
   ],
   "metadata": {}
  },
  {
   "cell_type": "code",
   "execution_count": null,
   "source": [
    "gnb = GaussianNB()\r\n",
    "gnb.fit(train_data.toarray(),train_labels)\r\n",
    "\r\n",
    "gnb_pred = gnb.predict(test_data.toarray())\r\n",
    "test[\"prediction\"] = gnb_pred\r\n",
    "dataset_name"
   ],
   "outputs": [],
   "metadata": {}
  },
  {
   "cell_type": "markdown",
   "source": [
    "## Gaussian Proccess Classifier"
   ],
   "metadata": {}
  },
  {
   "cell_type": "code",
   "execution_count": null,
   "source": [
    "gpc = GaussianProcessClassifier()\r\n",
    "gpc.fit(train_data.toarray(),train_labels)\r\n",
    "\r\n",
    "gpc_pred = gpc.predict(test_data.toarray())\r\n",
    "test[\"prediction\"] = gpc_pred\r\n",
    "gpc.__class__.__name__"
   ],
   "outputs": [],
   "metadata": {}
  },
  {
   "cell_type": "markdown",
   "source": [
    "## XGBoost"
   ],
   "metadata": {}
  },
  {
   "cell_type": "code",
   "execution_count": null,
   "source": [
    "xgb = XGBClassifier()\r\n",
    "xgb.fit(train_data.toarray(),train_labels)\r\n",
    "\r\n",
    "xgb_pred = xgb.predict(test_data.toarray())\r\n",
    "test[\"prediction\"] = xgb_pred"
   ],
   "outputs": [],
   "metadata": {}
  },
  {
   "cell_type": "markdown",
   "source": [
    "# Classifier List\r\n"
   ],
   "metadata": {}
  },
  {
   "cell_type": "code",
   "execution_count": null,
   "source": [
    "classifiers = [DecisionTreeClassifier(random_state=42),RandomForestClassifier(random_state=42),SVC(),AdaBoostClassifier(),KNeighborsClassifier(5), GaussianNB(), XGBClassifier()]\r\n",
    "model_names = []\r\n",
    "\r\n",
    "for model in classifiers:\r\n",
    "    \r\n",
    "    name = model.__class__.__name__\r\n",
    "    print(name)\r\n",
    "    model_names.append(name)\r\n",
    "\r\n",
    "    model.fit(train_data.toarray(), train_labels)\r\n",
    "    pred = model.predict(test_data.toarray())\r\n",
    "\r\n",
    "    test[name]=pred"
   ],
   "outputs": [],
   "metadata": {}
  },
  {
   "cell_type": "markdown",
   "source": [
    "# Testing for Fairness\r\n"
   ],
   "metadata": {}
  },
  {
   "cell_type": "markdown",
   "source": [
    "## testing one model"
   ],
   "metadata": {}
  },
  {
   "cell_type": "code",
   "execution_count": null,
   "source": [
    "tester = FairnessTester()\r\n",
    "tester.setup(test, protected_att, priv_val, unpriv_val)\r\n",
    "print(\"privileged confusion: \\n\",tester.priv_confusion_matrix())\r\n",
    "print(\"unprivileged confusion: \\n\", tester.unpriv_confusion_matrix())\r\n",
    "tester.confuison_based_dic()"
   ],
   "outputs": [],
   "metadata": {}
  },
  {
   "cell_type": "markdown",
   "source": [
    "## testing classifiers list"
   ],
   "metadata": {}
  },
  {
   "cell_type": "code",
   "execution_count": null,
   "source": [
    "tester = FairnessTester()\r\n",
    "\r\n",
    "\r\n",
    "result_df = pd.DataFrame()\r\n",
    "\r\n",
    "for name in model_names:\r\n",
    "    tester.setup(test, protected_att, priv_val, unpriv_val, name)\r\n",
    "    result_dic = {\"model\": name}\r\n",
    "    result_dic.update(tester.confusion_based_dic_priv())\r\n",
    "    result_df= result_df.append(result_dic, ignore_index=True)\r\n",
    "    \r\n",
    "    result_dic = {\"model\": name}\r\n",
    "    result_dic.update(tester.confusion_based_dic_unpriv())\r\n",
    "    result_df= result_df.append(result_dic, ignore_index=True)\r\n",
    "definitions_names = list(tester.confuison_based_dic().keys())\r\n",
    "result_df\r\n",
    "    "
   ],
   "outputs": [],
   "metadata": {}
  },
  {
   "cell_type": "code",
   "execution_count": null,
   "source": [
    "#fit all data into better selectable format(for complete plot of all definitions)\r\n",
    "\r\n",
    "full_result_df = pd.DataFrame()\r\n",
    "for model in model_names:\r\n",
    "    for defi in definitions_names:\r\n",
    "        for group in [\"priv\", \"unpriv\"]:    \r\n",
    "            #if defi == \"treatment equality\":   #skip treatment equality as it will destroy the scales for full plot\r\n",
    "            #    continue          \r\n",
    "            dic = {}\r\n",
    "            dic[\"model\"] = result_df.loc[(result_df[\"model\"]==model)&(result_df[\"group\"]==group)][\"model\"].item()\r\n",
    "            dic[\"group\"] = result_df.loc[(result_df[\"model\"]==model)&(result_df[\"group\"]==group)][\"group\"].item()\r\n",
    "            dic[\"definition\"] = defi\r\n",
    "            dic[\"result\"]= result_df.loc[(result_df[\"model\"]==model)&(result_df[\"group\"]==group)][defi].item()\r\n",
    "            full_result_df = full_result_df.append(dic, ignore_index=True)\r\n",
    "\r\n",
    "full_result_df\r\n",
    "        "
   ],
   "outputs": [],
   "metadata": {}
  },
  {
   "cell_type": "code",
   "execution_count": null,
   "source": [
    "# get differences from data\r\n",
    "\r\n",
    "differences = pd.DataFrame()\r\n",
    "\r\n",
    "for model in model_names:\r\n",
    "    for defi in definitions_names:   \r\n",
    "        if defi == \"treatment equality\":   #skip treatment equality as it will destroy the scales for full plot\r\n",
    "            continue          \r\n",
    "        dic = {}\r\n",
    "        dic[\"model\"] = result_df.loc[(result_df[\"model\"]==model)&(result_df[\"group\"]==group)][\"model\"].item()\r\n",
    "        x = result_df.loc[(result_df[\"model\"]==model)&(result_df[\"group\"]==\"priv\")][defi].item()\r\n",
    "        y = result_df.loc[(result_df[\"model\"]==model)&(result_df[\"group\"]==\"unpriv\")][defi].item()\r\n",
    "        dic[\"definition\"] = defi\r\n",
    "        diff = abs(x-y)\r\n",
    "        dic[\"difference\"]= diff\r\n",
    "        if (diff <=0.1): # implementing threshold for consideration of fairness/unfairness\r\n",
    "            dic[\"fairness\"]=\"Fair\"\r\n",
    "        else:\r\n",
    "            dic[\"fairness\"]=\"Unfair\"\r\n",
    "        differences = differences.append(dic, ignore_index=True)"
   ],
   "outputs": [],
   "metadata": {}
  },
  {
   "cell_type": "code",
   "execution_count": null,
   "source": [
    "differences"
   ],
   "outputs": [],
   "metadata": {}
  },
  {
   "cell_type": "code",
   "execution_count": null,
   "source": [
    "# get ratio from data\r\n",
    "\r\n",
    "ratio = pd.DataFrame()\r\n",
    "\r\n",
    "for model in model_names:\r\n",
    "    for defi in definitions_names:   \r\n",
    "        if defi == \"treatment equality\":   #skip treatment equality as it will destroy the scales for full plot\r\n",
    "            continue          \r\n",
    "        dic = {}\r\n",
    "        dic[\"model\"] = result_df.loc[(result_df[\"model\"]==model)&(result_df[\"group\"]==group)][\"model\"].item()\r\n",
    "        x = result_df.loc[(result_df[\"model\"]==model)&(result_df[\"group\"]==\"priv\")][defi].item()\r\n",
    "        y = result_df.loc[(result_df[\"model\"]==model)&(result_df[\"group\"]==\"unpriv\")][defi].item()\r\n",
    "        dic[\"definition\"] = defi\r\n",
    "        if (x == 0): #avoid dividing by zero\r\n",
    "            dic[\"ratio\"]= 0\r\n",
    "        else:\r\n",
    "            dic[\"ratio\"]= y/x\r\n",
    "        \r\n",
    "        ratio = ratio.append(dic, ignore_index=True)"
   ],
   "outputs": [],
   "metadata": {}
  },
  {
   "cell_type": "markdown",
   "source": [
    "# Plotting"
   ],
   "metadata": {}
  },
  {
   "cell_type": "code",
   "execution_count": null,
   "source": [
    "#one plot for each definition with color\r\n",
    "plots = []\r\n",
    "for definition in definitions_names:\r\n",
    "\r\n",
    "    plot = (p9.ggplot(data= result_df, mapping = p9.aes(x=\"model\", y=definition, fill=\"group\")) \r\n",
    "    + p9.geom_col(position=\"dodge\")\r\n",
    "    + p9.theme(axis_text_x = p9.element_text(angle=90))\r\n",
    "    + p9.labs(x=\"ML Models\", y= \"Results\", title=(definition+\" for \" + dataset_name)))\r\n",
    "    plots.append(plot) \r\n",
    "\r\n",
    "i=0\r\n",
    "for plot in plots:\r\n",
    "    plot.save(filename=\"plots/\"+dataset_name+\"/\"+dataset_name+\"_\"+definitions_names[i]+\"_color.png\")\r\n",
    "    i+=1"
   ],
   "outputs": [],
   "metadata": {}
  },
  {
   "cell_type": "code",
   "execution_count": null,
   "source": [
    "#overall plot for all definitions with color\r\n",
    "#skip treatment equality as it will destory the scales\r\n",
    "plot = (p9.ggplot(data= full_result_df.drop(full_result_df[full_result_df.definition==\"treatment equality\"].index), mapping = p9.aes(x=\"model\", y=\"result\", fill=\"group\")) \r\n",
    "    + p9.geom_col(position=\"dodge\")\r\n",
    "    + p9.facet_grid(\".~definition\") \r\n",
    "    + p9.theme(axis_text_x = p9.element_text(angle=90))\r\n",
    "    + p9.labs(x=\"ML Models\", y= \"Results\", title=(\" Complete results for \" + dataset_name))\r\n",
    "    )\r\n",
    "plot.save(filename=\"plots/\"+dataset_name+\"/\"+dataset_name+\"_complete_color.png\", height=4 , width = 17)"
   ],
   "outputs": [],
   "metadata": {}
  },
  {
   "cell_type": "code",
   "execution_count": null,
   "source": [
    "# plot differences\r\n",
    "plot = (p9.ggplot(data= differences, mapping = p9.aes(x=\"model\", y=\"difference\", fill=\"fairness\")) \r\n",
    "    + p9.geom_col(position=\"dodge\")\r\n",
    "    + p9.facet_grid(\".~definition\", space=\"free_x\", scales=\"fixed\") \r\n",
    "    + p9.theme(axis_text_x = p9.element_text(angle=90))\r\n",
    "    + p9.labs(x=\"ML Models\", y= \"Differences\", title=(\"Differences for \" + dataset_name))\r\n",
    "    + p9.ylim(0,1)\r\n",
    "    + p9.scale_fill_manual(values=(\"green\",\"red\"))\r\n",
    "    )\r\n",
    "plot.save(filename=\"plots/\"+dataset_name+\"/\"+dataset_name+\"_differences_scaled.png\", height=4 , width = 17)\r\n"
   ],
   "outputs": [],
   "metadata": {}
  },
  {
   "cell_type": "code",
   "execution_count": null,
   "source": [
    "# plot differences close\r\n",
    "plot = (p9.ggplot(data= differences, mapping = p9.aes(x=\"model\", y=\"difference\", fill=\"fairness\")) \r\n",
    "    + p9.geom_col(position=\"dodge\")\r\n",
    "    + p9.facet_grid(\".~definition\", space=\"free_x\", scales=\"fixed\") \r\n",
    "    + p9.theme(axis_text_x = p9.element_text(angle=90))\r\n",
    "    + p9.labs(x=\"ML Models\", y= \"Differences\", title=(\"Differences for \" + dataset_name))\r\n",
    "    + p9.scale_fill_manual(values=(\"green\",\"red\"))\r\n",
    "    )\r\n",
    "plot.save(filename=\"plots/\"+dataset_name+\"/\"+dataset_name+\"_differences_close.png\", height=4 , width = 17)"
   ],
   "outputs": [],
   "metadata": {}
  },
  {
   "cell_type": "code",
   "execution_count": null,
   "source": [
    "#plot ratio\r\n",
    "plot = (p9.ggplot(data= ratio, mapping = p9.aes(x=\"model\", y=\"ratio\")) \r\n",
    "    + p9.geom_col()\r\n",
    "    + p9.facet_grid(\".~definition\", space=\"free_x\", scales=\"free\") \r\n",
    "    + p9.theme(axis_text_x = p9.element_text(angle=90))\r\n",
    "    + p9.labs(x=\"ML Models\", y= \"Ratio\", title=(\"Ratio for \" + dataset_name))\r\n",
    "    )\r\n",
    "plot.save(filename=\"plots/\"+dataset_name+\"/\"+dataset_name+\"_ratio.png\", height=4 , width = 17)"
   ],
   "outputs": [],
   "metadata": {}
  }
 ],
 "metadata": {
  "orig_nbformat": 4,
  "language_info": {
   "name": "python",
   "version": "3.8.11",
   "mimetype": "text/x-python",
   "codemirror_mode": {
    "name": "ipython",
    "version": 3
   },
   "pygments_lexer": "ipython3",
   "nbconvert_exporter": "python",
   "file_extension": ".py"
  },
  "kernelspec": {
   "name": "python3",
   "display_name": "Python 3.8.11 64-bit ('code': conda)"
  },
  "interpreter": {
   "hash": "e5ece89884ccebb975b7476b07cac838ebecb97f5ba3e39f6a5146932c714791"
  }
 },
 "nbformat": 4,
 "nbformat_minor": 2
}