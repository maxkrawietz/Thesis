{
 "cells": [
  {
   "cell_type": "markdown",
   "source": [
    "# Imports and Setups"
   ],
   "metadata": {}
  },
  {
   "cell_type": "code",
   "execution_count": 7,
   "source": [
    "%load_ext autoreload\r\n",
    "%autoreload 2\r\n",
    "\r\n",
    "import pandas as pd\r\n",
    "import os\r\n",
    "import matplotlib.pyplot as plt\r\n",
    "import numpy as np\r\n",
    "import plotnine as p9\r\n",
    "from sklearn import preprocessing\r\n",
    "from sklearn.preprocessing import StandardScaler\r\n",
    "from sklearn.preprocessing import LabelBinarizer\r\n",
    "from sklearn.pipeline import Pipeline\r\n",
    "import transformer\r\n",
    "from sklearn.metrics import mean_squared_error\r\n",
    "from sklearn import metrics\r\n",
    "from fairnesTester import FairnessTester\r\n",
    "from sklearn.pipeline import FeatureUnion\r\n",
    "from sklearn.model_selection import train_test_split\r\n",
    "from fairnesTester import FairnessTester\r\n",
    "\r\n",
    "from sklearn.neighbors import KNeighborsClassifier\r\n",
    "from sklearn.svm import SVC\r\n",
    "from sklearn.tree import DecisionTreeClassifier\r\n",
    "from sklearn.ensemble import RandomForestClassifier, AdaBoostClassifier, GradientBoostingClassifier\r\n",
    "from sklearn.naive_bayes import GaussianNB\r\n",
    "from sklearn.gaussian_process import GaussianProcessClassifier\r\n"
   ],
   "outputs": [
    {
     "output_type": "stream",
     "name": "stdout",
     "text": [
      "The autoreload extension is already loaded. To reload it, use:\n",
      "  %reload_ext autoreload\n"
     ]
    }
   ],
   "metadata": {}
  },
  {
   "cell_type": "code",
   "execution_count": 8,
   "source": [
    "#pipelines and transformer\r\n",
    "\r\n",
    "cat_trans = Pipeline(steps=[\r\n",
    "    (\"selector\", transformer.DataSelector(\"object\")),\r\n",
    "    (\"one_hot\", preprocessing.OneHotEncoder())\r\n",
    "])\r\n",
    "num_trans = Pipeline(steps=[\r\n",
    "    (\"selector\", transformer.DataSelector(\"number\")),\r\n",
    "    (\"scaler\", StandardScaler() )\r\n",
    "])\r\n",
    "\r\n",
    "pre_pipe = FeatureUnion(transformer_list=[\r\n",
    "    (\"cat\", cat_trans),\r\n",
    "    (\"num\", num_trans)\r\n",
    "])\r\n",
    "\r\n",
    "lb = LabelBinarizer()\r\n",
    "del_nan = transformer.DeleteNAN(\"\")"
   ],
   "outputs": [],
   "metadata": {}
  },
  {
   "cell_type": "markdown",
   "source": [
    "# Importin and preparing the data\n"
   ],
   "metadata": {}
  },
  {
   "cell_type": "markdown",
   "source": [
    "## Adult Income Data set"
   ],
   "metadata": {}
  },
  {
   "cell_type": "code",
   "execution_count": 9,
   "source": [
    "filename = \"Datasets/adult.data\"\r\n",
    "names = [\"age\", \"workclass\", \"fnlwgt\",\"education\", \"education-num\", \"marital-status\", \"occupation\", \"relationship\", \"race\", \"sex\", \"capital-gain\", \"capital-loss\", \"hours-per-week\", \"native-country\", \"class\"]\r\n",
    "train = pd.read_csv(filename, names=names)\r\n",
    "test = test = pd.read_csv(\"Datasets/adult.test\", names=names)\r\n",
    "\r\n",
    "del_nan.set_nan_char(\" ?\")\r\n",
    "train = del_nan.transform(train)\r\n",
    "test = del_nan.transform(test)\r\n",
    "\r\n",
    "train[\"class\"] = lb.fit_transform(train[\"class\"])\r\n",
    "test[\"class\"] = lb.fit_transform(test[\"class\"])\r\n",
    "\r\n",
    "train_data = pre_pipe.fit_transform(train.drop(\"class\", axis=1))\r\n",
    "train_labels = train[\"class\"]\r\n",
    "\r\n",
    "test_data = pre_pipe.transform(test.drop(\"class\", axis=1))\r\n",
    "test_labels = test[\"class\"]\r\n",
    "\r\n",
    "#attribute for Fairness tester\r\n",
    "dataset_name = \"Adult_Income\"\r\n",
    "priv_val = \" Male\"\r\n",
    "unpriv_val = \" Female\"\r\n",
    "protected_att = \"sex\"\r\n",
    "\r\n"
   ],
   "outputs": [],
   "metadata": {}
  },
  {
   "cell_type": "markdown",
   "source": [
    "## German Credit Dataset"
   ],
   "metadata": {}
  },
  {
   "cell_type": "code",
   "execution_count": null,
   "source": [
    "filename = \"Datasets/german.data\"\r\n",
    "names = [\"status existing account\",\"duration\", \"credit history\", \"purpose\", \"credit amount\", \"savings\", \"employment since\", \"installment rate\", \"sex\", \"other debtors\", \"residence since\", \"property\", \"age\", \"installment plans\", \"housing\", \"num existing credits\", \"job\", \"no of pople liable\", \"telephone\", \"foreign worker\", \"class\" ]\r\n",
    "data = pd.read_csv(filename, sep=\" \", names =names)\r\n",
    "\r\n",
    "data[\"class\"] = lb.fit_transform(data[\"class\"])\r\n",
    "\r\n",
    "data, test, train_labels, test_labels = train_test_split(data, data[\"class\"], random_state=42)\r\n",
    "\r\n",
    "train_data = pre_pipe.fit_transform(data.drop(\"class\", axis=1))\r\n",
    "test_data = pre_pipe.transform(test.drop(\"class\", axis=1))\r\n",
    "\r\n",
    "#transform for Fairness tester\r\n",
    "test[\"sex\"].replace([\"A91\",\"A93\", \"A94\"],\"m\",inplace=True)\r\n",
    "test[\"sex\"].replace([\"A92\",\"A95\"],\"f\",inplace=True)\r\n",
    "\r\n",
    "#attribute for Fairness tester\r\n",
    "dataset_name = \"German_Credit\"\r\n",
    "priv_val = \"m\"\r\n",
    "unpriv_val = \"f\"\r\n",
    "protected_att = \"sex\"\r\n"
   ],
   "outputs": [],
   "metadata": {}
  },
  {
   "cell_type": "markdown",
   "source": [
    "## Default of Creddit Card Payments"
   ],
   "metadata": {}
  },
  {
   "cell_type": "code",
   "execution_count": null,
   "source": [
    "filename = \"Datasets/default of credit.xls\"\r\n",
    "data_inp = pd.read_excel(filename, dtype={\"X1\": int,\"X2\": object,\"X3\": object,\"X4\": object,\"X5\": object,\"X6\": object,\"X7\": object,\"X8\": object,\"X9\": object,\"X10\": object,\"X11\": object,\"X12\": int,\"X13\": int,\"X14\": int,\"X15\": int,\"X16\": int,\"X17\": int,\"X23\": int,\"X18\": int,\"X19\": int,\"X20\": int,\"X21\": int,\"X22\": int})\r\n",
    "\r\n",
    "data_inp = data_inp.rename(columns={\"Y\": \"class\"})\r\n",
    "\r\n",
    "data, test, train_labels, test_labels = train_test_split(data_inp, data_inp[\"class\"], random_state=42)\r\n",
    "\r\n",
    "pre_pipe.fit(data_inp.drop(\"class\", axis=1))\r\n",
    "train_data = pre_pipe.transform(data.drop(\"class\", axis=1))\r\n",
    "test_data = pre_pipe.transform(test.drop(\"class\", axis=1))\r\n",
    "\r\n",
    "\r\n",
    "#attribute for Fairness tester\r\n",
    "dataset_name = \"default_of_credit\"\r\n",
    "priv_val = 1 #male\r\n",
    "unpriv_val = 2 #female\r\n",
    "protected_att = \"X2\"\r\n",
    "\r\n"
   ],
   "outputs": [],
   "metadata": {}
  },
  {
   "cell_type": "markdown",
   "source": [
    "## Rici vs Stefano Dataset"
   ],
   "metadata": {}
  },
  {
   "cell_type": "code",
   "execution_count": null,
   "source": [
    "filename = \"Datasets/ricci.csv\"\r\n",
    "data_inp = pd.read_csv(filename).drop(\"Unnamed: 0\", axis=1)\r\n",
    "#applicants with combine >= 70 pass\r\n",
    "#read paper Did the Results of Promotion Exams Have a Disparate Impact on Minorities? Using Statistical Evidence in Ricci v. DeStefano\r\n",
    "data_inp.rename(columns={\"Combine\": \"class\"}, inplace=True)\r\n",
    "\r\n",
    "data_inp.loc[data_inp[\"class\"]>=70, \"class\"] = 1\r\n",
    "data_inp.loc[(data_inp[\"class\"]<70) & (data_inp[\"class\"]>1), \"class\"] = 0\r\n",
    "\r\n",
    "data, test, train_labels, test_labels = train_test_split(data_inp, data_inp[\"class\"], random_state=42)\r\n",
    "\r\n",
    "pre_pipe.fit(data_inp.drop(\"class\", axis=1))\r\n",
    "train_data = pre_pipe.transform(data.drop(\"class\", axis=1))\r\n",
    "test_data = pre_pipe.transform(test.drop(\"class\", axis=1))\r\n",
    "\r\n",
    "#transform for Fairness tester\r\n",
    "test[\"Race\"].replace([\"H\",\"B\",],\"NW\",inplace=True)\r\n",
    "\r\n",
    "\r\n",
    "#attribute for Fairness tester\r\n",
    "dataset_name = \"ricci_vs_stefano\"\r\n",
    "priv_val = \"W\" #white\r\n",
    "unpriv_val = \"NW\" #not white\r\n",
    "protected_att = \"Race\"\r\n"
   ],
   "outputs": [],
   "metadata": {}
  },
  {
   "cell_type": "markdown",
   "source": [
    "# Classifiers"
   ],
   "metadata": {}
  },
  {
   "cell_type": "markdown",
   "source": [
    "## Decision Tree"
   ],
   "metadata": {}
  },
  {
   "cell_type": "code",
   "execution_count": null,
   "source": [
    "tree = DecisionTreeClassifier()\r\n",
    "tree.fit(train_data,train_labels)\r\n",
    "\r\n",
    "tree_pred = tree.predict(test_data)\r\n",
    "test[\"prediction\"] = tree_pred\r\n",
    "dataset_name"
   ],
   "outputs": [],
   "metadata": {}
  },
  {
   "cell_type": "markdown",
   "source": [
    "## Random Forest"
   ],
   "metadata": {}
  },
  {
   "cell_type": "code",
   "execution_count": null,
   "source": [
    "forest = RandomForestClassifier()\r\n",
    "forest.fit(train_data,train_labels)\r\n",
    "\r\n",
    "forest_pred = forest.predict(test_data)\r\n",
    "test[\"prediction\"] = forest_pred\r\n",
    "dataset_name"
   ],
   "outputs": [],
   "metadata": {}
  },
  {
   "cell_type": "markdown",
   "source": [
    "## K-Nearest-Neighbour"
   ],
   "metadata": {}
  },
  {
   "cell_type": "code",
   "execution_count": null,
   "source": [
    "knn = KNeighborsClassifier(3)\r\n",
    "knn.fit(train_data,train_labels)\r\n",
    "\r\n",
    "knn_pred = knn.predict(test_data)\r\n",
    "test[\"prediction\"] = knn_pred\r\n",
    "dataset_name "
   ],
   "outputs": [],
   "metadata": {}
  },
  {
   "cell_type": "markdown",
   "source": [
    "## Support Vector Machine"
   ],
   "metadata": {}
  },
  {
   "cell_type": "code",
   "execution_count": 10,
   "source": [
    "#nochmal dringend anschauen\r\n",
    "svc = SVC(kernel=\"rbf\", C=0.025, probability=True) \r\n",
    "svc.fit(train_data,train_labels)\r\n",
    "\r\n",
    "svc_pred = svc.predict(test_data)\r\n",
    "test[\"prediction\"] = svc_pred\r\n",
    "dataset_name"
   ],
   "outputs": [
    {
     "output_type": "execute_result",
     "data": {
      "text/plain": [
       "'Adult_Income'"
      ]
     },
     "metadata": {},
     "execution_count": 10
    }
   ],
   "metadata": {}
  },
  {
   "cell_type": "markdown",
   "source": [
    "## Ada Boost "
   ],
   "metadata": {}
  },
  {
   "cell_type": "code",
   "execution_count": null,
   "source": [
    "ada = AdaBoostClassifier()\r\n",
    "svc.fit(train_data,train_labels)\r\n",
    "\r\n",
    "svc_pred = svc.predict(test_data)\r\n",
    "test[\"prediction\"] = svc_pred\r\n",
    "dataset_name"
   ],
   "outputs": [],
   "metadata": {}
  },
  {
   "cell_type": "markdown",
   "source": [
    "## Gaussian NB"
   ],
   "metadata": {}
  },
  {
   "cell_type": "code",
   "execution_count": null,
   "source": [
    "gnb = GaussianNB()\r\n",
    "gnb.fit(train_data.toarray(),train_labels)\r\n",
    "\r\n",
    "gnb_pred = gnb.predict(test_data.toarray())\r\n",
    "test[\"prediction\"] = gnb_pred\r\n",
    "dataset_name"
   ],
   "outputs": [],
   "metadata": {}
  },
  {
   "cell_type": "markdown",
   "source": [
    "## Gaussian Proccess Classifier"
   ],
   "metadata": {}
  },
  {
   "cell_type": "code",
   "execution_count": null,
   "source": [
    "gpc = GaussianProcessClassifier()\r\n",
    "gpc.fit(train_data.toarray(),train_labels)\r\n",
    "\r\n",
    "gpc_pred = gpc.predict(test_data.toarray())\r\n",
    "test[\"prediction\"] = gpc_pred\r\n",
    "gpc.__class__.__name__"
   ],
   "outputs": [],
   "metadata": {}
  },
  {
   "cell_type": "markdown",
   "source": [
    "# Classifier List\n"
   ],
   "metadata": {}
  },
  {
   "cell_type": "code",
   "execution_count": null,
   "source": [
    "classifiers = [DecisionTreeClassifier(),RandomForestClassifier(),SVC(),AdaBoostClassifier(),KNeighborsClassifier(5), GaussianProcessClassifier()]\r\n",
    "model_names = []\r\n",
    "for model in classifiers:\r\n",
    "    \r\n",
    "    name = model.__class__.__name__\r\n",
    "    model_names.append(name)\r\n",
    "\r\n",
    "    model.fit(train_data, train_labels)\r\n",
    "    pred = model.predict(test_data)\r\n",
    "    model.\r\n",
    "    test[name]=pred\r\n",
    "\r\n",
    "\r\n"
   ],
   "outputs": [],
   "metadata": {}
  },
  {
   "cell_type": "code",
   "execution_count": null,
   "source": [
    "test"
   ],
   "outputs": [],
   "metadata": {}
  },
  {
   "cell_type": "markdown",
   "source": [
    "# Testing for Fairness\n"
   ],
   "metadata": {}
  },
  {
   "cell_type": "markdown",
   "source": [
    "## testing one model"
   ],
   "metadata": {}
  },
  {
   "cell_type": "code",
   "execution_count": 11,
   "source": [
    "tester = FairnessTester()\r\n",
    "tester.setup(test, protected_att, priv_val, unpriv_val)\r\n",
    "print(\"privileged confusion: \\n\",tester.priv_confusion_matrix())\r\n",
    "print(\"unprivileged confusion: \\n\", tester.unpriv_confusion_matrix())\r\n",
    "tester.confuison_based_dic()"
   ],
   "outputs": [
    {
     "output_type": "stream",
     "name": "stdout",
     "text": [
      "privileged confusion: \n",
      " [[6467  537]\n",
      " [1445 1698]]\n",
      "unprivileged confusion: \n",
      " [[4327   29]\n",
      " [ 374  183]]\n"
     ]
    },
    {
     "output_type": "execute_result",
     "data": {
      "text/plain": [
       "{'statistical parity': [0.22026214644722578, 0.04315082434357826],\n",
       " 'predictive parity': [0.7597315436241611, 0.8632075471698113],\n",
       " 'negative predictive parity': [0.817366026289181, 0.9204424590512656],\n",
       " 'equal opportunity': [0.5402481705377028, 0.32854578096947934],\n",
       " 'predictive equality': [0.07667047401484865, 0.006657483930211203],\n",
       " 'overall accuracy equality': [0.8046713314280083, 0.9179727254223489],\n",
       " 'treatment equality': [0.16676491337624175, 0.009915022858630053]}"
      ]
     },
     "metadata": {},
     "execution_count": 11
    }
   ],
   "metadata": {}
  },
  {
   "cell_type": "markdown",
   "source": [
    "## testing classifiers list"
   ],
   "metadata": {}
  },
  {
   "cell_type": "code",
   "execution_count": 13,
   "source": [
    "tester = FairnessTester()\r\n",
    "\r\n",
    "model_names = [\"prediction\"]\r\n",
    "result_df = pd.DataFrame()\r\n",
    "\r\n",
    "for name in model_names:\r\n",
    "    tester.setup(test, protected_att, priv_val, unpriv_val, name)\r\n",
    "    result_dic = {\"model\": name}\r\n",
    "    result_dic.update(tester.confusion_based_dic_priv())\r\n",
    "    result_df= result_df.append(result_dic, ignore_index=True)\r\n",
    "    \r\n",
    "    result_dic = {\"model\": name}\r\n",
    "    result_dic.update(tester.confusion_based_dic_unpriv())\r\n",
    "    result_df= result_df.append(result_dic, ignore_index=True)\r\n",
    "\r\n",
    "result_df\r\n",
    "    "
   ],
   "outputs": [
    {
     "output_type": "execute_result",
     "data": {
      "text/plain": [
       "        model   group  statistical parity  predictive parity  \\\n",
       "0  prediction    priv            0.220262           0.759732   \n",
       "1  prediction  unpriv            0.043151           0.863208   \n",
       "\n",
       "   negative predictive parity  equal opportunity  predictive equality  \\\n",
       "0                    0.817366           0.540248             0.076670   \n",
       "1                    0.920442           0.328546             0.006657   \n",
       "\n",
       "   overall accuracy equality  treatment equality  \n",
       "0                   0.804671            0.166765  \n",
       "1                   0.917973            0.009915  "
      ],
      "text/html": [
       "<div>\n",
       "<style scoped>\n",
       "    .dataframe tbody tr th:only-of-type {\n",
       "        vertical-align: middle;\n",
       "    }\n",
       "\n",
       "    .dataframe tbody tr th {\n",
       "        vertical-align: top;\n",
       "    }\n",
       "\n",
       "    .dataframe thead th {\n",
       "        text-align: right;\n",
       "    }\n",
       "</style>\n",
       "<table border=\"1\" class=\"dataframe\">\n",
       "  <thead>\n",
       "    <tr style=\"text-align: right;\">\n",
       "      <th></th>\n",
       "      <th>model</th>\n",
       "      <th>group</th>\n",
       "      <th>statistical parity</th>\n",
       "      <th>predictive parity</th>\n",
       "      <th>negative predictive parity</th>\n",
       "      <th>equal opportunity</th>\n",
       "      <th>predictive equality</th>\n",
       "      <th>overall accuracy equality</th>\n",
       "      <th>treatment equality</th>\n",
       "    </tr>\n",
       "  </thead>\n",
       "  <tbody>\n",
       "    <tr>\n",
       "      <th>0</th>\n",
       "      <td>prediction</td>\n",
       "      <td>priv</td>\n",
       "      <td>0.220262</td>\n",
       "      <td>0.759732</td>\n",
       "      <td>0.817366</td>\n",
       "      <td>0.540248</td>\n",
       "      <td>0.076670</td>\n",
       "      <td>0.804671</td>\n",
       "      <td>0.166765</td>\n",
       "    </tr>\n",
       "    <tr>\n",
       "      <th>1</th>\n",
       "      <td>prediction</td>\n",
       "      <td>unpriv</td>\n",
       "      <td>0.043151</td>\n",
       "      <td>0.863208</td>\n",
       "      <td>0.920442</td>\n",
       "      <td>0.328546</td>\n",
       "      <td>0.006657</td>\n",
       "      <td>0.917973</td>\n",
       "      <td>0.009915</td>\n",
       "    </tr>\n",
       "  </tbody>\n",
       "</table>\n",
       "</div>"
      ]
     },
     "metadata": {},
     "execution_count": 13
    }
   ],
   "metadata": {}
  },
  {
   "cell_type": "markdown",
   "source": [
    "# Plotting"
   ],
   "metadata": {}
  },
  {
   "cell_type": "code",
   "execution_count": 14,
   "source": [
    "plot = p9.ggplot(data= result_df, mapping = p9.aes(x=\"model\", y=\"statistical parity\")) \r\n",
    "plot+p9.geom_col()+p9.facet_grid(\"group~.\") + p9.theme(axis_text_x = p9.element_text(angle=90))\r\n"
   ],
   "outputs": [
    {
     "output_type": "display_data",
     "data": {
      "text/plain": [
       "<Figure size 640x480 with 2 Axes>"
      ],
      "image/svg+xml": "<?xml version=\"1.0\" encoding=\"utf-8\" standalone=\"no\"?>\r\n<!DOCTYPE svg PUBLIC \"-//W3C//DTD SVG 1.1//EN\"\r\n  \"http://www.w3.org/Graphics/SVG/1.1/DTD/svg11.dtd\">\r\n<svg height=\"344.655062pt\" version=\"1.1\" viewBox=\"0 0 425.409688 344.655062\" width=\"425.409688pt\" xmlns=\"http://www.w3.org/2000/svg\" xmlns:xlink=\"http://www.w3.org/1999/xlink\">\r\n <metadata>\r\n  <rdf:RDF xmlns:cc=\"http://creativecommons.org/ns#\" xmlns:dc=\"http://purl.org/dc/elements/1.1/\" xmlns:rdf=\"http://www.w3.org/1999/02/22-rdf-syntax-ns#\">\r\n   <cc:Work>\r\n    <dc:type rdf:resource=\"http://purl.org/dc/dcmitype/StillImage\"/>\r\n    <dc:date>2021-08-19T16:30:50.567978</dc:date>\r\n    <dc:format>image/svg+xml</dc:format>\r\n    <dc:creator>\r\n     <cc:Agent>\r\n      <dc:title>Matplotlib v3.4.2, https://matplotlib.org/</dc:title>\r\n     </cc:Agent>\r\n    </dc:creator>\r\n   </cc:Work>\r\n  </rdf:RDF>\r\n </metadata>\r\n <defs>\r\n  <style type=\"text/css\">*{stroke-linecap:butt;stroke-linejoin:round;}</style>\r\n </defs>\r\n <g id=\"figure_1\">\r\n  <g id=\"patch_1\">\r\n   <path d=\"M 0 344.655062 \r\nL 425.409688 344.655062 \r\nL 425.409688 0 \r\nL 0 0 \r\nz\r\n\" style=\"fill:#ffffff;stroke:#ffffff;stroke-linejoin:miter;\"/>\r\n  </g>\r\n  <g id=\"axes_1\">\r\n   <g id=\"patch_2\">\r\n    <path d=\"M 46.789688 137.736 \r\nL 403.909688 137.736 \r\nL 403.909688 7.2 \r\nL 46.789688 7.2 \r\nz\r\n\" style=\"fill:#ebebeb;\"/>\r\n   </g>\r\n   <g id=\"matplotlib.axis_1\">\r\n    <g id=\"xtick_1\">\r\n     <g id=\"line2d_1\">\r\n      <path clip-path=\"url(#p4dcfbd32c3)\" d=\"M 225.349688 137.736 \r\nL 225.349688 7.2 \r\n\" style=\"fill:none;stroke:#ffffff;\"/>\r\n     </g>\r\n    </g>\r\n   </g>\r\n   <g id=\"matplotlib.axis_2\">\r\n    <g id=\"ytick_1\">\r\n     <g id=\"line2d_2\">\r\n      <path clip-path=\"url(#p4dcfbd32c3)\" d=\"M 46.789688 131.802545 \r\nL 403.909688 131.802545 \r\n\" style=\"fill:none;stroke:#ffffff;\"/>\r\n     </g>\r\n     <g id=\"line2d_3\">\r\n      <path d=\"M 46.789688 131.802545 \r\n\" style=\"fill:none;stroke:#333333;stroke-width:1.5;\"/>\r\n      <defs>\r\n       <path d=\"M 0 0 \r\nL -2.75 0 \r\n\" id=\"m3a3b2ac749\" style=\"stroke:#000000;\"/>\r\n      </defs>\r\n      <g>\r\n       <use style=\"fill:#333333;stroke:#000000;\" x=\"46.789688\" xlink:href=\"#m3a3b2ac749\" y=\"131.802545\"/>\r\n      </g>\r\n     </g>\r\n     <g id=\"text_1\">\r\n      <!-- 0 -->\r\n      <g style=\"fill:#4d4d4d;\" transform=\"translate(36.240688 134.230795)scale(0.088 -0.088)\">\r\n       <defs>\r\n        <path d=\"M 2034 4250 \r\nQ 1547 4250 1301 3770 \r\nQ 1056 3291 1056 2328 \r\nQ 1056 1369 1301 889 \r\nQ 1547 409 2034 409 \r\nQ 2525 409 2770 889 \r\nQ 3016 1369 3016 2328 \r\nQ 3016 3291 2770 3770 \r\nQ 2525 4250 2034 4250 \r\nz\r\nM 2034 4750 \r\nQ 2819 4750 3233 4129 \r\nQ 3647 3509 3647 2328 \r\nQ 3647 1150 3233 529 \r\nQ 2819 -91 2034 -91 \r\nQ 1250 -91 836 529 \r\nQ 422 1150 422 2328 \r\nQ 422 3509 836 4129 \r\nQ 1250 4750 2034 4750 \r\nz\r\n\" id=\"DejaVuSans-30\" transform=\"scale(0.015625)\"/>\r\n       </defs>\r\n       <use xlink:href=\"#DejaVuSans-30\"/>\r\n      </g>\r\n     </g>\r\n    </g>\r\n    <g id=\"ytick_2\">\r\n     <g id=\"line2d_4\">\r\n      <path clip-path=\"url(#p4dcfbd32c3)\" d=\"M 46.789688 104.864396 \r\nL 403.909688 104.864396 \r\n\" style=\"fill:none;stroke:#ffffff;\"/>\r\n     </g>\r\n     <g id=\"line2d_5\">\r\n      <path d=\"M 46.789688 104.864396 \r\n\" style=\"fill:none;stroke:#333333;stroke-width:1.5;\"/>\r\n      <g>\r\n       <use style=\"fill:#333333;stroke:#000000;\" x=\"46.789688\" xlink:href=\"#m3a3b2ac749\" y=\"104.864396\"/>\r\n      </g>\r\n     </g>\r\n     <g id=\"text_2\">\r\n      <!-- 0.05 -->\r\n      <g style=\"fill:#4d4d4d;\" transform=\"translate(22.245938 107.292646)scale(0.088 -0.088)\">\r\n       <defs>\r\n        <path d=\"M 684 794 \r\nL 1344 794 \r\nL 1344 0 \r\nL 684 0 \r\nL 684 794 \r\nz\r\n\" id=\"DejaVuSans-2e\" transform=\"scale(0.015625)\"/>\r\n        <path d=\"M 691 4666 \r\nL 3169 4666 \r\nL 3169 4134 \r\nL 1269 4134 \r\nL 1269 2991 \r\nQ 1406 3038 1543 3061 \r\nQ 1681 3084 1819 3084 \r\nQ 2600 3084 3056 2656 \r\nQ 3513 2228 3513 1497 \r\nQ 3513 744 3044 326 \r\nQ 2575 -91 1722 -91 \r\nQ 1428 -91 1123 -41 \r\nQ 819 9 494 109 \r\nL 494 744 \r\nQ 775 591 1075 516 \r\nQ 1375 441 1709 441 \r\nQ 2250 441 2565 725 \r\nQ 2881 1009 2881 1497 \r\nQ 2881 1984 2565 2268 \r\nQ 2250 2553 1709 2553 \r\nQ 1456 2553 1204 2497 \r\nQ 953 2441 691 2322 \r\nL 691 4666 \r\nz\r\n\" id=\"DejaVuSans-35\" transform=\"scale(0.015625)\"/>\r\n       </defs>\r\n       <use xlink:href=\"#DejaVuSans-30\"/>\r\n       <use x=\"63.623047\" xlink:href=\"#DejaVuSans-2e\"/>\r\n       <use x=\"95.410156\" xlink:href=\"#DejaVuSans-30\"/>\r\n       <use x=\"159.033203\" xlink:href=\"#DejaVuSans-35\"/>\r\n      </g>\r\n     </g>\r\n    </g>\r\n    <g id=\"ytick_3\">\r\n     <g id=\"line2d_6\">\r\n      <path clip-path=\"url(#p4dcfbd32c3)\" d=\"M 46.789688 77.926247 \r\nL 403.909688 77.926247 \r\n\" style=\"fill:none;stroke:#ffffff;\"/>\r\n     </g>\r\n     <g id=\"line2d_7\">\r\n      <path d=\"M 46.789688 77.926247 \r\n\" style=\"fill:none;stroke:#333333;stroke-width:1.5;\"/>\r\n      <g>\r\n       <use style=\"fill:#333333;stroke:#000000;\" x=\"46.789688\" xlink:href=\"#m3a3b2ac749\" y=\"77.926247\"/>\r\n      </g>\r\n     </g>\r\n     <g id=\"text_3\">\r\n      <!-- 0.10 -->\r\n      <g style=\"fill:#4d4d4d;\" transform=\"translate(22.245938 80.354497)scale(0.088 -0.088)\">\r\n       <defs>\r\n        <path d=\"M 794 531 \r\nL 1825 531 \r\nL 1825 4091 \r\nL 703 3866 \r\nL 703 4441 \r\nL 1819 4666 \r\nL 2450 4666 \r\nL 2450 531 \r\nL 3481 531 \r\nL 3481 0 \r\nL 794 0 \r\nL 794 531 \r\nz\r\n\" id=\"DejaVuSans-31\" transform=\"scale(0.015625)\"/>\r\n       </defs>\r\n       <use xlink:href=\"#DejaVuSans-30\"/>\r\n       <use x=\"63.623047\" xlink:href=\"#DejaVuSans-2e\"/>\r\n       <use x=\"95.410156\" xlink:href=\"#DejaVuSans-31\"/>\r\n       <use x=\"159.033203\" xlink:href=\"#DejaVuSans-30\"/>\r\n      </g>\r\n     </g>\r\n    </g>\r\n    <g id=\"ytick_4\">\r\n     <g id=\"line2d_8\">\r\n      <path clip-path=\"url(#p4dcfbd32c3)\" d=\"M 46.789688 50.988098 \r\nL 403.909688 50.988098 \r\n\" style=\"fill:none;stroke:#ffffff;\"/>\r\n     </g>\r\n     <g id=\"line2d_9\">\r\n      <path d=\"M 46.789688 50.988098 \r\n\" style=\"fill:none;stroke:#333333;stroke-width:1.5;\"/>\r\n      <g>\r\n       <use style=\"fill:#333333;stroke:#000000;\" x=\"46.789688\" xlink:href=\"#m3a3b2ac749\" y=\"50.988098\"/>\r\n      </g>\r\n     </g>\r\n     <g id=\"text_4\">\r\n      <!-- 0.15 -->\r\n      <g style=\"fill:#4d4d4d;\" transform=\"translate(22.245938 53.416348)scale(0.088 -0.088)\">\r\n       <use xlink:href=\"#DejaVuSans-30\"/>\r\n       <use x=\"63.623047\" xlink:href=\"#DejaVuSans-2e\"/>\r\n       <use x=\"95.410156\" xlink:href=\"#DejaVuSans-31\"/>\r\n       <use x=\"159.033203\" xlink:href=\"#DejaVuSans-35\"/>\r\n      </g>\r\n     </g>\r\n    </g>\r\n    <g id=\"ytick_5\">\r\n     <g id=\"line2d_10\">\r\n      <path clip-path=\"url(#p4dcfbd32c3)\" d=\"M 46.789688 24.049949 \r\nL 403.909688 24.049949 \r\n\" style=\"fill:none;stroke:#ffffff;\"/>\r\n     </g>\r\n     <g id=\"line2d_11\">\r\n      <path d=\"M 46.789688 24.049949 \r\n\" style=\"fill:none;stroke:#333333;stroke-width:1.5;\"/>\r\n      <g>\r\n       <use style=\"fill:#333333;stroke:#000000;\" x=\"46.789688\" xlink:href=\"#m3a3b2ac749\" y=\"24.049949\"/>\r\n      </g>\r\n     </g>\r\n     <g id=\"text_5\">\r\n      <!-- 0.20 -->\r\n      <g style=\"fill:#4d4d4d;\" transform=\"translate(22.245938 26.478199)scale(0.088 -0.088)\">\r\n       <defs>\r\n        <path d=\"M 1228 531 \r\nL 3431 531 \r\nL 3431 0 \r\nL 469 0 \r\nL 469 531 \r\nQ 828 903 1448 1529 \r\nQ 2069 2156 2228 2338 \r\nQ 2531 2678 2651 2914 \r\nQ 2772 3150 2772 3378 \r\nQ 2772 3750 2511 3984 \r\nQ 2250 4219 1831 4219 \r\nQ 1534 4219 1204 4116 \r\nQ 875 4013 500 3803 \r\nL 500 4441 \r\nQ 881 4594 1212 4672 \r\nQ 1544 4750 1819 4750 \r\nQ 2544 4750 2975 4387 \r\nQ 3406 4025 3406 3419 \r\nQ 3406 3131 3298 2873 \r\nQ 3191 2616 2906 2266 \r\nQ 2828 2175 2409 1742 \r\nQ 1991 1309 1228 531 \r\nz\r\n\" id=\"DejaVuSans-32\" transform=\"scale(0.015625)\"/>\r\n       </defs>\r\n       <use xlink:href=\"#DejaVuSans-30\"/>\r\n       <use x=\"63.623047\" xlink:href=\"#DejaVuSans-2e\"/>\r\n       <use x=\"95.410156\" xlink:href=\"#DejaVuSans-32\"/>\r\n       <use x=\"159.033203\" xlink:href=\"#DejaVuSans-30\"/>\r\n      </g>\r\n     </g>\r\n    </g>\r\n    <g id=\"ytick_6\">\r\n     <g id=\"line2d_12\">\r\n      <path clip-path=\"url(#p4dcfbd32c3)\" d=\"M 46.789688 118.333471 \r\nL 403.909688 118.333471 \r\n\" style=\"fill:none;stroke:#ffffff;stroke-width:0.5;\"/>\r\n     </g>\r\n    </g>\r\n    <g id=\"ytick_7\">\r\n     <g id=\"line2d_13\">\r\n      <path clip-path=\"url(#p4dcfbd32c3)\" d=\"M 46.789688 91.395322 \r\nL 403.909688 91.395322 \r\n\" style=\"fill:none;stroke:#ffffff;stroke-width:0.5;\"/>\r\n     </g>\r\n    </g>\r\n    <g id=\"ytick_8\">\r\n     <g id=\"line2d_14\">\r\n      <path clip-path=\"url(#p4dcfbd32c3)\" d=\"M 46.789688 64.457173 \r\nL 403.909688 64.457173 \r\n\" style=\"fill:none;stroke:#ffffff;stroke-width:0.5;\"/>\r\n     </g>\r\n    </g>\r\n    <g id=\"ytick_9\">\r\n     <g id=\"line2d_15\">\r\n      <path clip-path=\"url(#p4dcfbd32c3)\" d=\"M 46.789688 37.519024 \r\nL 403.909688 37.519024 \r\n\" style=\"fill:none;stroke:#ffffff;stroke-width:0.5;\"/>\r\n     </g>\r\n    </g>\r\n    <g id=\"ytick_10\">\r\n     <g id=\"line2d_16\">\r\n      <path clip-path=\"url(#p4dcfbd32c3)\" d=\"M 46.789688 10.580874 \r\nL 403.909688 10.580874 \r\n\" style=\"fill:none;stroke:#ffffff;stroke-width:0.5;\"/>\r\n     </g>\r\n    </g>\r\n    <g id=\"text_6\">\r\n     <!-- statistical parity -->\r\n     <g transform=\"translate(15.558281 182.886359)rotate(-90)scale(0.11 -0.11)\">\r\n      <defs>\r\n       <path d=\"M 2834 3397 \r\nL 2834 2853 \r\nQ 2591 2978 2328 3040 \r\nQ 2066 3103 1784 3103 \r\nQ 1356 3103 1142 2972 \r\nQ 928 2841 928 2578 \r\nQ 928 2378 1081 2264 \r\nQ 1234 2150 1697 2047 \r\nL 1894 2003 \r\nQ 2506 1872 2764 1633 \r\nQ 3022 1394 3022 966 \r\nQ 3022 478 2636 193 \r\nQ 2250 -91 1575 -91 \r\nQ 1294 -91 989 -36 \r\nQ 684 19 347 128 \r\nL 347 722 \r\nQ 666 556 975 473 \r\nQ 1284 391 1588 391 \r\nQ 1994 391 2212 530 \r\nQ 2431 669 2431 922 \r\nQ 2431 1156 2273 1281 \r\nQ 2116 1406 1581 1522 \r\nL 1381 1569 \r\nQ 847 1681 609 1914 \r\nQ 372 2147 372 2553 \r\nQ 372 3047 722 3315 \r\nQ 1072 3584 1716 3584 \r\nQ 2034 3584 2315 3537 \r\nQ 2597 3491 2834 3397 \r\nz\r\n\" id=\"DejaVuSans-73\" transform=\"scale(0.015625)\"/>\r\n       <path d=\"M 1172 4494 \r\nL 1172 3500 \r\nL 2356 3500 \r\nL 2356 3053 \r\nL 1172 3053 \r\nL 1172 1153 \r\nQ 1172 725 1289 603 \r\nQ 1406 481 1766 481 \r\nL 2356 481 \r\nL 2356 0 \r\nL 1766 0 \r\nQ 1100 0 847 248 \r\nQ 594 497 594 1153 \r\nL 594 3053 \r\nL 172 3053 \r\nL 172 3500 \r\nL 594 3500 \r\nL 594 4494 \r\nL 1172 4494 \r\nz\r\n\" id=\"DejaVuSans-74\" transform=\"scale(0.015625)\"/>\r\n       <path d=\"M 2194 1759 \r\nQ 1497 1759 1228 1600 \r\nQ 959 1441 959 1056 \r\nQ 959 750 1161 570 \r\nQ 1363 391 1709 391 \r\nQ 2188 391 2477 730 \r\nQ 2766 1069 2766 1631 \r\nL 2766 1759 \r\nL 2194 1759 \r\nz\r\nM 3341 1997 \r\nL 3341 0 \r\nL 2766 0 \r\nL 2766 531 \r\nQ 2569 213 2275 61 \r\nQ 1981 -91 1556 -91 \r\nQ 1019 -91 701 211 \r\nQ 384 513 384 1019 \r\nQ 384 1609 779 1909 \r\nQ 1175 2209 1959 2209 \r\nL 2766 2209 \r\nL 2766 2266 \r\nQ 2766 2663 2505 2880 \r\nQ 2244 3097 1772 3097 \r\nQ 1472 3097 1187 3025 \r\nQ 903 2953 641 2809 \r\nL 641 3341 \r\nQ 956 3463 1253 3523 \r\nQ 1550 3584 1831 3584 \r\nQ 2591 3584 2966 3190 \r\nQ 3341 2797 3341 1997 \r\nz\r\n\" id=\"DejaVuSans-61\" transform=\"scale(0.015625)\"/>\r\n       <path d=\"M 603 3500 \r\nL 1178 3500 \r\nL 1178 0 \r\nL 603 0 \r\nL 603 3500 \r\nz\r\nM 603 4863 \r\nL 1178 4863 \r\nL 1178 4134 \r\nL 603 4134 \r\nL 603 4863 \r\nz\r\n\" id=\"DejaVuSans-69\" transform=\"scale(0.015625)\"/>\r\n       <path d=\"M 3122 3366 \r\nL 3122 2828 \r\nQ 2878 2963 2633 3030 \r\nQ 2388 3097 2138 3097 \r\nQ 1578 3097 1268 2742 \r\nQ 959 2388 959 1747 \r\nQ 959 1106 1268 751 \r\nQ 1578 397 2138 397 \r\nQ 2388 397 2633 464 \r\nQ 2878 531 3122 666 \r\nL 3122 134 \r\nQ 2881 22 2623 -34 \r\nQ 2366 -91 2075 -91 \r\nQ 1284 -91 818 406 \r\nQ 353 903 353 1747 \r\nQ 353 2603 823 3093 \r\nQ 1294 3584 2113 3584 \r\nQ 2378 3584 2631 3529 \r\nQ 2884 3475 3122 3366 \r\nz\r\n\" id=\"DejaVuSans-63\" transform=\"scale(0.015625)\"/>\r\n       <path d=\"M 603 4863 \r\nL 1178 4863 \r\nL 1178 0 \r\nL 603 0 \r\nL 603 4863 \r\nz\r\n\" id=\"DejaVuSans-6c\" transform=\"scale(0.015625)\"/>\r\n       <path id=\"DejaVuSans-20\" transform=\"scale(0.015625)\"/>\r\n       <path d=\"M 1159 525 \r\nL 1159 -1331 \r\nL 581 -1331 \r\nL 581 3500 \r\nL 1159 3500 \r\nL 1159 2969 \r\nQ 1341 3281 1617 3432 \r\nQ 1894 3584 2278 3584 \r\nQ 2916 3584 3314 3078 \r\nQ 3713 2572 3713 1747 \r\nQ 3713 922 3314 415 \r\nQ 2916 -91 2278 -91 \r\nQ 1894 -91 1617 61 \r\nQ 1341 213 1159 525 \r\nz\r\nM 3116 1747 \r\nQ 3116 2381 2855 2742 \r\nQ 2594 3103 2138 3103 \r\nQ 1681 3103 1420 2742 \r\nQ 1159 2381 1159 1747 \r\nQ 1159 1113 1420 752 \r\nQ 1681 391 2138 391 \r\nQ 2594 391 2855 752 \r\nQ 3116 1113 3116 1747 \r\nz\r\n\" id=\"DejaVuSans-70\" transform=\"scale(0.015625)\"/>\r\n       <path d=\"M 2631 2963 \r\nQ 2534 3019 2420 3045 \r\nQ 2306 3072 2169 3072 \r\nQ 1681 3072 1420 2755 \r\nQ 1159 2438 1159 1844 \r\nL 1159 0 \r\nL 581 0 \r\nL 581 3500 \r\nL 1159 3500 \r\nL 1159 2956 \r\nQ 1341 3275 1631 3429 \r\nQ 1922 3584 2338 3584 \r\nQ 2397 3584 2469 3576 \r\nQ 2541 3569 2628 3553 \r\nL 2631 2963 \r\nz\r\n\" id=\"DejaVuSans-72\" transform=\"scale(0.015625)\"/>\r\n       <path d=\"M 2059 -325 \r\nQ 1816 -950 1584 -1140 \r\nQ 1353 -1331 966 -1331 \r\nL 506 -1331 \r\nL 506 -850 \r\nL 844 -850 \r\nQ 1081 -850 1212 -737 \r\nQ 1344 -625 1503 -206 \r\nL 1606 56 \r\nL 191 3500 \r\nL 800 3500 \r\nL 1894 763 \r\nL 2988 3500 \r\nL 3597 3500 \r\nL 2059 -325 \r\nz\r\n\" id=\"DejaVuSans-79\" transform=\"scale(0.015625)\"/>\r\n      </defs>\r\n      <use xlink:href=\"#DejaVuSans-73\"/>\r\n      <use x=\"52.099609\" xlink:href=\"#DejaVuSans-74\"/>\r\n      <use x=\"91.308594\" xlink:href=\"#DejaVuSans-61\"/>\r\n      <use x=\"152.587891\" xlink:href=\"#DejaVuSans-74\"/>\r\n      <use x=\"191.796875\" xlink:href=\"#DejaVuSans-69\"/>\r\n      <use x=\"219.580078\" xlink:href=\"#DejaVuSans-73\"/>\r\n      <use x=\"271.679688\" xlink:href=\"#DejaVuSans-74\"/>\r\n      <use x=\"310.888672\" xlink:href=\"#DejaVuSans-69\"/>\r\n      <use x=\"338.671875\" xlink:href=\"#DejaVuSans-63\"/>\r\n      <use x=\"393.652344\" xlink:href=\"#DejaVuSans-61\"/>\r\n      <use x=\"454.931641\" xlink:href=\"#DejaVuSans-6c\"/>\r\n      <use x=\"482.714844\" xlink:href=\"#DejaVuSans-20\"/>\r\n      <use x=\"514.501953\" xlink:href=\"#DejaVuSans-70\"/>\r\n      <use x=\"577.978516\" xlink:href=\"#DejaVuSans-61\"/>\r\n      <use x=\"639.257812\" xlink:href=\"#DejaVuSans-72\"/>\r\n      <use x=\"680.371094\" xlink:href=\"#DejaVuSans-69\"/>\r\n      <use x=\"708.154297\" xlink:href=\"#DejaVuSans-74\"/>\r\n      <use x=\"747.363281\" xlink:href=\"#DejaVuSans-79\"/>\r\n     </g>\r\n    </g>\r\n   </g>\r\n   <g id=\"PolyCollection_1\">\r\n    <path clip-path=\"url(#p4dcfbd32c3)\" d=\"M 64.645688 131.802545 \r\nL 64.645688 13.133455 \r\nL 386.053687 13.133455 \r\nL 386.053687 131.802545 \r\nz\r\n\" style=\"fill:#595959;\"/>\r\n   </g>\r\n   <g id=\"patch_3\">\r\n    <path d=\"M 403.909688 137.736 \r\nL 418.209688 137.736 \r\nL 418.209688 7.2 \r\nL 403.909688 7.2 \r\nz\r\n\" style=\"fill:#d9d9d9;\"/>\r\n   </g>\r\n   <g id=\"text_7\">\r\n    <!-- priv -->\r\n    <g style=\"fill:#1a1a1a;\" transform=\"translate(408.631438 64.03925)rotate(-270)scale(0.088 -0.088)\">\r\n     <defs>\r\n      <path d=\"M 191 3500 \r\nL 800 3500 \r\nL 1894 563 \r\nL 2988 3500 \r\nL 3597 3500 \r\nL 2284 0 \r\nL 1503 0 \r\nL 191 3500 \r\nz\r\n\" id=\"DejaVuSans-76\" transform=\"scale(0.015625)\"/>\r\n     </defs>\r\n     <use xlink:href=\"#DejaVuSans-70\"/>\r\n     <use x=\"63.476562\" xlink:href=\"#DejaVuSans-72\"/>\r\n     <use x=\"104.589844\" xlink:href=\"#DejaVuSans-69\"/>\r\n     <use x=\"132.373047\" xlink:href=\"#DejaVuSans-76\"/>\r\n    </g>\r\n   </g>\r\n  </g>\r\n  <g id=\"axes_2\">\r\n   <g id=\"patch_4\">\r\n    <path d=\"M 46.789688 273.312 \r\nL 403.909688 273.312 \r\nL 403.909688 142.776 \r\nL 46.789688 142.776 \r\nz\r\n\" style=\"fill:#ebebeb;\"/>\r\n   </g>\r\n   <g id=\"matplotlib.axis_3\">\r\n    <g id=\"xtick_2\">\r\n     <g id=\"line2d_17\">\r\n      <path clip-path=\"url(#p5d2cfd2113)\" d=\"M 225.349688 273.312 \r\nL 225.349688 142.776 \r\n\" style=\"fill:none;stroke:#ffffff;stroke-linecap:square;\"/>\r\n     </g>\r\n     <g id=\"line2d_18\">\r\n      <path d=\"M 225.349688 273.312 \r\n\" style=\"fill:none;stroke:#333333;stroke-linecap:square;stroke-width:1.5;\"/>\r\n      <defs>\r\n       <path d=\"M 0 0 \r\nL 0 2.75 \r\n\" id=\"mfae872ec8a\" style=\"stroke:#000000;\"/>\r\n      </defs>\r\n      <g>\r\n       <use style=\"fill:#333333;stroke:#000000;\" x=\"225.349688\" xlink:href=\"#mfae872ec8a\" y=\"273.312\"/>\r\n      </g>\r\n     </g>\r\n     <g id=\"text_8\">\r\n      <!-- prediction -->\r\n      <g style=\"fill:#4d4d4d;\" transform=\"translate(227.777938 322.409125)rotate(-90)scale(0.088 -0.088)\">\r\n       <defs>\r\n        <path d=\"M 3597 1894 \r\nL 3597 1613 \r\nL 953 1613 \r\nQ 991 1019 1311 708 \r\nQ 1631 397 2203 397 \r\nQ 2534 397 2845 478 \r\nQ 3156 559 3463 722 \r\nL 3463 178 \r\nQ 3153 47 2828 -22 \r\nQ 2503 -91 2169 -91 \r\nQ 1331 -91 842 396 \r\nQ 353 884 353 1716 \r\nQ 353 2575 817 3079 \r\nQ 1281 3584 2069 3584 \r\nQ 2775 3584 3186 3129 \r\nQ 3597 2675 3597 1894 \r\nz\r\nM 3022 2063 \r\nQ 3016 2534 2758 2815 \r\nQ 2500 3097 2075 3097 \r\nQ 1594 3097 1305 2825 \r\nQ 1016 2553 972 2059 \r\nL 3022 2063 \r\nz\r\n\" id=\"DejaVuSans-65\" transform=\"scale(0.015625)\"/>\r\n        <path d=\"M 2906 2969 \r\nL 2906 4863 \r\nL 3481 4863 \r\nL 3481 0 \r\nL 2906 0 \r\nL 2906 525 \r\nQ 2725 213 2448 61 \r\nQ 2172 -91 1784 -91 \r\nQ 1150 -91 751 415 \r\nQ 353 922 353 1747 \r\nQ 353 2572 751 3078 \r\nQ 1150 3584 1784 3584 \r\nQ 2172 3584 2448 3432 \r\nQ 2725 3281 2906 2969 \r\nz\r\nM 947 1747 \r\nQ 947 1113 1208 752 \r\nQ 1469 391 1925 391 \r\nQ 2381 391 2643 752 \r\nQ 2906 1113 2906 1747 \r\nQ 2906 2381 2643 2742 \r\nQ 2381 3103 1925 3103 \r\nQ 1469 3103 1208 2742 \r\nQ 947 2381 947 1747 \r\nz\r\n\" id=\"DejaVuSans-64\" transform=\"scale(0.015625)\"/>\r\n        <path d=\"M 1959 3097 \r\nQ 1497 3097 1228 2736 \r\nQ 959 2375 959 1747 \r\nQ 959 1119 1226 758 \r\nQ 1494 397 1959 397 \r\nQ 2419 397 2687 759 \r\nQ 2956 1122 2956 1747 \r\nQ 2956 2369 2687 2733 \r\nQ 2419 3097 1959 3097 \r\nz\r\nM 1959 3584 \r\nQ 2709 3584 3137 3096 \r\nQ 3566 2609 3566 1747 \r\nQ 3566 888 3137 398 \r\nQ 2709 -91 1959 -91 \r\nQ 1206 -91 779 398 \r\nQ 353 888 353 1747 \r\nQ 353 2609 779 3096 \r\nQ 1206 3584 1959 3584 \r\nz\r\n\" id=\"DejaVuSans-6f\" transform=\"scale(0.015625)\"/>\r\n        <path d=\"M 3513 2113 \r\nL 3513 0 \r\nL 2938 0 \r\nL 2938 2094 \r\nQ 2938 2591 2744 2837 \r\nQ 2550 3084 2163 3084 \r\nQ 1697 3084 1428 2787 \r\nQ 1159 2491 1159 1978 \r\nL 1159 0 \r\nL 581 0 \r\nL 581 3500 \r\nL 1159 3500 \r\nL 1159 2956 \r\nQ 1366 3272 1645 3428 \r\nQ 1925 3584 2291 3584 \r\nQ 2894 3584 3203 3211 \r\nQ 3513 2838 3513 2113 \r\nz\r\n\" id=\"DejaVuSans-6e\" transform=\"scale(0.015625)\"/>\r\n       </defs>\r\n       <use xlink:href=\"#DejaVuSans-70\"/>\r\n       <use x=\"63.476562\" xlink:href=\"#DejaVuSans-72\"/>\r\n       <use x=\"102.339844\" xlink:href=\"#DejaVuSans-65\"/>\r\n       <use x=\"163.863281\" xlink:href=\"#DejaVuSans-64\"/>\r\n       <use x=\"227.339844\" xlink:href=\"#DejaVuSans-69\"/>\r\n       <use x=\"255.123047\" xlink:href=\"#DejaVuSans-63\"/>\r\n       <use x=\"310.103516\" xlink:href=\"#DejaVuSans-74\"/>\r\n       <use x=\"349.3125\" xlink:href=\"#DejaVuSans-69\"/>\r\n       <use x=\"377.095703\" xlink:href=\"#DejaVuSans-6f\"/>\r\n       <use x=\"438.277344\" xlink:href=\"#DejaVuSans-6e\"/>\r\n      </g>\r\n     </g>\r\n    </g>\r\n    <g id=\"text_9\">\r\n     <!-- model -->\r\n     <g transform=\"translate(202.463203 335.167406)scale(0.11 -0.11)\">\r\n      <defs>\r\n       <path d=\"M 3328 2828 \r\nQ 3544 3216 3844 3400 \r\nQ 4144 3584 4550 3584 \r\nQ 5097 3584 5394 3201 \r\nQ 5691 2819 5691 2113 \r\nL 5691 0 \r\nL 5113 0 \r\nL 5113 2094 \r\nQ 5113 2597 4934 2840 \r\nQ 4756 3084 4391 3084 \r\nQ 3944 3084 3684 2787 \r\nQ 3425 2491 3425 1978 \r\nL 3425 0 \r\nL 2847 0 \r\nL 2847 2094 \r\nQ 2847 2600 2669 2842 \r\nQ 2491 3084 2119 3084 \r\nQ 1678 3084 1418 2786 \r\nQ 1159 2488 1159 1978 \r\nL 1159 0 \r\nL 581 0 \r\nL 581 3500 \r\nL 1159 3500 \r\nL 1159 2956 \r\nQ 1356 3278 1631 3431 \r\nQ 1906 3584 2284 3584 \r\nQ 2666 3584 2933 3390 \r\nQ 3200 3197 3328 2828 \r\nz\r\n\" id=\"DejaVuSans-6d\" transform=\"scale(0.015625)\"/>\r\n      </defs>\r\n      <use xlink:href=\"#DejaVuSans-6d\"/>\r\n      <use x=\"97.412109\" xlink:href=\"#DejaVuSans-6f\"/>\r\n      <use x=\"158.59375\" xlink:href=\"#DejaVuSans-64\"/>\r\n      <use x=\"222.070312\" xlink:href=\"#DejaVuSans-65\"/>\r\n      <use x=\"283.59375\" xlink:href=\"#DejaVuSans-6c\"/>\r\n     </g>\r\n    </g>\r\n   </g>\r\n   <g id=\"matplotlib.axis_4\">\r\n    <g id=\"ytick_11\">\r\n     <g id=\"line2d_19\">\r\n      <path clip-path=\"url(#p5d2cfd2113)\" d=\"M 46.789688 267.378545 \r\nL 403.909688 267.378545 \r\n\" style=\"fill:none;stroke:#ffffff;stroke-linecap:square;\"/>\r\n     </g>\r\n     <g id=\"line2d_20\">\r\n      <path d=\"M 46.789688 267.378545 \r\n\" style=\"fill:none;stroke:#333333;stroke-linecap:square;stroke-width:1.5;\"/>\r\n      <g>\r\n       <use style=\"fill:#333333;stroke:#000000;\" x=\"46.789688\" xlink:href=\"#m3a3b2ac749\" y=\"267.378545\"/>\r\n      </g>\r\n     </g>\r\n     <g id=\"text_10\">\r\n      <!-- 0 -->\r\n      <g style=\"fill:#4d4d4d;\" transform=\"translate(36.240688 269.806795)scale(0.088 -0.088)\">\r\n       <use xlink:href=\"#DejaVuSans-30\"/>\r\n      </g>\r\n     </g>\r\n    </g>\r\n    <g id=\"ytick_12\">\r\n     <g id=\"line2d_21\">\r\n      <path clip-path=\"url(#p5d2cfd2113)\" d=\"M 46.789688 240.440396 \r\nL 403.909688 240.440396 \r\n\" style=\"fill:none;stroke:#ffffff;stroke-linecap:square;\"/>\r\n     </g>\r\n     <g id=\"line2d_22\">\r\n      <path d=\"M 46.789688 240.440396 \r\n\" style=\"fill:none;stroke:#333333;stroke-linecap:square;stroke-width:1.5;\"/>\r\n      <g>\r\n       <use style=\"fill:#333333;stroke:#000000;\" x=\"46.789688\" xlink:href=\"#m3a3b2ac749\" y=\"240.440396\"/>\r\n      </g>\r\n     </g>\r\n     <g id=\"text_11\">\r\n      <!-- 0.05 -->\r\n      <g style=\"fill:#4d4d4d;\" transform=\"translate(22.245938 242.868646)scale(0.088 -0.088)\">\r\n       <use xlink:href=\"#DejaVuSans-30\"/>\r\n       <use x=\"63.623047\" xlink:href=\"#DejaVuSans-2e\"/>\r\n       <use x=\"95.410156\" xlink:href=\"#DejaVuSans-30\"/>\r\n       <use x=\"159.033203\" xlink:href=\"#DejaVuSans-35\"/>\r\n      </g>\r\n     </g>\r\n    </g>\r\n    <g id=\"ytick_13\">\r\n     <g id=\"line2d_23\">\r\n      <path clip-path=\"url(#p5d2cfd2113)\" d=\"M 46.789688 213.502247 \r\nL 403.909688 213.502247 \r\n\" style=\"fill:none;stroke:#ffffff;stroke-linecap:square;\"/>\r\n     </g>\r\n     <g id=\"line2d_24\">\r\n      <path d=\"M 46.789688 213.502247 \r\n\" style=\"fill:none;stroke:#333333;stroke-linecap:square;stroke-width:1.5;\"/>\r\n      <g>\r\n       <use style=\"fill:#333333;stroke:#000000;\" x=\"46.789688\" xlink:href=\"#m3a3b2ac749\" y=\"213.502247\"/>\r\n      </g>\r\n     </g>\r\n     <g id=\"text_12\">\r\n      <!-- 0.10 -->\r\n      <g style=\"fill:#4d4d4d;\" transform=\"translate(22.245938 215.930497)scale(0.088 -0.088)\">\r\n       <use xlink:href=\"#DejaVuSans-30\"/>\r\n       <use x=\"63.623047\" xlink:href=\"#DejaVuSans-2e\"/>\r\n       <use x=\"95.410156\" xlink:href=\"#DejaVuSans-31\"/>\r\n       <use x=\"159.033203\" xlink:href=\"#DejaVuSans-30\"/>\r\n      </g>\r\n     </g>\r\n    </g>\r\n    <g id=\"ytick_14\">\r\n     <g id=\"line2d_25\">\r\n      <path clip-path=\"url(#p5d2cfd2113)\" d=\"M 46.789688 186.564098 \r\nL 403.909688 186.564098 \r\n\" style=\"fill:none;stroke:#ffffff;stroke-linecap:square;\"/>\r\n     </g>\r\n     <g id=\"line2d_26\">\r\n      <path d=\"M 46.789688 186.564098 \r\n\" style=\"fill:none;stroke:#333333;stroke-linecap:square;stroke-width:1.5;\"/>\r\n      <g>\r\n       <use style=\"fill:#333333;stroke:#000000;\" x=\"46.789688\" xlink:href=\"#m3a3b2ac749\" y=\"186.564098\"/>\r\n      </g>\r\n     </g>\r\n     <g id=\"text_13\">\r\n      <!-- 0.15 -->\r\n      <g style=\"fill:#4d4d4d;\" transform=\"translate(22.245938 188.992348)scale(0.088 -0.088)\">\r\n       <use xlink:href=\"#DejaVuSans-30\"/>\r\n       <use x=\"63.623047\" xlink:href=\"#DejaVuSans-2e\"/>\r\n       <use x=\"95.410156\" xlink:href=\"#DejaVuSans-31\"/>\r\n       <use x=\"159.033203\" xlink:href=\"#DejaVuSans-35\"/>\r\n      </g>\r\n     </g>\r\n    </g>\r\n    <g id=\"ytick_15\">\r\n     <g id=\"line2d_27\">\r\n      <path clip-path=\"url(#p5d2cfd2113)\" d=\"M 46.789688 159.625949 \r\nL 403.909688 159.625949 \r\n\" style=\"fill:none;stroke:#ffffff;stroke-linecap:square;\"/>\r\n     </g>\r\n     <g id=\"line2d_28\">\r\n      <path d=\"M 46.789688 159.625949 \r\n\" style=\"fill:none;stroke:#333333;stroke-linecap:square;stroke-width:1.5;\"/>\r\n      <g>\r\n       <use style=\"fill:#333333;stroke:#000000;\" x=\"46.789688\" xlink:href=\"#m3a3b2ac749\" y=\"159.625949\"/>\r\n      </g>\r\n     </g>\r\n     <g id=\"text_14\">\r\n      <!-- 0.20 -->\r\n      <g style=\"fill:#4d4d4d;\" transform=\"translate(22.245938 162.054199)scale(0.088 -0.088)\">\r\n       <use xlink:href=\"#DejaVuSans-30\"/>\r\n       <use x=\"63.623047\" xlink:href=\"#DejaVuSans-2e\"/>\r\n       <use x=\"95.410156\" xlink:href=\"#DejaVuSans-32\"/>\r\n       <use x=\"159.033203\" xlink:href=\"#DejaVuSans-30\"/>\r\n      </g>\r\n     </g>\r\n    </g>\r\n    <g id=\"ytick_16\">\r\n     <g id=\"line2d_29\">\r\n      <path clip-path=\"url(#p5d2cfd2113)\" d=\"M 46.789688 253.909471 \r\nL 403.909688 253.909471 \r\n\" style=\"fill:none;stroke:#ffffff;stroke-linecap:square;stroke-width:0.5;\"/>\r\n     </g>\r\n    </g>\r\n    <g id=\"ytick_17\">\r\n     <g id=\"line2d_30\">\r\n      <path clip-path=\"url(#p5d2cfd2113)\" d=\"M 46.789688 226.971322 \r\nL 403.909688 226.971322 \r\n\" style=\"fill:none;stroke:#ffffff;stroke-linecap:square;stroke-width:0.5;\"/>\r\n     </g>\r\n    </g>\r\n    <g id=\"ytick_18\">\r\n     <g id=\"line2d_31\">\r\n      <path clip-path=\"url(#p5d2cfd2113)\" d=\"M 46.789688 200.033173 \r\nL 403.909688 200.033173 \r\n\" style=\"fill:none;stroke:#ffffff;stroke-linecap:square;stroke-width:0.5;\"/>\r\n     </g>\r\n    </g>\r\n    <g id=\"ytick_19\">\r\n     <g id=\"line2d_32\">\r\n      <path clip-path=\"url(#p5d2cfd2113)\" d=\"M 46.789688 173.095024 \r\nL 403.909688 173.095024 \r\n\" style=\"fill:none;stroke:#ffffff;stroke-linecap:square;stroke-width:0.5;\"/>\r\n     </g>\r\n    </g>\r\n    <g id=\"ytick_20\">\r\n     <g id=\"line2d_33\">\r\n      <path clip-path=\"url(#p5d2cfd2113)\" d=\"M 46.789688 146.156874 \r\nL 403.909688 146.156874 \r\n\" style=\"fill:none;stroke:#ffffff;stroke-linecap:square;stroke-width:0.5;\"/>\r\n     </g>\r\n    </g>\r\n   </g>\r\n   <g id=\"PolyCollection_2\">\r\n    <path clip-path=\"url(#p5d2cfd2113)\" d=\"M 64.645688 267.378545 \r\nL 64.645688 244.130479 \r\nL 386.053687 244.130479 \r\nL 386.053687 267.378545 \r\nz\r\n\" style=\"fill:#595959;\"/>\r\n   </g>\r\n   <g id=\"patch_5\">\r\n    <path d=\"M 403.909688 273.312 \r\nL 418.209688 273.312 \r\nL 418.209688 142.776 \r\nL 403.909688 142.776 \r\nz\r\n\" style=\"fill:#d9d9d9;\"/>\r\n   </g>\r\n   <g id=\"text_15\">\r\n    <!-- unpriv -->\r\n    <g style=\"fill:#1a1a1a;\" transform=\"translate(408.631438 194.03825)rotate(-270)scale(0.088 -0.088)\">\r\n     <defs>\r\n      <path d=\"M 544 1381 \r\nL 544 3500 \r\nL 1119 3500 \r\nL 1119 1403 \r\nQ 1119 906 1312 657 \r\nQ 1506 409 1894 409 \r\nQ 2359 409 2629 706 \r\nQ 2900 1003 2900 1516 \r\nL 2900 3500 \r\nL 3475 3500 \r\nL 3475 0 \r\nL 2900 0 \r\nL 2900 538 \r\nQ 2691 219 2414 64 \r\nQ 2138 -91 1772 -91 \r\nQ 1169 -91 856 284 \r\nQ 544 659 544 1381 \r\nz\r\nM 1991 3584 \r\nL 1991 3584 \r\nz\r\n\" id=\"DejaVuSans-75\" transform=\"scale(0.015625)\"/>\r\n     </defs>\r\n     <use xlink:href=\"#DejaVuSans-75\"/>\r\n     <use x=\"63.378906\" xlink:href=\"#DejaVuSans-6e\"/>\r\n     <use x=\"126.757812\" xlink:href=\"#DejaVuSans-70\"/>\r\n     <use x=\"190.234375\" xlink:href=\"#DejaVuSans-72\"/>\r\n     <use x=\"231.347656\" xlink:href=\"#DejaVuSans-69\"/>\r\n     <use x=\"259.130859\" xlink:href=\"#DejaVuSans-76\"/>\r\n    </g>\r\n   </g>\r\n  </g>\r\n </g>\r\n <defs>\r\n  <clipPath id=\"p4dcfbd32c3\">\r\n   <rect height=\"130.536\" width=\"357.12\" x=\"46.789688\" y=\"7.2\"/>\r\n  </clipPath>\r\n  <clipPath id=\"p5d2cfd2113\">\r\n   <rect height=\"130.536\" width=\"357.12\" x=\"46.789688\" y=\"142.776\"/>\r\n  </clipPath>\r\n </defs>\r\n</svg>\r\n",
      "image/png": "[encoded data removed]"
     },
     "metadata": {}
    },
    {
     "output_type": "execute_result",
     "data": {
      "text/plain": [
       "<ggplot: (116322583284)>"
      ]
     },
     "metadata": {},
     "execution_count": 14
    }
   ],
   "metadata": {}
  },
  {
   "cell_type": "code",
   "execution_count": null,
   "source": [],
   "outputs": [],
   "metadata": {}
  }
 ],
 "metadata": {
  "orig_nbformat": 4,
  "language_info": {
   "name": "python",
   "version": "3.8.11",
   "mimetype": "text/x-python",
   "codemirror_mode": {
    "name": "ipython",
    "version": 3
   },
   "pygments_lexer": "ipython3",
   "nbconvert_exporter": "python",
   "file_extension": ".py"
  },
  "kernelspec": {
   "name": "python3",
   "display_name": "Python 3.8.10 64-bit ('code': conda)"
  },
  "interpreter": {
   "hash": "e5ece89884ccebb975b7476b07cac838ebecb97f5ba3e39f6a5146932c714791"
  }
 },
 "nbformat": 4,
 "nbformat_minor": 2
}