{
 "cells": [
  {
   "cell_type": "markdown",
   "source": [
    "# Imports and Setups"
   ],
   "metadata": {}
  },
  {
   "cell_type": "code",
   "execution_count": null,
   "source": [
    "%load_ext autoreload\n",
    "%autoreload 2\n",
    "\n",
    "import pandas as pd\n",
    "import os\n",
    "import matplotlib.pyplot as plt\n",
    "import numpy as np\n",
    "import plotnine as p9\n",
    "from sklearn import preprocessing\n",
    "from sklearn.preprocessing import StandardScaler\n",
    "from sklearn.preprocessing import LabelBinarizer\n",
    "from sklearn.pipeline import Pipeline\n",
    "import transformer\n",
    "from sklearn.metrics import mean_squared_error\n",
    "from sklearn import metrics\n",
    "from fairnesTester import FairnessTester\n",
    "from sklearn.pipeline import FeatureUnion\n",
    "from sklearn.model_selection import train_test_split\n",
    "from fairnesTester import FairnessTester\n",
    "\n",
    "from sklearn.neighbors import KNeighborsClassifier\n",
    "from sklearn.svm import SVC\n",
    "from sklearn.tree import DecisionTreeClassifier\n",
    "from sklearn.ensemble import RandomForestClassifier, AdaBoostClassifier, GradientBoostingClassifier\n",
    "from sklearn.naive_bayes import GaussianNB\n",
    "from sklearn.gaussian_process import GaussianProcessClassifier\n"
   ],
   "outputs": [],
   "metadata": {}
  },
  {
   "cell_type": "code",
   "execution_count": null,
   "source": [
    "#pipelines and transformer\n",
    "\n",
    "cat_trans = Pipeline(steps=[\n",
    "    (\"selector\", transformer.DataSelector(\"object\")),\n",
    "    (\"one_hot\", preprocessing.OneHotEncoder())\n",
    "])\n",
    "num_trans = Pipeline(steps=[\n",
    "    (\"selector\", transformer.DataSelector(\"number\")),\n",
    "    (\"scaler\", StandardScaler() )\n",
    "])\n",
    "\n",
    "pre_pipe = FeatureUnion(transformer_list=[\n",
    "    (\"cat\", cat_trans),\n",
    "    (\"num\", num_trans)\n",
    "])\n",
    "\n",
    "lb = LabelBinarizer()\n",
    "del_nan = transformer.DeleteNAN(\"\")"
   ],
   "outputs": [],
   "metadata": {}
  },
  {
   "cell_type": "markdown",
   "source": [
    "# Importin and preparing the data\n"
   ],
   "metadata": {}
  },
  {
   "cell_type": "markdown",
   "source": [
    "## Adult Income Data set"
   ],
   "metadata": {}
  },
  {
   "cell_type": "code",
   "execution_count": null,
   "source": [
    "filename = \"Datasets/adult.data\"\n",
    "names = [\"age\", \"workclass\", \"fnlwgt\",\"education\", \"education-num\", \"marital-status\", \"occupation\", \"relationship\", \"race\", \"sex\", \"capital-gain\", \"capital-loss\", \"hours-per-week\", \"native-country\", \"class\"]\n",
    "train = pd.read_csv(filename, names=names)\n",
    "test = test = pd.read_csv(\"Datasets/adult.test\", names=names)\n",
    "\n",
    "del_nan.set_nan_char(\" ?\")\n",
    "train = del_nan.transform(train)\n",
    "test = del_nan.transform(test)\n",
    "\n",
    "train[\"class\"] = lb.fit_transform(train[\"class\"])\n",
    "test[\"class\"] = lb.fit_transform(test[\"class\"])\n",
    "\n",
    "train_data = pre_pipe.fit_transform(train.drop(\"class\", axis=1))\n",
    "train_labels = train[\"class\"]\n",
    "\n",
    "test_data = pre_pipe.transform(test.drop(\"class\", axis=1))\n",
    "test_labels = test[\"class\"]\n",
    "\n",
    "#attribute for Fairness tester\n",
    "dataset_name = \"Adult_Income\"\n",
    "priv_val = \" Male\"\n",
    "unpriv_val = \" Female\"\n",
    "protected_att = \"sex\"\n",
    "\n"
   ],
   "outputs": [],
   "metadata": {}
  },
  {
   "cell_type": "markdown",
   "source": [
    "## German Credit Dataset"
   ],
   "metadata": {}
  },
  {
   "cell_type": "code",
   "execution_count": null,
   "source": [
    "filename = \"Datasets/german.data\"\n",
    "names = [\"status existing account\",\"duration\", \"credit history\", \"purpose\", \"credit amount\", \"savings\", \"employment since\", \"installment rate\", \"sex\", \"other debtors\", \"residence since\", \"property\", \"age\", \"installment plans\", \"housing\", \"num existing credits\", \"job\", \"no of pople liable\", \"telephone\", \"foreign worker\", \"class\" ]\n",
    "data = pd.read_csv(filename, sep=\" \", names =names)\n",
    "\n",
    "data[\"class\"] = lb.fit_transform(data[\"class\"])\n",
    "\n",
    "data, test, train_labels, test_labels = train_test_split(data, data[\"class\"], random_state=42)\n",
    "\n",
    "train_data = pre_pipe.fit_transform(data.drop(\"class\", axis=1))\n",
    "test_data = pre_pipe.transform(test.drop(\"class\", axis=1))\n",
    "\n",
    "#transform for Fairness tester\n",
    "test[\"sex\"].replace([\"A91\",\"A93\", \"A94\"],\"m\",inplace=True)\n",
    "test[\"sex\"].replace([\"A92\",\"A95\"],\"f\",inplace=True)\n",
    "\n",
    "#attribute for Fairness tester\n",
    "dataset_name = \"German_Credit\"\n",
    "priv_val = \"m\"\n",
    "unpriv_val = \"f\"\n",
    "protected_att = \"sex\"\n"
   ],
   "outputs": [],
   "metadata": {}
  },
  {
   "cell_type": "markdown",
   "source": [
    "## Default of Creddit Card Payments"
   ],
   "metadata": {}
  },
  {
   "cell_type": "code",
   "execution_count": null,
   "source": [
    "filename = \"Datasets/default of credit.xls\"\n",
    "data_inp = pd.read_excel(filename, dtype={\"X1\": int,\"X2\": object,\"X3\": object,\"X4\": object,\"X5\": object,\"X6\": object,\"X7\": object,\"X8\": object,\"X9\": object,\"X10\": object,\"X11\": object,\"X12\": int,\"X13\": int,\"X14\": int,\"X15\": int,\"X16\": int,\"X17\": int,\"X23\": int,\"X18\": int,\"X19\": int,\"X20\": int,\"X21\": int,\"X22\": int})\n",
    "\n",
    "data_inp = data_inp.rename(columns={\"Y\": \"class\"})\n",
    "\n",
    "data, test, train_labels, test_labels = train_test_split(data_inp, data_inp[\"class\"], random_state=42)\n",
    "\n",
    "pre_pipe.fit(data_inp.drop(\"class\", axis=1))\n",
    "train_data = pre_pipe.transform(data.drop(\"class\", axis=1))\n",
    "test_data = pre_pipe.transform(test.drop(\"class\", axis=1))\n",
    "\n",
    "\n",
    "#attribute for Fairness tester\n",
    "dataset_name = \"default_of_credit\"\n",
    "priv_val = 1 #male\n",
    "unpriv_val = 2 #female\n",
    "protected_att = \"X2\"\n",
    "\n"
   ],
   "outputs": [],
   "metadata": {}
  },
  {
   "cell_type": "markdown",
   "source": [
    "## Rici vs Stefano Dataset"
   ],
   "metadata": {}
  },
  {
   "cell_type": "code",
   "execution_count": null,
   "source": [
    "filename = \"Datasets/ricci.csv\"\n",
    "data_inp = pd.read_csv(filename).drop(\"Unnamed: 0\", axis=1)\n",
    "#applicants with combine >= 70 pass\n",
    "#read paper Did the Results of Promotion Exams Have a Disparate Impact on Minorities? Using Statistical Evidence in Ricci v. DeStefano\n",
    "data_inp.rename(columns={\"Combine\": \"class\"}, inplace=True)\n",
    "\n",
    "data_inp.loc[data_inp[\"class\"]>=70, \"class\"] = 1\n",
    "data_inp.loc[(data_inp[\"class\"]<70) & (data_inp[\"class\"]>1), \"class\"] = 0\n",
    "\n",
    "data, test, train_labels, test_labels = train_test_split(data_inp, data_inp[\"class\"], random_state=42)\n",
    "\n",
    "pre_pipe.fit(data_inp.drop(\"class\", axis=1))\n",
    "train_data = pre_pipe.transform(data.drop(\"class\", axis=1))\n",
    "test_data = pre_pipe.transform(test.drop(\"class\", axis=1))\n",
    "\n",
    "#transform for Fairness tester\n",
    "test[\"Race\"].replace([\"H\",\"B\",],\"NW\",inplace=True)\n",
    "\n",
    "\n",
    "#attribute for Fairness tester\n",
    "dataset_name = \"ricci_vs_stefano\"\n",
    "priv_val = \"W\" #white\n",
    "unpriv_val = \"NW\" #not white\n",
    "protected_att = \"Race\"\n"
   ],
   "outputs": [],
   "metadata": {}
  },
  {
   "cell_type": "markdown",
   "source": [
    "# Classifiers"
   ],
   "metadata": {}
  },
  {
   "cell_type": "markdown",
   "source": [
    "## Decision Tree"
   ],
   "metadata": {}
  },
  {
   "cell_type": "code",
   "execution_count": null,
   "source": [
    "tree = DecisionTreeClassifier()\n",
    "tree.fit(train_data,train_labels)\n",
    "\n",
    "tree_pred = tree.predict(test_data)\n",
    "test[\"prediction\"] = tree_pred\n",
    "dataset_name"
   ],
   "outputs": [],
   "metadata": {}
  },
  {
   "cell_type": "markdown",
   "source": [
    "## Random Forest"
   ],
   "metadata": {}
  },
  {
   "cell_type": "code",
   "execution_count": null,
   "source": [
    "forest = RandomForestClassifier()\n",
    "forest.fit(train_data,train_labels)\n",
    "\n",
    "forest_pred = forest.predict(test_data)\n",
    "test[\"prediction\"] = forest_pred\n",
    "dataset_name"
   ],
   "outputs": [],
   "metadata": {}
  },
  {
   "cell_type": "markdown",
   "source": [
    "## K-Nearest-Neighbour"
   ],
   "metadata": {}
  },
  {
   "cell_type": "code",
   "execution_count": null,
   "source": [
    "knn = KNeighborsClassifier(3)\n",
    "knn.fit(train_data,train_labels)\n",
    "\n",
    "knn_pred = knn.predict(test_data)\n",
    "test[\"prediction\"] = knn_pred\n",
    "dataset_name "
   ],
   "outputs": [],
   "metadata": {}
  },
  {
   "cell_type": "markdown",
   "source": [
    "## Support Vector Machine"
   ],
   "metadata": {}
  },
  {
   "cell_type": "code",
   "execution_count": null,
   "source": [
    "#nochmal dringend anschauen\n",
    "svc = SVC(kernel=\"rbf\", C=0.025, probability=True) \n",
    "svc.fit(train_data,train_labels)\n",
    "\n",
    "svc_pred = svc.predict(test_data)\n",
    "test[\"prediction\"] = svc_pred\n",
    "dataset_name"
   ],
   "outputs": [],
   "metadata": {}
  },
  {
   "cell_type": "markdown",
   "source": [
    "## Ada Boost "
   ],
   "metadata": {}
  },
  {
   "cell_type": "code",
   "execution_count": null,
   "source": [
    "ada = AdaBoostClassifier()\n",
    "svc.fit(train_data,train_labels)\n",
    "\n",
    "svc_pred = svc.predict(test_data)\n",
    "test[\"prediction\"] = svc_pred\n",
    "dataset_name"
   ],
   "outputs": [],
   "metadata": {}
  },
  {
   "cell_type": "markdown",
   "source": [
    "## Gaussian NB"
   ],
   "metadata": {}
  },
  {
   "cell_type": "code",
   "execution_count": null,
   "source": [
    "gnb = GaussianNB()\n",
    "gnb.fit(train_data.toarray(),train_labels)\n",
    "\n",
    "gnb_pred = gnb.predict(test_data.toarray())\n",
    "test[\"prediction\"] = gnb_pred\n",
    "dataset_name"
   ],
   "outputs": [],
   "metadata": {}
  },
  {
   "cell_type": "markdown",
   "source": [
    "## Gaussian Proccess Classifier"
   ],
   "metadata": {}
  },
  {
   "cell_type": "code",
   "execution_count": null,
   "source": [
    "gpc = GaussianProcessClassifier()\n",
    "gpc.fit(train_data.toarray(),train_labels)\n",
    "\n",
    "gpc_pred = gpc.predict(test_data.toarray())\n",
    "test[\"prediction\"] = gpc_pred\n",
    "gpc.__class__.__name__"
   ],
   "outputs": [],
   "metadata": {}
  },
  {
   "cell_type": "markdown",
   "source": [
    "# Classifier List\n"
   ],
   "metadata": {}
  },
  {
   "cell_type": "code",
   "execution_count": null,
   "source": [
    "classifiers = [DecisionTreeClassifier(),RandomForestClassifier(),SVC(),AdaBoostClassifier(),KNeighborsClassifier(5), GaussianNB(), GaussianProcessClassifier()]\n",
    "model_names = []\n",
    "for model in classifiers:\n",
    "    \n",
    "    name = model.__class__.__name__\n",
    "    model_names.append(name)\n",
    "\n",
    "    model.fit(train_data.toarray(), train_labels)\n",
    "    pred = model.predict(test_data.toarray())\n",
    "\n",
    "    test[name]=pred\n",
    "\n",
    "\n"
   ],
   "outputs": [],
   "metadata": {}
  },
  {
   "cell_type": "markdown",
   "source": [
    "# Testing for Fairness\n"
   ],
   "metadata": {}
  },
  {
   "cell_type": "markdown",
   "source": [
    "## testing one model"
   ],
   "metadata": {}
  },
  {
   "cell_type": "code",
   "execution_count": null,
   "source": [
    "tester = FairnessTester()\n",
    "tester.setup(test, protected_att, priv_val, unpriv_val)\n",
    "print(\"privileged confusion: \\n\",tester.priv_confusion_matrix())\n",
    "print(\"unprivileged confusion: \\n\", tester.unpriv_confusion_matrix())\n",
    "tester.confuison_based_dic()"
   ],
   "outputs": [],
   "metadata": {}
  },
  {
   "cell_type": "markdown",
   "source": [
    "## testing classifiers list"
   ],
   "metadata": {}
  },
  {
   "cell_type": "code",
   "execution_count": null,
   "source": [
    "tester = FairnessTester()\n",
    "\n",
    "\n",
    "result_df = pd.DataFrame()\n",
    "\n",
    "for name in model_names:\n",
    "    tester.setup(test, protected_att, priv_val, unpriv_val, name)\n",
    "    result_dic = {\"model\": name}\n",
    "    result_dic.update(tester.confusion_based_dic_priv())\n",
    "    result_df= result_df.append(result_dic, ignore_index=True)\n",
    "    \n",
    "    result_dic = {\"model\": name}\n",
    "    result_dic.update(tester.confusion_based_dic_unpriv())\n",
    "    result_df= result_df.append(result_dic, ignore_index=True)\n",
    "\n",
    "result_df\n",
    "    "
   ],
   "outputs": [],
   "metadata": {}
  },
  {
   "cell_type": "markdown",
   "source": [
    "# Plotting"
   ],
   "metadata": {}
  },
  {
   "cell_type": "code",
   "execution_count": null,
   "source": [
    "plot = p9.ggplot(data= result_df, mapping = p9.aes(x=\"model\", y=\"statistical parity\")) \n",
    "plot+p9.geom_col()+p9.facet_grid(\"group~.\") + p9.theme(axis_text_x = p9.element_text(angle=90))\n"
   ],
   "outputs": [],
   "metadata": {}
  },
  {
   "cell_type": "code",
   "execution_count": null,
   "source": [],
   "outputs": [],
   "metadata": {}
  }
 ],
 "metadata": {
  "orig_nbformat": 4,
  "language_info": {
   "name": "python",
   "version": "3.8.10",
   "mimetype": "text/x-python",
   "codemirror_mode": {
    "name": "ipython",
    "version": 3
   },
   "pygments_lexer": "ipython3",
   "nbconvert_exporter": "python",
   "file_extension": ".py"
  },
  "kernelspec": {
   "name": "python3",
   "display_name": "Python 3.8.10 64-bit"
  },
  "interpreter": {
   "hash": "916dbcbb3f70747c44a77c7bcd40155683ae19c65e1c03b4aa3499c5328201f1"
  }
 },
 "nbformat": 4,
 "nbformat_minor": 2
}