{
 "cells": [
  {
   "cell_type": "markdown",
   "source": [
    "# Imports and Setups"
   ],
   "metadata": {}
  },
  {
   "cell_type": "code",
   "execution_count": 90,
   "source": [
    "%load_ext autoreload\r\n",
    "%autoreload 2\r\n",
    "\r\n",
    "import pandas as pd\r\n",
    "import os\r\n",
    "import matplotlib.pyplot as plt\r\n",
    "import numpy as np\r\n",
    "import plotnine as p9\r\n",
    "from sklearn import preprocessing\r\n",
    "from sklearn.preprocessing import StandardScaler\r\n",
    "from sklearn.preprocessing import LabelBinarizer\r\n",
    "from sklearn.pipeline import Pipeline\r\n",
    "import transformer\r\n",
    "from sklearn.metrics import mean_squared_error\r\n",
    "from sklearn import metrics\r\n",
    "from fairnesTester import FairnessTester\r\n",
    "from sklearn.pipeline import FeatureUnion\r\n",
    "from sklearn.model_selection import train_test_split\r\n",
    "from fairnesTester import FairnessTester\r\n",
    "\r\n",
    "from sklearn.neighbors import KNeighborsClassifier\r\n",
    "from sklearn.svm import SVC\r\n",
    "from sklearn.tree import DecisionTreeClassifier\r\n",
    "from sklearn.ensemble import RandomForestClassifier, AdaBoostClassifier, GradientBoostingClassifier\r\n",
    "from sklearn.naive_bayes import GaussianNB\r\n",
    "from sklearn.gaussian_process import GaussianProcessClassifier\r\n",
    "\r\n",
    "#pipelines and transformer\r\n",
    "\r\n",
    "cat_trans = Pipeline(steps=[\r\n",
    "    (\"selector\", transformer.DataSelector(\"object\")),\r\n",
    "    (\"one_hot\", preprocessing.OneHotEncoder())\r\n",
    "])\r\n",
    "num_trans = Pipeline(steps=[\r\n",
    "    (\"selector\", transformer.DataSelector(\"number\")),\r\n",
    "    (\"scaler\", StandardScaler() )\r\n",
    "])\r\n",
    "\r\n",
    "pre_pipe = FeatureUnion(transformer_list=[\r\n",
    "    (\"cat\", cat_trans),\r\n",
    "    (\"num\", num_trans)\r\n",
    "])\r\n",
    "\r\n",
    "lb = LabelBinarizer()\r\n",
    "del_nan = transformer.DeleteNAN(\"\")"
   ],
   "outputs": [
    {
     "output_type": "stream",
     "name": "stdout",
     "text": [
      "The autoreload extension is already loaded. To reload it, use:\n",
      "  %reload_ext autoreload\n"
     ]
    }
   ],
   "metadata": {}
  },
  {
   "cell_type": "markdown",
   "source": [
    "# Importing and preparing the data\n"
   ],
   "metadata": {}
  },
  {
   "cell_type": "markdown",
   "source": [
    "## Adult Income Data set"
   ],
   "metadata": {}
  },
  {
   "cell_type": "code",
   "execution_count": null,
   "source": [
    "filename = \"Datasets/adult.data\"\r\n",
    "names = [\"age\", \"workclass\", \"fnlwgt\",\"education\", \"education-num\", \"marital-status\", \"occupation\", \"relationship\", \"race\", \"sex\", \"capital-gain\", \"capital-loss\", \"hours-per-week\", \"native-country\", \"class\"]\r\n",
    "train = pd.read_csv(filename, names=names)\r\n",
    "test = test = pd.read_csv(\"Datasets/adult.test\", names=names)\r\n",
    "\r\n",
    "del_nan.set_nan_char(\" ?\")\r\n",
    "train = del_nan.transform(train)\r\n",
    "test = del_nan.transform(test)\r\n",
    "\r\n",
    "train[\"class\"] = lb.fit_transform(train[\"class\"])\r\n",
    "test[\"class\"] = lb.fit_transform(test[\"class\"])\r\n",
    "\r\n",
    "train_data = pre_pipe.fit_transform(train.drop(\"class\", axis=1))\r\n",
    "train_labels = train[\"class\"]\r\n",
    "\r\n",
    "test_data = pre_pipe.transform(test.drop(\"class\", axis=1))\r\n",
    "test_labels = test[\"class\"]\r\n",
    "\r\n",
    "#attribute for Fairness tester\r\n",
    "dataset_name = \"Adult_Income\"\r\n",
    "priv_val = \" Male\"\r\n",
    "unpriv_val = \" Female\"\r\n",
    "protected_att = \"sex\"\r\n",
    "\r\n"
   ],
   "outputs": [],
   "metadata": {}
  },
  {
   "cell_type": "markdown",
   "source": [
    "## German Credit Dataset"
   ],
   "metadata": {}
  },
  {
   "cell_type": "code",
   "execution_count": null,
   "source": [
    "filename = \"Datasets/german.data\"\r\n",
    "names = [\"status existing account\",\"duration\", \"credit history\", \"purpose\", \"credit amount\", \"savings\", \"employment since\", \"installment rate\", \"sex\", \"other debtors\", \"residence since\", \"property\", \"age\", \"installment plans\", \"housing\", \"num existing credits\", \"job\", \"no of pople liable\", \"telephone\", \"foreign worker\", \"class\" ]\r\n",
    "data = pd.read_csv(filename, sep=\" \", names =names)\r\n",
    "\r\n",
    "data[\"class\"] = lb.fit_transform(data[\"class\"])\r\n",
    "\r\n",
    "data, test, train_labels, test_labels = train_test_split(data, data[\"class\"], random_state=42)\r\n",
    "\r\n",
    "train_data = pre_pipe.fit_transform(data.drop(\"class\", axis=1))\r\n",
    "test_data = pre_pipe.transform(test.drop(\"class\", axis=1))\r\n",
    "\r\n",
    "#transform for Fairness tester\r\n",
    "test[\"sex\"].replace([\"A91\",\"A93\", \"A94\"],\"m\",inplace=True)\r\n",
    "test[\"sex\"].replace([\"A92\",\"A95\"],\"f\",inplace=True)\r\n",
    "\r\n",
    "#attribute for Fairness tester\r\n",
    "dataset_name = \"German_Credit\"\r\n",
    "priv_val = \"m\"\r\n",
    "unpriv_val = \"f\"\r\n",
    "protected_att = \"sex\"\r\n"
   ],
   "outputs": [],
   "metadata": {}
  },
  {
   "cell_type": "markdown",
   "source": [
    "## Default of Creddit Card Payments"
   ],
   "metadata": {}
  },
  {
   "cell_type": "code",
   "execution_count": null,
   "source": [
    "filename = \"Datasets/default of credit.xls\"\r\n",
    "data_inp = pd.read_excel(filename, dtype={\"X1\": int,\"X2\": object,\"X3\": object,\"X4\": object,\"X5\": object,\"X6\": object,\"X7\": object,\"X8\": object,\"X9\": object,\"X10\": object,\"X11\": object,\"X12\": int,\"X13\": int,\"X14\": int,\"X15\": int,\"X16\": int,\"X17\": int,\"X23\": int,\"X18\": int,\"X19\": int,\"X20\": int,\"X21\": int,\"X22\": int})\r\n",
    "\r\n",
    "data_inp = data_inp.rename(columns={\"Y\": \"class\"})\r\n",
    "\r\n",
    "data, test, train_labels, test_labels = train_test_split(data_inp, data_inp[\"class\"], random_state=42)\r\n",
    "\r\n",
    "pre_pipe.fit(data_inp.drop(\"class\", axis=1))\r\n",
    "train_data = pre_pipe.transform(data.drop(\"class\", axis=1))\r\n",
    "test_data = pre_pipe.transform(test.drop(\"class\", axis=1))\r\n",
    "\r\n",
    "\r\n",
    "#attribute for Fairness tester\r\n",
    "dataset_name = \"default_of_credit\"\r\n",
    "priv_val = 1 #male\r\n",
    "unpriv_val = 2 #female\r\n",
    "protected_att = \"X2\"\r\n",
    "\r\n"
   ],
   "outputs": [],
   "metadata": {}
  },
  {
   "cell_type": "markdown",
   "source": [
    "## Rici vs Stefano Dataset"
   ],
   "metadata": {}
  },
  {
   "cell_type": "code",
   "execution_count": null,
   "source": [
    "filename = \"Datasets/ricci.csv\"\r\n",
    "data_inp = pd.read_csv(filename).drop(\"Unnamed: 0\", axis=1)\r\n",
    "#applicants with combine >= 70 pass\r\n",
    "#read paper Did the Results of Promotion Exams Have a Disparate Impact on Minorities? Using Statistical Evidence in Ricci v. DeStefano\r\n",
    "data_inp.rename(columns={\"Combine\": \"class\"}, inplace=True)\r\n",
    "\r\n",
    "data_inp.loc[data_inp[\"class\"]>=70, \"class\"] = 1\r\n",
    "data_inp.loc[(data_inp[\"class\"]<70) & (data_inp[\"class\"]>1), \"class\"] = 0\r\n",
    "\r\n",
    "data, test, train_labels, test_labels = train_test_split(data_inp, data_inp[\"class\"], random_state=42)\r\n",
    "\r\n",
    "pre_pipe.fit(data_inp.drop(\"class\", axis=1))\r\n",
    "train_data = pre_pipe.transform(data.drop(\"class\", axis=1))\r\n",
    "test_data = pre_pipe.transform(test.drop(\"class\", axis=1))\r\n",
    "\r\n",
    "#transform for Fairness tester\r\n",
    "test[\"Race\"].replace([\"H\",\"B\",],\"NW\",inplace=True)\r\n",
    "\r\n",
    "\r\n",
    "#attribute for Fairness tester\r\n",
    "dataset_name = \"ricci_vs_stefano\"\r\n",
    "priv_val = \"W\" #white\r\n",
    "unpriv_val = \"NW\" #not white\r\n",
    "protected_att = \"Race\"\r\n"
   ],
   "outputs": [],
   "metadata": {}
  },
  {
   "cell_type": "markdown",
   "source": [
    "## Hepatitis dataset"
   ],
   "metadata": {}
  },
  {
   "cell_type": "code",
   "execution_count": null,
   "source": [],
   "outputs": [],
   "metadata": {}
  },
  {
   "cell_type": "markdown",
   "source": [
    "## Heart Disease Dataset"
   ],
   "metadata": {}
  },
  {
   "cell_type": "code",
   "execution_count": 92,
   "source": [
    "filename = \"Datasets/processed.cleveland.data\"\r\n",
    "names = [\"age\", \"sex\", 3,4,5,6,7,8,9,10,11,12,13,\"class\"]\r\n",
    "data_inp = pd.read_csv(filename, names=names)\r\n",
    "\r\n",
    "\r\n",
    "data_inp.loc[data_inp[\"class\"]>=1, \"class\"] = 1 #existing heart disase\r\n",
    "\r\n",
    "data, test, train_labels, test_labels = train_test_split(data_inp, data_inp[\"class\"], random_state=42)\r\n",
    "\r\n",
    "pre_pipe.fit(data_inp.drop(\"class\", axis=1))\r\n",
    "train_data = pre_pipe.transform(data.drop(\"class\", axis=1))\r\n",
    "test_data = pre_pipe.transform(test.drop(\"class\", axis=1))\r\n",
    "\r\n",
    "\r\n",
    "#attribute for Fairness tester\r\n",
    "dataset_name = \"heart_diseases_dataset\"\r\n",
    "priv_val = 1 #male\r\n",
    "unpriv_val = 0 #female\r\n",
    "protected_att = \"sex\""
   ],
   "outputs": [],
   "metadata": {}
  },
  {
   "cell_type": "markdown",
   "source": [
    "# Classifiers"
   ],
   "metadata": {}
  },
  {
   "cell_type": "markdown",
   "source": [
    "## Decision Tree"
   ],
   "metadata": {}
  },
  {
   "cell_type": "code",
   "execution_count": null,
   "source": [
    "tree = DecisionTreeClassifier()\r\n",
    "tree.fit(train_data,train_labels)\r\n",
    "\r\n",
    "tree_pred = tree.predict(test_data)\r\n",
    "test[\"prediction\"] = tree_pred\r\n",
    "dataset_name"
   ],
   "outputs": [],
   "metadata": {}
  },
  {
   "cell_type": "markdown",
   "source": [
    "## Random Forest"
   ],
   "metadata": {}
  },
  {
   "cell_type": "code",
   "execution_count": null,
   "source": [
    "forest = RandomForestClassifier()\r\n",
    "forest.fit(train_data,train_labels)\r\n",
    "\r\n",
    "forest_pred = forest.predict(test_data)\r\n",
    "test[\"prediction\"] = forest_pred\r\n",
    "dataset_name"
   ],
   "outputs": [],
   "metadata": {}
  },
  {
   "cell_type": "markdown",
   "source": [
    "## K-Nearest-Neighbour"
   ],
   "metadata": {}
  },
  {
   "cell_type": "code",
   "execution_count": null,
   "source": [
    "knn = KNeighborsClassifier(3)\r\n",
    "knn.fit(train_data,train_labels)\r\n",
    "\r\n",
    "knn_pred = knn.predict(test_data)\r\n",
    "test[\"prediction\"] = knn_pred\r\n",
    "dataset_name "
   ],
   "outputs": [],
   "metadata": {}
  },
  {
   "cell_type": "markdown",
   "source": [
    "## Support Vector Machine"
   ],
   "metadata": {}
  },
  {
   "cell_type": "code",
   "execution_count": null,
   "source": [
    "#nochmal dringend anschauen\r\n",
    "svc = SVC(kernel=\"rbf\", C=0.025, probability=True) \r\n",
    "svc.fit(train_data,train_labels)\r\n",
    "\r\n",
    "svc_pred = svc.predict(test_data)\r\n",
    "test[\"prediction\"] = svc_pred\r\n",
    "dataset_name"
   ],
   "outputs": [],
   "metadata": {}
  },
  {
   "cell_type": "markdown",
   "source": [
    "## Ada Boost "
   ],
   "metadata": {}
  },
  {
   "cell_type": "code",
   "execution_count": null,
   "source": [
    "ada = AdaBoostClassifier()\r\n",
    "svc.fit(train_data,train_labels)\r\n",
    "\r\n",
    "svc_pred = svc.predict(test_data)\r\n",
    "test[\"prediction\"] = svc_pred\r\n",
    "dataset_name"
   ],
   "outputs": [],
   "metadata": {}
  },
  {
   "cell_type": "markdown",
   "source": [
    "## Gaussian NB"
   ],
   "metadata": {}
  },
  {
   "cell_type": "code",
   "execution_count": null,
   "source": [
    "gnb = GaussianNB()\r\n",
    "gnb.fit(train_data.toarray(),train_labels)\r\n",
    "\r\n",
    "gnb_pred = gnb.predict(test_data.toarray())\r\n",
    "test[\"prediction\"] = gnb_pred\r\n",
    "dataset_name"
   ],
   "outputs": [],
   "metadata": {}
  },
  {
   "cell_type": "markdown",
   "source": [
    "## Gaussian Proccess Classifier"
   ],
   "metadata": {}
  },
  {
   "cell_type": "code",
   "execution_count": null,
   "source": [
    "gpc = GaussianProcessClassifier()\r\n",
    "gpc.fit(train_data.toarray(),train_labels)\r\n",
    "\r\n",
    "gpc_pred = gpc.predict(test_data.toarray())\r\n",
    "test[\"prediction\"] = gpc_pred\r\n",
    "gpc.__class__.__name__"
   ],
   "outputs": [],
   "metadata": {}
  },
  {
   "cell_type": "markdown",
   "source": [
    "# Classifier List\n"
   ],
   "metadata": {}
  },
  {
   "cell_type": "code",
   "execution_count": 93,
   "source": [
    "classifiers = [DecisionTreeClassifier(),RandomForestClassifier(),SVC(),AdaBoostClassifier(),KNeighborsClassifier(5), GaussianNB()]\r\n",
    "model_names = []\r\n",
    "\r\n",
    "\r\n",
    "\r\n",
    "for model in classifiers:\r\n",
    "    \r\n",
    "    name = model.__class__.__name__\r\n",
    "    print(name)\r\n",
    "    model_names.append(name)\r\n",
    "\r\n",
    "    model.fit(train_data.toarray(), train_labels)\r\n",
    "    pred = model.predict(test_data.toarray())\r\n",
    "\r\n",
    "    test[name]=pred"
   ],
   "outputs": [
    {
     "output_type": "stream",
     "name": "stdout",
     "text": [
      "DecisionTreeClassifier\n",
      "RandomForestClassifier\n"
     ]
    },
    {
     "output_type": "stream",
     "name": "stderr",
     "text": [
      "<ipython-input-93-6713b0f9ef38>:15: SettingWithCopyWarning: \n",
      "A value is trying to be set on a copy of a slice from a DataFrame.\n",
      "Try using .loc[row_indexer,col_indexer] = value instead\n",
      "\n",
      "See the caveats in the documentation: https://pandas.pydata.org/pandas-docs/stable/user_guide/indexing.html#returning-a-view-versus-a-copy\n"
     ]
    },
    {
     "output_type": "stream",
     "name": "stdout",
     "text": [
      "SVC\n",
      "AdaBoostClassifier\n",
      "KNeighborsClassifier\n",
      "GaussianNB\n"
     ]
    },
    {
     "output_type": "stream",
     "name": "stderr",
     "text": [
      "<ipython-input-93-6713b0f9ef38>:15: SettingWithCopyWarning: \n",
      "A value is trying to be set on a copy of a slice from a DataFrame.\n",
      "Try using .loc[row_indexer,col_indexer] = value instead\n",
      "\n",
      "See the caveats in the documentation: https://pandas.pydata.org/pandas-docs/stable/user_guide/indexing.html#returning-a-view-versus-a-copy\n",
      "<ipython-input-93-6713b0f9ef38>:15: SettingWithCopyWarning: \n",
      "A value is trying to be set on a copy of a slice from a DataFrame.\n",
      "Try using .loc[row_indexer,col_indexer] = value instead\n",
      "\n",
      "See the caveats in the documentation: https://pandas.pydata.org/pandas-docs/stable/user_guide/indexing.html#returning-a-view-versus-a-copy\n",
      "<ipython-input-93-6713b0f9ef38>:15: SettingWithCopyWarning: \n",
      "A value is trying to be set on a copy of a slice from a DataFrame.\n",
      "Try using .loc[row_indexer,col_indexer] = value instead\n",
      "\n",
      "See the caveats in the documentation: https://pandas.pydata.org/pandas-docs/stable/user_guide/indexing.html#returning-a-view-versus-a-copy\n",
      "<ipython-input-93-6713b0f9ef38>:15: SettingWithCopyWarning: \n",
      "A value is trying to be set on a copy of a slice from a DataFrame.\n",
      "Try using .loc[row_indexer,col_indexer] = value instead\n",
      "\n",
      "See the caveats in the documentation: https://pandas.pydata.org/pandas-docs/stable/user_guide/indexing.html#returning-a-view-versus-a-copy\n",
      "<ipython-input-93-6713b0f9ef38>:15: SettingWithCopyWarning: \n",
      "A value is trying to be set on a copy of a slice from a DataFrame.\n",
      "Try using .loc[row_indexer,col_indexer] = value instead\n",
      "\n",
      "See the caveats in the documentation: https://pandas.pydata.org/pandas-docs/stable/user_guide/indexing.html#returning-a-view-versus-a-copy\n"
     ]
    }
   ],
   "metadata": {}
  },
  {
   "cell_type": "markdown",
   "source": [
    "# Testing for Fairness\n"
   ],
   "metadata": {}
  },
  {
   "cell_type": "markdown",
   "source": [
    "## testing one model"
   ],
   "metadata": {}
  },
  {
   "cell_type": "code",
   "execution_count": null,
   "source": [
    "tester = FairnessTester()\r\n",
    "tester.setup(test, protected_att, priv_val, unpriv_val)\r\n",
    "print(\"privileged confusion: \\n\",tester.priv_confusion_matrix())\r\n",
    "print(\"unprivileged confusion: \\n\", tester.unpriv_confusion_matrix())\r\n",
    "tester.confuison_based_dic()"
   ],
   "outputs": [],
   "metadata": {}
  },
  {
   "cell_type": "markdown",
   "source": [
    "## testing classifiers list"
   ],
   "metadata": {}
  },
  {
   "cell_type": "code",
   "execution_count": 94,
   "source": [
    "tester = FairnessTester()\r\n",
    "\r\n",
    "\r\n",
    "result_df = pd.DataFrame()\r\n",
    "\r\n",
    "for name in model_names:\r\n",
    "    tester.setup(test, protected_att, priv_val, unpriv_val, name)\r\n",
    "    result_dic = {\"model\": name}\r\n",
    "    result_dic.update(tester.confusion_based_dic_priv())\r\n",
    "    result_df= result_df.append(result_dic, ignore_index=True)\r\n",
    "    \r\n",
    "    result_dic = {\"model\": name}\r\n",
    "    result_dic.update(tester.confusion_based_dic_unpriv())\r\n",
    "    result_df= result_df.append(result_dic, ignore_index=True)\r\n",
    "definitions_names = list(tester.confuison_based_dic().keys())\r\n",
    "result_df\r\n",
    "    "
   ],
   "outputs": [
    {
     "output_type": "execute_result",
     "data": {
      "text/plain": [
       "                     model   group  statistical parity  predictive parity  \\\n",
       "0   DecisionTreeClassifier    priv            0.607143           0.617647   \n",
       "1   DecisionTreeClassifier  unpriv            0.250000           0.600000   \n",
       "2   RandomForestClassifier    priv            0.571429           0.812500   \n",
       "3   RandomForestClassifier  unpriv            0.300000           0.833333   \n",
       "4                      SVC    priv            0.589286           0.818182   \n",
       "5                      SVC  unpriv            0.200000           1.000000   \n",
       "6       AdaBoostClassifier    priv            0.553571           0.806452   \n",
       "7       AdaBoostClassifier  unpriv            0.200000           1.000000   \n",
       "8     KNeighborsClassifier    priv            0.500000           0.857143   \n",
       "9     KNeighborsClassifier  unpriv            0.150000           0.666667   \n",
       "10              GaussianNB    priv            0.517857           0.862069   \n",
       "11              GaussianNB  unpriv            0.400000           0.625000   \n",
       "\n",
       "    negative predictive parity  equal opportunity  predictive equality  \\\n",
       "0                     0.545455           0.677419             0.520000   \n",
       "1                     0.800000           0.500000             0.142857   \n",
       "2                     0.791667           0.838710             0.240000   \n",
       "3                     0.928571           0.833333             0.071429   \n",
       "4                     0.826087           0.870968             0.240000   \n",
       "5                     0.875000           0.666667             0.000000   \n",
       "6                     0.760000           0.806452             0.240000   \n",
       "7                     0.875000           0.666667             0.000000   \n",
       "8                     0.750000           0.774194             0.160000   \n",
       "9                     0.764706           0.333333             0.071429   \n",
       "10                    0.777778           0.806452             0.160000   \n",
       "11                    0.916667           0.833333             0.214286   \n",
       "\n",
       "    overall accuracy equality  treatment equality  \n",
       "0                    0.589286            1.612000  \n",
       "1                    0.750000            0.285714  \n",
       "2                    0.803571            1.488000  \n",
       "3                    0.900000            0.428571  \n",
       "4                    0.821429            1.860000  \n",
       "5                    0.900000            0.000000  \n",
       "6                    0.785714            1.240000  \n",
       "7                    0.900000            0.000000  \n",
       "8                    0.803571            0.708571  \n",
       "9                    0.750000            0.107143  \n",
       "10                   0.821429            0.826667  \n",
       "11                   0.800000            1.285714  "
      ],
      "text/html": [
       "<div>\n",
       "<style scoped>\n",
       "    .dataframe tbody tr th:only-of-type {\n",
       "        vertical-align: middle;\n",
       "    }\n",
       "\n",
       "    .dataframe tbody tr th {\n",
       "        vertical-align: top;\n",
       "    }\n",
       "\n",
       "    .dataframe thead th {\n",
       "        text-align: right;\n",
       "    }\n",
       "</style>\n",
       "<table border=\"1\" class=\"dataframe\">\n",
       "  <thead>\n",
       "    <tr style=\"text-align: right;\">\n",
       "      <th></th>\n",
       "      <th>model</th>\n",
       "      <th>group</th>\n",
       "      <th>statistical parity</th>\n",
       "      <th>predictive parity</th>\n",
       "      <th>negative predictive parity</th>\n",
       "      <th>equal opportunity</th>\n",
       "      <th>predictive equality</th>\n",
       "      <th>overall accuracy equality</th>\n",
       "      <th>treatment equality</th>\n",
       "    </tr>\n",
       "  </thead>\n",
       "  <tbody>\n",
       "    <tr>\n",
       "      <th>0</th>\n",
       "      <td>DecisionTreeClassifier</td>\n",
       "      <td>priv</td>\n",
       "      <td>0.607143</td>\n",
       "      <td>0.617647</td>\n",
       "      <td>0.545455</td>\n",
       "      <td>0.677419</td>\n",
       "      <td>0.520000</td>\n",
       "      <td>0.589286</td>\n",
       "      <td>1.612000</td>\n",
       "    </tr>\n",
       "    <tr>\n",
       "      <th>1</th>\n",
       "      <td>DecisionTreeClassifier</td>\n",
       "      <td>unpriv</td>\n",
       "      <td>0.250000</td>\n",
       "      <td>0.600000</td>\n",
       "      <td>0.800000</td>\n",
       "      <td>0.500000</td>\n",
       "      <td>0.142857</td>\n",
       "      <td>0.750000</td>\n",
       "      <td>0.285714</td>\n",
       "    </tr>\n",
       "    <tr>\n",
       "      <th>2</th>\n",
       "      <td>RandomForestClassifier</td>\n",
       "      <td>priv</td>\n",
       "      <td>0.571429</td>\n",
       "      <td>0.812500</td>\n",
       "      <td>0.791667</td>\n",
       "      <td>0.838710</td>\n",
       "      <td>0.240000</td>\n",
       "      <td>0.803571</td>\n",
       "      <td>1.488000</td>\n",
       "    </tr>\n",
       "    <tr>\n",
       "      <th>3</th>\n",
       "      <td>RandomForestClassifier</td>\n",
       "      <td>unpriv</td>\n",
       "      <td>0.300000</td>\n",
       "      <td>0.833333</td>\n",
       "      <td>0.928571</td>\n",
       "      <td>0.833333</td>\n",
       "      <td>0.071429</td>\n",
       "      <td>0.900000</td>\n",
       "      <td>0.428571</td>\n",
       "    </tr>\n",
       "    <tr>\n",
       "      <th>4</th>\n",
       "      <td>SVC</td>\n",
       "      <td>priv</td>\n",
       "      <td>0.589286</td>\n",
       "      <td>0.818182</td>\n",
       "      <td>0.826087</td>\n",
       "      <td>0.870968</td>\n",
       "      <td>0.240000</td>\n",
       "      <td>0.821429</td>\n",
       "      <td>1.860000</td>\n",
       "    </tr>\n",
       "    <tr>\n",
       "      <th>5</th>\n",
       "      <td>SVC</td>\n",
       "      <td>unpriv</td>\n",
       "      <td>0.200000</td>\n",
       "      <td>1.000000</td>\n",
       "      <td>0.875000</td>\n",
       "      <td>0.666667</td>\n",
       "      <td>0.000000</td>\n",
       "      <td>0.900000</td>\n",
       "      <td>0.000000</td>\n",
       "    </tr>\n",
       "    <tr>\n",
       "      <th>6</th>\n",
       "      <td>AdaBoostClassifier</td>\n",
       "      <td>priv</td>\n",
       "      <td>0.553571</td>\n",
       "      <td>0.806452</td>\n",
       "      <td>0.760000</td>\n",
       "      <td>0.806452</td>\n",
       "      <td>0.240000</td>\n",
       "      <td>0.785714</td>\n",
       "      <td>1.240000</td>\n",
       "    </tr>\n",
       "    <tr>\n",
       "      <th>7</th>\n",
       "      <td>AdaBoostClassifier</td>\n",
       "      <td>unpriv</td>\n",
       "      <td>0.200000</td>\n",
       "      <td>1.000000</td>\n",
       "      <td>0.875000</td>\n",
       "      <td>0.666667</td>\n",
       "      <td>0.000000</td>\n",
       "      <td>0.900000</td>\n",
       "      <td>0.000000</td>\n",
       "    </tr>\n",
       "    <tr>\n",
       "      <th>8</th>\n",
       "      <td>KNeighborsClassifier</td>\n",
       "      <td>priv</td>\n",
       "      <td>0.500000</td>\n",
       "      <td>0.857143</td>\n",
       "      <td>0.750000</td>\n",
       "      <td>0.774194</td>\n",
       "      <td>0.160000</td>\n",
       "      <td>0.803571</td>\n",
       "      <td>0.708571</td>\n",
       "    </tr>\n",
       "    <tr>\n",
       "      <th>9</th>\n",
       "      <td>KNeighborsClassifier</td>\n",
       "      <td>unpriv</td>\n",
       "      <td>0.150000</td>\n",
       "      <td>0.666667</td>\n",
       "      <td>0.764706</td>\n",
       "      <td>0.333333</td>\n",
       "      <td>0.071429</td>\n",
       "      <td>0.750000</td>\n",
       "      <td>0.107143</td>\n",
       "    </tr>\n",
       "    <tr>\n",
       "      <th>10</th>\n",
       "      <td>GaussianNB</td>\n",
       "      <td>priv</td>\n",
       "      <td>0.517857</td>\n",
       "      <td>0.862069</td>\n",
       "      <td>0.777778</td>\n",
       "      <td>0.806452</td>\n",
       "      <td>0.160000</td>\n",
       "      <td>0.821429</td>\n",
       "      <td>0.826667</td>\n",
       "    </tr>\n",
       "    <tr>\n",
       "      <th>11</th>\n",
       "      <td>GaussianNB</td>\n",
       "      <td>unpriv</td>\n",
       "      <td>0.400000</td>\n",
       "      <td>0.625000</td>\n",
       "      <td>0.916667</td>\n",
       "      <td>0.833333</td>\n",
       "      <td>0.214286</td>\n",
       "      <td>0.800000</td>\n",
       "      <td>1.285714</td>\n",
       "    </tr>\n",
       "  </tbody>\n",
       "</table>\n",
       "</div>"
      ]
     },
     "metadata": {},
     "execution_count": 94
    }
   ],
   "metadata": {}
  },
  {
   "cell_type": "code",
   "execution_count": 95,
   "source": [
    "result_df\r\n",
    "full_result_df = pd.DataFrame()\r\n",
    "for model in model_names:\r\n",
    "    for defi in definitions_names:\r\n",
    "        for group in [\"priv\", \"unpriv\"]:\r\n",
    "            dic = {}\r\n",
    "            dic[\"model\"] = result_df.loc[(result_df[\"model\"]==model)&(result_df[\"group\"]==group)][\"model\"].item()\r\n",
    "            dic[\"group\"] = result_df.loc[(result_df[\"model\"]==model)&(result_df[\"group\"]==group)][\"group\"].item()\r\n",
    "            dic[\"definition\"] = defi\r\n",
    "            dic[\"result\"]= result_df.loc[(result_df[\"model\"]==model)&(result_df[\"group\"]==group)][defi].item()\r\n",
    "            full_result_df = full_result_df.append(dic, ignore_index=True)\r\n",
    "\r\n",
    "full_result_df\r\n",
    "        "
   ],
   "outputs": [
    {
     "output_type": "execute_result",
     "data": {
      "text/plain": [
       "                     model   group                  definition    result\n",
       "0   DecisionTreeClassifier    priv          statistical parity  0.607143\n",
       "1   DecisionTreeClassifier  unpriv          statistical parity  0.250000\n",
       "2   DecisionTreeClassifier    priv           predictive parity  0.617647\n",
       "3   DecisionTreeClassifier  unpriv           predictive parity  0.600000\n",
       "4   DecisionTreeClassifier    priv  negative predictive parity  0.545455\n",
       "..                     ...     ...                         ...       ...\n",
       "79              GaussianNB  unpriv         predictive equality  0.214286\n",
       "80              GaussianNB    priv   overall accuracy equality  0.821429\n",
       "81              GaussianNB  unpriv   overall accuracy equality  0.800000\n",
       "82              GaussianNB    priv          treatment equality  0.826667\n",
       "83              GaussianNB  unpriv          treatment equality  1.285714\n",
       "\n",
       "[84 rows x 4 columns]"
      ],
      "text/html": [
       "<div>\n",
       "<style scoped>\n",
       "    .dataframe tbody tr th:only-of-type {\n",
       "        vertical-align: middle;\n",
       "    }\n",
       "\n",
       "    .dataframe tbody tr th {\n",
       "        vertical-align: top;\n",
       "    }\n",
       "\n",
       "    .dataframe thead th {\n",
       "        text-align: right;\n",
       "    }\n",
       "</style>\n",
       "<table border=\"1\" class=\"dataframe\">\n",
       "  <thead>\n",
       "    <tr style=\"text-align: right;\">\n",
       "      <th></th>\n",
       "      <th>model</th>\n",
       "      <th>group</th>\n",
       "      <th>definition</th>\n",
       "      <th>result</th>\n",
       "    </tr>\n",
       "  </thead>\n",
       "  <tbody>\n",
       "    <tr>\n",
       "      <th>0</th>\n",
       "      <td>DecisionTreeClassifier</td>\n",
       "      <td>priv</td>\n",
       "      <td>statistical parity</td>\n",
       "      <td>0.607143</td>\n",
       "    </tr>\n",
       "    <tr>\n",
       "      <th>1</th>\n",
       "      <td>DecisionTreeClassifier</td>\n",
       "      <td>unpriv</td>\n",
       "      <td>statistical parity</td>\n",
       "      <td>0.250000</td>\n",
       "    </tr>\n",
       "    <tr>\n",
       "      <th>2</th>\n",
       "      <td>DecisionTreeClassifier</td>\n",
       "      <td>priv</td>\n",
       "      <td>predictive parity</td>\n",
       "      <td>0.617647</td>\n",
       "    </tr>\n",
       "    <tr>\n",
       "      <th>3</th>\n",
       "      <td>DecisionTreeClassifier</td>\n",
       "      <td>unpriv</td>\n",
       "      <td>predictive parity</td>\n",
       "      <td>0.600000</td>\n",
       "    </tr>\n",
       "    <tr>\n",
       "      <th>4</th>\n",
       "      <td>DecisionTreeClassifier</td>\n",
       "      <td>priv</td>\n",
       "      <td>negative predictive parity</td>\n",
       "      <td>0.545455</td>\n",
       "    </tr>\n",
       "    <tr>\n",
       "      <th>...</th>\n",
       "      <td>...</td>\n",
       "      <td>...</td>\n",
       "      <td>...</td>\n",
       "      <td>...</td>\n",
       "    </tr>\n",
       "    <tr>\n",
       "      <th>79</th>\n",
       "      <td>GaussianNB</td>\n",
       "      <td>unpriv</td>\n",
       "      <td>predictive equality</td>\n",
       "      <td>0.214286</td>\n",
       "    </tr>\n",
       "    <tr>\n",
       "      <th>80</th>\n",
       "      <td>GaussianNB</td>\n",
       "      <td>priv</td>\n",
       "      <td>overall accuracy equality</td>\n",
       "      <td>0.821429</td>\n",
       "    </tr>\n",
       "    <tr>\n",
       "      <th>81</th>\n",
       "      <td>GaussianNB</td>\n",
       "      <td>unpriv</td>\n",
       "      <td>overall accuracy equality</td>\n",
       "      <td>0.800000</td>\n",
       "    </tr>\n",
       "    <tr>\n",
       "      <th>82</th>\n",
       "      <td>GaussianNB</td>\n",
       "      <td>priv</td>\n",
       "      <td>treatment equality</td>\n",
       "      <td>0.826667</td>\n",
       "    </tr>\n",
       "    <tr>\n",
       "      <th>83</th>\n",
       "      <td>GaussianNB</td>\n",
       "      <td>unpriv</td>\n",
       "      <td>treatment equality</td>\n",
       "      <td>1.285714</td>\n",
       "    </tr>\n",
       "  </tbody>\n",
       "</table>\n",
       "<p>84 rows × 4 columns</p>\n",
       "</div>"
      ]
     },
     "metadata": {},
     "execution_count": 95
    }
   ],
   "metadata": {}
  },
  {
   "cell_type": "markdown",
   "source": [
    "# Plotting"
   ],
   "metadata": {}
  },
  {
   "cell_type": "code",
   "execution_count": 97,
   "source": [
    "plots = []\n",
    "for definition in definitions_names:\n",
    "\n",
    "    plot = p9.ggplot(data= result_df, mapping = p9.aes(x=\"model\", y=definition)) + p9.geom_col()+p9.facet_grid(\"group~.\") + p9.theme(axis_text_x = p9.element_text(angle=90))\n",
    "    plots.append(plot) \n",
    "\n",
    "i=0\n",
    "for plot in plots:\n",
    "    plot.save(filename=\"plots/\"+dataset_name+\"_\"+definitions_names[i]+\".png\")\n",
    "    i+=1"
   ],
   "outputs": [
    {
     "output_type": "stream",
     "name": "stderr",
     "text": [
      "C:\\Users\\makra\\anaconda3\\envs\\code\\lib\\site-packages\\plotnine\\ggplot.py:719: PlotnineWarning: Saving 6.4 x 4.8 in image.\n",
      "C:\\Users\\makra\\anaconda3\\envs\\code\\lib\\site-packages\\plotnine\\ggplot.py:722: PlotnineWarning: Filename: plots/heart_diseases_dataset_statistical parity.png\n",
      "C:\\Users\\makra\\anaconda3\\envs\\code\\lib\\site-packages\\plotnine\\ggplot.py:719: PlotnineWarning: Saving 6.4 x 4.8 in image.\n",
      "C:\\Users\\makra\\anaconda3\\envs\\code\\lib\\site-packages\\plotnine\\ggplot.py:722: PlotnineWarning: Filename: plots/heart_diseases_dataset_predictive parity.png\n",
      "C:\\Users\\makra\\anaconda3\\envs\\code\\lib\\site-packages\\plotnine\\ggplot.py:719: PlotnineWarning: Saving 6.4 x 4.8 in image.\n",
      "C:\\Users\\makra\\anaconda3\\envs\\code\\lib\\site-packages\\plotnine\\ggplot.py:722: PlotnineWarning: Filename: plots/heart_diseases_dataset_negative predictive parity.png\n",
      "C:\\Users\\makra\\anaconda3\\envs\\code\\lib\\site-packages\\plotnine\\ggplot.py:719: PlotnineWarning: Saving 6.4 x 4.8 in image.\n",
      "C:\\Users\\makra\\anaconda3\\envs\\code\\lib\\site-packages\\plotnine\\ggplot.py:722: PlotnineWarning: Filename: plots/heart_diseases_dataset_equal opportunity.png\n",
      "C:\\Users\\makra\\anaconda3\\envs\\code\\lib\\site-packages\\plotnine\\ggplot.py:719: PlotnineWarning: Saving 6.4 x 4.8 in image.\n",
      "C:\\Users\\makra\\anaconda3\\envs\\code\\lib\\site-packages\\plotnine\\ggplot.py:722: PlotnineWarning: Filename: plots/heart_diseases_dataset_predictive equality.png\n",
      "C:\\Users\\makra\\anaconda3\\envs\\code\\lib\\site-packages\\plotnine\\ggplot.py:719: PlotnineWarning: Saving 6.4 x 4.8 in image.\n",
      "C:\\Users\\makra\\anaconda3\\envs\\code\\lib\\site-packages\\plotnine\\ggplot.py:722: PlotnineWarning: Filename: plots/heart_diseases_dataset_overall accuracy equality.png\n",
      "C:\\Users\\makra\\anaconda3\\envs\\code\\lib\\site-packages\\plotnine\\ggplot.py:719: PlotnineWarning: Saving 6.4 x 4.8 in image.\n",
      "C:\\Users\\makra\\anaconda3\\envs\\code\\lib\\site-packages\\plotnine\\ggplot.py:722: PlotnineWarning: Filename: plots/heart_diseases_dataset_treatment equality.png\n"
     ]
    }
   ],
   "metadata": {}
  },
  {
   "cell_type": "code",
   "execution_count": 96,
   "source": [
    "plot = (p9.ggplot(data= full_result_df, mapping = p9.aes(x=\"model\", y=\"result\")) \r\n",
    "    + p9.geom_col()\r\n",
    "    + p9.facet_grid(\"group~definition\", space=\"free_x\") \r\n",
    "    + p9.theme(axis_text_x = p9.element_text(angle=90))\r\n",
    "    + p9.labs(x=\"ML Models\", y= \"Results\", title=(\"Results for \" + dataset_name))\r\n",
    "    )\r\n",
    "plot.save(filename=\"plots/\"+dataset_name+\"_complete.png\", height=4 , width = 17)\r\n"
   ],
   "outputs": [
    {
     "output_type": "stream",
     "name": "stderr",
     "text": [
      "C:\\Users\\makra\\anaconda3\\envs\\code\\lib\\site-packages\\plotnine\\ggplot.py:719: PlotnineWarning: Saving 17 x 4 in image.\n",
      "C:\\Users\\makra\\anaconda3\\envs\\code\\lib\\site-packages\\plotnine\\ggplot.py:722: PlotnineWarning: Filename: plots/heart_diseases_dataset_complete.png\n"
     ]
    }
   ],
   "metadata": {}
  }
 ],
 "metadata": {
  "orig_nbformat": 4,
  "language_info": {
   "name": "python",
   "version": "3.8.10",
   "mimetype": "text/x-python",
   "codemirror_mode": {
    "name": "ipython",
    "version": 3
   },
   "pygments_lexer": "ipython3",
   "nbconvert_exporter": "python",
   "file_extension": ".py"
  },
  "kernelspec": {
   "name": "python3",
   "display_name": "Python 3.8.10 64-bit"
  },
  "interpreter": {
   "hash": "916dbcbb3f70747c44a77c7bcd40155683ae19c65e1c03b4aa3499c5328201f1"
  }
 },
 "nbformat": 4,
 "nbformat_minor": 2
}