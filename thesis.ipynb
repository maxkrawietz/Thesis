{
 "cells": [
  {
   "cell_type": "markdown",
   "source": [
    "# Imports and Setups"
   ],
   "metadata": {}
  },
  {
   "cell_type": "code",
   "execution_count": 1,
   "source": [
    "%load_ext autoreload\n",
    "%autoreload 2\n",
    "\n",
    "import pandas as pd\n",
    "import os\n",
    "import matplotlib.pyplot as plt\n",
    "import numpy as np\n",
    "import plotnine as p9\n",
    "from sklearn import preprocessing\n",
    "from sklearn.preprocessing import StandardScaler\n",
    "from sklearn.preprocessing import LabelBinarizer\n",
    "from sklearn.pipeline import Pipeline\n",
    "import transformer\n",
    "from sklearn.metrics import mean_squared_error\n",
    "from sklearn import metrics\n",
    "from fairnesTester import FairnessTester\n",
    "from sklearn.pipeline import FeatureUnion\n",
    "from sklearn.model_selection import train_test_split\n",
    "from fairnesTester import FairnessTester\n",
    "\n",
    "from sklearn.neighbors import KNeighborsClassifier\n",
    "from sklearn.svm import SVC\n",
    "from sklearn.tree import DecisionTreeClassifier\n",
    "from sklearn.ensemble import RandomForestClassifier, AdaBoostClassifier, GradientBoostingClassifier\n",
    "from sklearn.naive_bayes import GaussianNB\n",
    "from sklearn.gaussian_process import GaussianProcessClassifier\n",
    "\n",
    "#pipelines and transformer\n",
    "\n",
    "cat_trans = Pipeline(steps=[\n",
    "    (\"selector\", transformer.DataSelector(\"object\")),\n",
    "    (\"one_hot\", preprocessing.OneHotEncoder())\n",
    "])\n",
    "num_trans = Pipeline(steps=[\n",
    "    (\"selector\", transformer.DataSelector(\"number\")),\n",
    "    (\"scaler\", StandardScaler() )\n",
    "])\n",
    "\n",
    "pre_pipe = FeatureUnion(transformer_list=[\n",
    "    (\"cat\", cat_trans),\n",
    "    (\"num\", num_trans)\n",
    "])\n",
    "\n",
    "lb = LabelBinarizer()\n",
    "del_nan = transformer.DeleteNAN(\"\")"
   ],
   "outputs": [],
   "metadata": {}
  },
  {
   "cell_type": "markdown",
   "source": [
    "# Importing and preparing the data\n"
   ],
   "metadata": {}
  },
  {
   "cell_type": "markdown",
   "source": [
    "## Adult Income Data set"
   ],
   "metadata": {}
  },
  {
   "cell_type": "code",
   "execution_count": null,
   "source": [
    "filename = \"Datasets/adult.data\"\n",
    "names = [\"age\", \"workclass\", \"fnlwgt\",\"education\", \"education-num\", \"marital-status\", \"occupation\", \"relationship\", \"race\", \"sex\", \"capital-gain\", \"capital-loss\", \"hours-per-week\", \"native-country\", \"class\"]\n",
    "train = pd.read_csv(filename, names=names)\n",
    "test = test = pd.read_csv(\"Datasets/adult.test\", names=names)\n",
    "\n",
    "del_nan.set_nan_char(\" ?\")\n",
    "train = del_nan.transform(train)\n",
    "test = del_nan.transform(test)\n",
    "\n",
    "train[\"class\"] = lb.fit_transform(train[\"class\"])\n",
    "test[\"class\"] = lb.fit_transform(test[\"class\"])\n",
    "\n",
    "train_data = pre_pipe.fit_transform(train.drop(\"class\", axis=1))\n",
    "train_labels = train[\"class\"]\n",
    "\n",
    "test_data = pre_pipe.transform(test.drop(\"class\", axis=1))\n",
    "test_labels = test[\"class\"]\n",
    "\n",
    "#attribute for Fairness tester\n",
    "dataset_name = \"Adult_Income\"\n",
    "priv_val = \" Male\"\n",
    "unpriv_val = \" Female\"\n",
    "protected_att = \"sex\"\n",
    "\n"
   ],
   "outputs": [],
   "metadata": {}
  },
  {
   "cell_type": "markdown",
   "source": [
    "## German Credit Dataset"
   ],
   "metadata": {}
  },
  {
   "cell_type": "code",
   "execution_count": 2,
   "source": [
    "filename = \"Datasets/german.data\"\n",
    "names = [\"status existing account\",\"duration\", \"credit history\", \"purpose\", \"credit amount\", \"savings\", \"employment since\", \"installment rate\", \"sex\", \"other debtors\", \"residence since\", \"property\", \"age\", \"installment plans\", \"housing\", \"num existing credits\", \"job\", \"no of pople liable\", \"telephone\", \"foreign worker\", \"class\" ]\n",
    "data = pd.read_csv(filename, sep=\" \", names =names)\n",
    "\n",
    "data[\"class\"] = lb.fit_transform(data[\"class\"])\n",
    "\n",
    "data, test, train_labels, test_labels = train_test_split(data, data[\"class\"], random_state=42)\n",
    "\n",
    "train_data = pre_pipe.fit_transform(data.drop(\"class\", axis=1))\n",
    "test_data = pre_pipe.transform(test.drop(\"class\", axis=1))\n",
    "\n",
    "#transform for Fairness tester\n",
    "test[\"sex\"].replace([\"A91\",\"A93\", \"A94\"],\"m\",inplace=True)\n",
    "test[\"sex\"].replace([\"A92\",\"A95\"],\"f\",inplace=True)\n",
    "\n",
    "#attribute for Fairness tester\n",
    "dataset_name = \"German_Credit\"\n",
    "priv_val = \"m\"\n",
    "unpriv_val = \"f\"\n",
    "protected_att = \"sex\"\n"
   ],
   "outputs": [],
   "metadata": {}
  },
  {
   "cell_type": "markdown",
   "source": [
    "## Default of Creddit Card Payments"
   ],
   "metadata": {}
  },
  {
   "cell_type": "code",
   "execution_count": 7,
   "source": [
    "filename = \"Datasets/default of credit.xls\"\n",
    "data_inp = pd.read_excel(filename, dtype={\"X1\": int,\"X2\": object,\"X3\": object,\"X4\": object,\"X5\": object,\"X6\": object,\"X7\": object,\"X8\": object,\"X9\": object,\"X10\": object,\"X11\": object,\"X12\": int,\"X13\": int,\"X14\": int,\"X15\": int,\"X16\": int,\"X17\": int,\"X23\": int,\"X18\": int,\"X19\": int,\"X20\": int,\"X21\": int,\"X22\": int})\n",
    "\n",
    "data_inp = data_inp.rename(columns={\"Y\": \"class\"})\n",
    "\n",
    "data, test, train_labels, test_labels = train_test_split(data_inp, data_inp[\"class\"], random_state=42)\n",
    "\n",
    "pre_pipe.fit(data_inp.drop(\"class\", axis=1))\n",
    "train_data = pre_pipe.transform(data.drop(\"class\", axis=1))\n",
    "test_data = pre_pipe.transform(test.drop(\"class\", axis=1))\n",
    "\n",
    "\n",
    "#attribute for Fairness tester\n",
    "dataset_name = \"default_of_credit\"\n",
    "priv_val = 1 #male\n",
    "unpriv_val = 2 #female\n",
    "protected_att = \"X2\"\n",
    "\n"
   ],
   "outputs": [],
   "metadata": {}
  },
  {
   "cell_type": "markdown",
   "source": [
    "## Rici vs Stefano Dataset"
   ],
   "metadata": {}
  },
  {
   "cell_type": "code",
   "execution_count": 11,
   "source": [
    "filename = \"Datasets/ricci.csv\"\n",
    "data_inp = pd.read_csv(filename).drop(\"Unnamed: 0\", axis=1)\n",
    "#applicants with combine >= 70 pass\n",
    "#read paper Did the Results of Promotion Exams Have a Disparate Impact on Minorities? Using Statistical Evidence in Ricci v. DeStefano\n",
    "data_inp.rename(columns={\"Combine\": \"class\"}, inplace=True)\n",
    "\n",
    "data_inp.loc[data_inp[\"class\"]>=70, \"class\"] = 1\n",
    "data_inp.loc[(data_inp[\"class\"]<70) & (data_inp[\"class\"]>1), \"class\"] = 0\n",
    "\n",
    "data, test, train_labels, test_labels = train_test_split(data_inp, data_inp[\"class\"], random_state=42)\n",
    "\n",
    "pre_pipe.fit(data_inp.drop(\"class\", axis=1))\n",
    "train_data = pre_pipe.transform(data.drop(\"class\", axis=1))\n",
    "test_data = pre_pipe.transform(test.drop(\"class\", axis=1))\n",
    "\n",
    "#transform for Fairness tester\n",
    "test[\"Race\"].replace([\"H\",\"B\",],\"NW\",inplace=True)\n",
    "\n",
    "\n",
    "#attribute for Fairness tester\n",
    "dataset_name = \"ricci_vs_stefano\"\n",
    "priv_val = \"W\" #white\n",
    "unpriv_val = \"NW\" #not white\n",
    "protected_att = \"Race\"\n"
   ],
   "outputs": [
    {
     "output_type": "stream",
     "name": "stderr",
     "text": [
      "/home/maxk/.local/lib/python3.8/site-packages/pandas/core/generic.py:6610: SettingWithCopyWarning: \n",
      "A value is trying to be set on a copy of a slice from a DataFrame\n",
      "\n",
      "See the caveats in the documentation: https://pandas.pydata.org/pandas-docs/stable/user_guide/indexing.html#returning-a-view-versus-a-copy\n"
     ]
    }
   ],
   "metadata": {}
  },
  {
   "cell_type": "markdown",
   "source": [
    "# Classifiers"
   ],
   "metadata": {}
  },
  {
   "cell_type": "markdown",
   "source": [
    "## Decision Tree"
   ],
   "metadata": {}
  },
  {
   "cell_type": "code",
   "execution_count": null,
   "source": [
    "tree = DecisionTreeClassifier()\n",
    "tree.fit(train_data,train_labels)\n",
    "\n",
    "tree_pred = tree.predict(test_data)\n",
    "test[\"prediction\"] = tree_pred\n",
    "dataset_name"
   ],
   "outputs": [],
   "metadata": {}
  },
  {
   "cell_type": "markdown",
   "source": [
    "## Random Forest"
   ],
   "metadata": {}
  },
  {
   "cell_type": "code",
   "execution_count": null,
   "source": [
    "forest = RandomForestClassifier()\n",
    "forest.fit(train_data,train_labels)\n",
    "\n",
    "forest_pred = forest.predict(test_data)\n",
    "test[\"prediction\"] = forest_pred\n",
    "dataset_name"
   ],
   "outputs": [],
   "metadata": {}
  },
  {
   "cell_type": "markdown",
   "source": [
    "## K-Nearest-Neighbour"
   ],
   "metadata": {}
  },
  {
   "cell_type": "code",
   "execution_count": null,
   "source": [
    "knn = KNeighborsClassifier(3)\n",
    "knn.fit(train_data,train_labels)\n",
    "\n",
    "knn_pred = knn.predict(test_data)\n",
    "test[\"prediction\"] = knn_pred\n",
    "dataset_name "
   ],
   "outputs": [],
   "metadata": {}
  },
  {
   "cell_type": "markdown",
   "source": [
    "## Support Vector Machine"
   ],
   "metadata": {}
  },
  {
   "cell_type": "code",
   "execution_count": null,
   "source": [
    "#nochmal dringend anschauen\n",
    "svc = SVC(kernel=\"rbf\", C=0.025, probability=True) \n",
    "svc.fit(train_data,train_labels)\n",
    "\n",
    "svc_pred = svc.predict(test_data)\n",
    "test[\"prediction\"] = svc_pred\n",
    "dataset_name"
   ],
   "outputs": [],
   "metadata": {}
  },
  {
   "cell_type": "markdown",
   "source": [
    "## Ada Boost "
   ],
   "metadata": {}
  },
  {
   "cell_type": "code",
   "execution_count": null,
   "source": [
    "ada = AdaBoostClassifier()\n",
    "svc.fit(train_data,train_labels)\n",
    "\n",
    "svc_pred = svc.predict(test_data)\n",
    "test[\"prediction\"] = svc_pred\n",
    "dataset_name"
   ],
   "outputs": [],
   "metadata": {}
  },
  {
   "cell_type": "markdown",
   "source": [
    "## Gaussian NB"
   ],
   "metadata": {}
  },
  {
   "cell_type": "code",
   "execution_count": null,
   "source": [
    "gnb = GaussianNB()\n",
    "gnb.fit(train_data.toarray(),train_labels)\n",
    "\n",
    "gnb_pred = gnb.predict(test_data.toarray())\n",
    "test[\"prediction\"] = gnb_pred\n",
    "dataset_name"
   ],
   "outputs": [],
   "metadata": {}
  },
  {
   "cell_type": "markdown",
   "source": [
    "## Gaussian Proccess Classifier"
   ],
   "metadata": {}
  },
  {
   "cell_type": "code",
   "execution_count": null,
   "source": [
    "gpc = GaussianProcessClassifier()\n",
    "gpc.fit(train_data.toarray(),train_labels)\n",
    "\n",
    "gpc_pred = gpc.predict(test_data.toarray())\n",
    "test[\"prediction\"] = gpc_pred\n",
    "gpc.__class__.__name__"
   ],
   "outputs": [],
   "metadata": {}
  },
  {
   "cell_type": "markdown",
   "source": [
    "# Classifier List\n"
   ],
   "metadata": {}
  },
  {
   "cell_type": "code",
   "execution_count": 3,
   "source": [
    "classifiers = [DecisionTreeClassifier(),RandomForestClassifier(),SVC(),AdaBoostClassifier(),KNeighborsClassifier(5), GaussianNB()]\n",
    "model_names = []\n",
    "\n",
    "\n"
   ],
   "outputs": [],
   "metadata": {}
  },
  {
   "cell_type": "code",
   "execution_count": 4,
   "source": [
    "for model in classifiers:\n",
    "    \n",
    "    name = model.__class__.__name__\n",
    "    print(name)\n",
    "    model_names.append(name)\n",
    "\n",
    "    model.fit(train_data.toarray(), train_labels)\n",
    "    pred = model.predict(test_data.toarray())\n",
    "\n",
    "    test[name]=pred"
   ],
   "outputs": [
    {
     "output_type": "stream",
     "name": "stdout",
     "text": [
      "DecisionTreeClassifier\n",
      "RandomForestClassifier\n",
      "SVC\n",
      "AdaBoostClassifier\n",
      "KNeighborsClassifier\n",
      "GaussianNB\n"
     ]
    }
   ],
   "metadata": {}
  },
  {
   "cell_type": "markdown",
   "source": [
    "# Testing for Fairness\n"
   ],
   "metadata": {}
  },
  {
   "cell_type": "markdown",
   "source": [
    "## testing one model"
   ],
   "metadata": {}
  },
  {
   "cell_type": "code",
   "execution_count": null,
   "source": [
    "tester = FairnessTester()\n",
    "tester.setup(test, protected_att, priv_val, unpriv_val)\n",
    "print(\"privileged confusion: \\n\",tester.priv_confusion_matrix())\n",
    "print(\"unprivileged confusion: \\n\", tester.unpriv_confusion_matrix())\n",
    "tester.confuison_based_dic()"
   ],
   "outputs": [],
   "metadata": {}
  },
  {
   "cell_type": "markdown",
   "source": [
    "## testing classifiers list"
   ],
   "metadata": {}
  },
  {
   "cell_type": "code",
   "execution_count": 27,
   "source": [
    "tester = FairnessTester()\n",
    "\n",
    "\n",
    "result_df = pd.DataFrame()\n",
    "\n",
    "for name in model_names:\n",
    "    tester.setup(test, protected_att, priv_val, unpriv_val, name)\n",
    "    result_dic = {\"model\": name}\n",
    "    result_dic.update(tester.confusion_based_dic_priv())\n",
    "    result_df= result_df.append(result_dic, ignore_index=True)\n",
    "    \n",
    "    result_dic = {\"model\": name}\n",
    "    result_dic.update(tester.confusion_based_dic_unpriv())\n",
    "    result_df= result_df.append(result_dic, ignore_index=True)\n",
    "definitions_names = list(tester.confuison_based_dic().keys())\n",
    "result_df\n",
    "    "
   ],
   "outputs": [
    {
     "output_type": "execute_result",
     "data": {
      "text/plain": [
       "                     model   group  statistical parity  predictive parity  \\\n",
       "0   DecisionTreeClassifier    priv            0.276836           0.489796   \n",
       "1   DecisionTreeClassifier  unpriv            0.301370           0.409091   \n",
       "2   RandomForestClassifier    priv            0.146893           0.730769   \n",
       "3   RandomForestClassifier  unpriv            0.164384           0.666667   \n",
       "4                      SVC    priv            0.135593           0.708333   \n",
       "5                      SVC  unpriv            0.178082           0.692308   \n",
       "6       AdaBoostClassifier    priv            0.259887           0.565217   \n",
       "7       AdaBoostClassifier  unpriv            0.246575           0.388889   \n",
       "8     KNeighborsClassifier    priv            0.158192           0.642857   \n",
       "9     KNeighborsClassifier  unpriv            0.205479           0.666667   \n",
       "10              GaussianNB    priv            0.435028           0.480519   \n",
       "11              GaussianNB  unpriv            0.438356           0.562500   \n",
       "\n",
       "    negative predictive parity  equal opportunity  predictive equality  \\\n",
       "0                     0.796875           0.480000             0.196850   \n",
       "1                     0.745098           0.409091             0.254902   \n",
       "2                     0.794702           0.380000             0.055118   \n",
       "3                     0.770492           0.363636             0.078431   \n",
       "4                     0.784314           0.340000             0.055118   \n",
       "5                     0.783333           0.409091             0.078431   \n",
       "6                     0.816794           0.520000             0.157480   \n",
       "7                     0.727273           0.318182             0.215686   \n",
       "8                     0.785235           0.360000             0.078740   \n",
       "9                     0.793103           0.454545             0.098039   \n",
       "10                    0.870000           0.740000             0.314961   \n",
       "11                    0.902439           0.818182             0.274510   \n",
       "\n",
       "    overall accuracy equality  treatment equality  \n",
       "0                    0.711864            0.378558  \n",
       "1                    0.643836            0.431373  \n",
       "2                    0.785311            0.088900  \n",
       "3                    0.753425            0.123249  \n",
       "4                    0.774011            0.083512  \n",
       "5                    0.767123            0.132730  \n",
       "6                    0.751412            0.328084  \n",
       "7                    0.643836            0.316340  \n",
       "8                    0.762712            0.123031  \n",
       "9                    0.767123            0.179739  \n",
       "10                   0.700565            1.211387  \n",
       "11                   0.753425            1.509804  "
      ],
      "text/html": [
       "<div>\n",
       "<style scoped>\n",
       "    .dataframe tbody tr th:only-of-type {\n",
       "        vertical-align: middle;\n",
       "    }\n",
       "\n",
       "    .dataframe tbody tr th {\n",
       "        vertical-align: top;\n",
       "    }\n",
       "\n",
       "    .dataframe thead th {\n",
       "        text-align: right;\n",
       "    }\n",
       "</style>\n",
       "<table border=\"1\" class=\"dataframe\">\n",
       "  <thead>\n",
       "    <tr style=\"text-align: right;\">\n",
       "      <th></th>\n",
       "      <th>model</th>\n",
       "      <th>group</th>\n",
       "      <th>statistical parity</th>\n",
       "      <th>predictive parity</th>\n",
       "      <th>negative predictive parity</th>\n",
       "      <th>equal opportunity</th>\n",
       "      <th>predictive equality</th>\n",
       "      <th>overall accuracy equality</th>\n",
       "      <th>treatment equality</th>\n",
       "    </tr>\n",
       "  </thead>\n",
       "  <tbody>\n",
       "    <tr>\n",
       "      <th>0</th>\n",
       "      <td>DecisionTreeClassifier</td>\n",
       "      <td>priv</td>\n",
       "      <td>0.276836</td>\n",
       "      <td>0.489796</td>\n",
       "      <td>0.796875</td>\n",
       "      <td>0.480000</td>\n",
       "      <td>0.196850</td>\n",
       "      <td>0.711864</td>\n",
       "      <td>0.378558</td>\n",
       "    </tr>\n",
       "    <tr>\n",
       "      <th>1</th>\n",
       "      <td>DecisionTreeClassifier</td>\n",
       "      <td>unpriv</td>\n",
       "      <td>0.301370</td>\n",
       "      <td>0.409091</td>\n",
       "      <td>0.745098</td>\n",
       "      <td>0.409091</td>\n",
       "      <td>0.254902</td>\n",
       "      <td>0.643836</td>\n",
       "      <td>0.431373</td>\n",
       "    </tr>\n",
       "    <tr>\n",
       "      <th>2</th>\n",
       "      <td>RandomForestClassifier</td>\n",
       "      <td>priv</td>\n",
       "      <td>0.146893</td>\n",
       "      <td>0.730769</td>\n",
       "      <td>0.794702</td>\n",
       "      <td>0.380000</td>\n",
       "      <td>0.055118</td>\n",
       "      <td>0.785311</td>\n",
       "      <td>0.088900</td>\n",
       "    </tr>\n",
       "    <tr>\n",
       "      <th>3</th>\n",
       "      <td>RandomForestClassifier</td>\n",
       "      <td>unpriv</td>\n",
       "      <td>0.164384</td>\n",
       "      <td>0.666667</td>\n",
       "      <td>0.770492</td>\n",
       "      <td>0.363636</td>\n",
       "      <td>0.078431</td>\n",
       "      <td>0.753425</td>\n",
       "      <td>0.123249</td>\n",
       "    </tr>\n",
       "    <tr>\n",
       "      <th>4</th>\n",
       "      <td>SVC</td>\n",
       "      <td>priv</td>\n",
       "      <td>0.135593</td>\n",
       "      <td>0.708333</td>\n",
       "      <td>0.784314</td>\n",
       "      <td>0.340000</td>\n",
       "      <td>0.055118</td>\n",
       "      <td>0.774011</td>\n",
       "      <td>0.083512</td>\n",
       "    </tr>\n",
       "    <tr>\n",
       "      <th>5</th>\n",
       "      <td>SVC</td>\n",
       "      <td>unpriv</td>\n",
       "      <td>0.178082</td>\n",
       "      <td>0.692308</td>\n",
       "      <td>0.783333</td>\n",
       "      <td>0.409091</td>\n",
       "      <td>0.078431</td>\n",
       "      <td>0.767123</td>\n",
       "      <td>0.132730</td>\n",
       "    </tr>\n",
       "    <tr>\n",
       "      <th>6</th>\n",
       "      <td>AdaBoostClassifier</td>\n",
       "      <td>priv</td>\n",
       "      <td>0.259887</td>\n",
       "      <td>0.565217</td>\n",
       "      <td>0.816794</td>\n",
       "      <td>0.520000</td>\n",
       "      <td>0.157480</td>\n",
       "      <td>0.751412</td>\n",
       "      <td>0.328084</td>\n",
       "    </tr>\n",
       "    <tr>\n",
       "      <th>7</th>\n",
       "      <td>AdaBoostClassifier</td>\n",
       "      <td>unpriv</td>\n",
       "      <td>0.246575</td>\n",
       "      <td>0.388889</td>\n",
       "      <td>0.727273</td>\n",
       "      <td>0.318182</td>\n",
       "      <td>0.215686</td>\n",
       "      <td>0.643836</td>\n",
       "      <td>0.316340</td>\n",
       "    </tr>\n",
       "    <tr>\n",
       "      <th>8</th>\n",
       "      <td>KNeighborsClassifier</td>\n",
       "      <td>priv</td>\n",
       "      <td>0.158192</td>\n",
       "      <td>0.642857</td>\n",
       "      <td>0.785235</td>\n",
       "      <td>0.360000</td>\n",
       "      <td>0.078740</td>\n",
       "      <td>0.762712</td>\n",
       "      <td>0.123031</td>\n",
       "    </tr>\n",
       "    <tr>\n",
       "      <th>9</th>\n",
       "      <td>KNeighborsClassifier</td>\n",
       "      <td>unpriv</td>\n",
       "      <td>0.205479</td>\n",
       "      <td>0.666667</td>\n",
       "      <td>0.793103</td>\n",
       "      <td>0.454545</td>\n",
       "      <td>0.098039</td>\n",
       "      <td>0.767123</td>\n",
       "      <td>0.179739</td>\n",
       "    </tr>\n",
       "    <tr>\n",
       "      <th>10</th>\n",
       "      <td>GaussianNB</td>\n",
       "      <td>priv</td>\n",
       "      <td>0.435028</td>\n",
       "      <td>0.480519</td>\n",
       "      <td>0.870000</td>\n",
       "      <td>0.740000</td>\n",
       "      <td>0.314961</td>\n",
       "      <td>0.700565</td>\n",
       "      <td>1.211387</td>\n",
       "    </tr>\n",
       "    <tr>\n",
       "      <th>11</th>\n",
       "      <td>GaussianNB</td>\n",
       "      <td>unpriv</td>\n",
       "      <td>0.438356</td>\n",
       "      <td>0.562500</td>\n",
       "      <td>0.902439</td>\n",
       "      <td>0.818182</td>\n",
       "      <td>0.274510</td>\n",
       "      <td>0.753425</td>\n",
       "      <td>1.509804</td>\n",
       "    </tr>\n",
       "  </tbody>\n",
       "</table>\n",
       "</div>"
      ]
     },
     "metadata": {},
     "execution_count": 27
    }
   ],
   "metadata": {}
  },
  {
   "cell_type": "markdown",
   "source": [
    "# Plotting"
   ],
   "metadata": {}
  },
  {
   "cell_type": "code",
   "execution_count": 14,
   "source": [
    "plots = []\n",
    "for definition in definitions_names:\n",
    "\n",
    "    plot = p9.ggplot(data= result_df, mapping = p9.aes(x=\"model\", y=definition)) + p9.geom_col()+p9.facet_grid(\"group~.\") + p9.theme(axis_text_x = p9.element_text(angle=90))\n",
    "    plots.append(plot) \n",
    "\n",
    "i=0\n",
    "for plot in plots:\n",
    "    plot.save(filename=\"plots/\"+dataset_name+\"_\"+definitions_names[i]+\".png\")\n",
    "    i+=1"
   ],
   "outputs": [
    {
     "output_type": "stream",
     "name": "stderr",
     "text": [
      "/home/maxk/.local/lib/python3.8/site-packages/plotnine/ggplot.py:719: PlotnineWarning: Saving 6.4 x 4.8 in image.\n",
      "/home/maxk/.local/lib/python3.8/site-packages/plotnine/ggplot.py:722: PlotnineWarning: Filename: plots/ricci_vs_stefano_statistical parity.png\n",
      "/home/maxk/.local/lib/python3.8/site-packages/plotnine/ggplot.py:719: PlotnineWarning: Saving 6.4 x 4.8 in image.\n",
      "/home/maxk/.local/lib/python3.8/site-packages/plotnine/ggplot.py:722: PlotnineWarning: Filename: plots/ricci_vs_stefano_predictive parity.png\n",
      "/home/maxk/.local/lib/python3.8/site-packages/plotnine/ggplot.py:719: PlotnineWarning: Saving 6.4 x 4.8 in image.\n",
      "/home/maxk/.local/lib/python3.8/site-packages/plotnine/ggplot.py:722: PlotnineWarning: Filename: plots/ricci_vs_stefano_negative predictive parity.png\n",
      "/home/maxk/.local/lib/python3.8/site-packages/plotnine/ggplot.py:719: PlotnineWarning: Saving 6.4 x 4.8 in image.\n",
      "/home/maxk/.local/lib/python3.8/site-packages/plotnine/ggplot.py:722: PlotnineWarning: Filename: plots/ricci_vs_stefano_equal opportunity.png\n",
      "/home/maxk/.local/lib/python3.8/site-packages/plotnine/ggplot.py:719: PlotnineWarning: Saving 6.4 x 4.8 in image.\n",
      "/home/maxk/.local/lib/python3.8/site-packages/plotnine/ggplot.py:722: PlotnineWarning: Filename: plots/ricci_vs_stefano_predictive equality.png\n",
      "/home/maxk/.local/lib/python3.8/site-packages/plotnine/ggplot.py:719: PlotnineWarning: Saving 6.4 x 4.8 in image.\n",
      "/home/maxk/.local/lib/python3.8/site-packages/plotnine/ggplot.py:722: PlotnineWarning: Filename: plots/ricci_vs_stefano_overall accuracy equality.png\n",
      "/home/maxk/.local/lib/python3.8/site-packages/plotnine/ggplot.py:719: PlotnineWarning: Saving 6.4 x 4.8 in image.\n",
      "/home/maxk/.local/lib/python3.8/site-packages/plotnine/ggplot.py:722: PlotnineWarning: Filename: plots/ricci_vs_stefano_treatment equality.png\n",
      "/home/maxk/.local/lib/python3.8/site-packages/plotnine/layer.py:381: PlotnineWarning: position_stack : Removed 21 rows containing missing values.\n",
      "/home/maxk/.local/lib/python3.8/site-packages/plotnine/layer.py:401: PlotnineWarning: geom_col : Removed 2 rows containing missing values.\n"
     ]
    }
   ],
   "metadata": {}
  },
  {
   "cell_type": "code",
   "execution_count": 31,
   "source": [
    "result_df\n",
    "full_result_df = pd.DataFrame()\n",
    "for model in model_names:\n",
    "    for defi in definitions_names:\n",
    "        for group in [\"priv\", \"unpriv\"]:\n",
    "            dic = {}\n",
    "            dic[\"model\"] = result_df.loc[(result_df[\"model\"]==model)&(result_df[\"group\"]==group)][\"model\"].item()\n",
    "            dic[\"group\"] = result_df.loc[(result_df[\"model\"]==model)&(result_df[\"group\"]==group)][\"group\"].item()\n",
    "            dic[\"definition\"] = defi\n",
    "            dic[\"result\"]= result_df.loc[(result_df[\"model\"]==model)&(result_df[\"group\"]==group)][defi].item()\n",
    "            full_result_df = full_result_df.append(dic, ignore_index=True)\n",
    "\n",
    "full_result_df\n",
    "        "
   ],
   "outputs": [
    {
     "output_type": "stream",
     "name": "stdout",
     "text": [
      "{'model': 'DecisionTreeClassifier', 'group': 'priv', 'result': 0.2768361581920904}\n",
      "{'model': 'DecisionTreeClassifier', 'group': 'unpriv', 'result': 0.3013698630136986}\n",
      "{'model': 'DecisionTreeClassifier', 'group': 'priv', 'result': 0.4897959183673469}\n",
      "{'model': 'DecisionTreeClassifier', 'group': 'unpriv', 'result': 0.4090909090909091}\n",
      "{'model': 'DecisionTreeClassifier', 'group': 'priv', 'result': 0.796875}\n",
      "{'model': 'DecisionTreeClassifier', 'group': 'unpriv', 'result': 0.7450980392156863}\n",
      "{'model': 'DecisionTreeClassifier', 'group': 'priv', 'result': 0.48}\n",
      "{'model': 'DecisionTreeClassifier', 'group': 'unpriv', 'result': 0.4090909090909091}\n",
      "{'model': 'DecisionTreeClassifier', 'group': 'priv', 'result': 0.1968503937007874}\n",
      "{'model': 'DecisionTreeClassifier', 'group': 'unpriv', 'result': 0.2549019607843137}\n",
      "{'model': 'DecisionTreeClassifier', 'group': 'priv', 'result': 0.711864406779661}\n",
      "{'model': 'DecisionTreeClassifier', 'group': 'unpriv', 'result': 0.6438356164383562}\n",
      "{'model': 'DecisionTreeClassifier', 'group': 'priv', 'result': 0.37855844942459116}\n",
      "{'model': 'DecisionTreeClassifier', 'group': 'unpriv', 'result': 0.4313725490196078}\n",
      "{'model': 'RandomForestClassifier', 'group': 'priv', 'result': 0.14689265536723164}\n",
      "{'model': 'RandomForestClassifier', 'group': 'unpriv', 'result': 0.1643835616438356}\n",
      "{'model': 'RandomForestClassifier', 'group': 'priv', 'result': 0.7307692307692307}\n",
      "{'model': 'RandomForestClassifier', 'group': 'unpriv', 'result': 0.6666666666666666}\n",
      "{'model': 'RandomForestClassifier', 'group': 'priv', 'result': 0.7947019867549668}\n",
      "{'model': 'RandomForestClassifier', 'group': 'unpriv', 'result': 0.7704918032786885}\n",
      "{'model': 'RandomForestClassifier', 'group': 'priv', 'result': 0.38}\n",
      "{'model': 'RandomForestClassifier', 'group': 'unpriv', 'result': 0.36363636363636365}\n",
      "{'model': 'RandomForestClassifier', 'group': 'priv', 'result': 0.05511811023622047}\n",
      "{'model': 'RandomForestClassifier', 'group': 'unpriv', 'result': 0.0784313725490196}\n",
      "{'model': 'RandomForestClassifier', 'group': 'priv', 'result': 0.7853107344632768}\n",
      "{'model': 'RandomForestClassifier', 'group': 'unpriv', 'result': 0.7534246575342466}\n",
      "{'model': 'RandomForestClassifier', 'group': 'priv', 'result': 0.0889001778003556}\n",
      "{'model': 'RandomForestClassifier', 'group': 'unpriv', 'result': 0.12324929971988796}\n",
      "{'model': 'SVC', 'group': 'priv', 'result': 0.13559322033898305}\n",
      "{'model': 'SVC', 'group': 'unpriv', 'result': 0.1780821917808219}\n",
      "{'model': 'SVC', 'group': 'priv', 'result': 0.7083333333333334}\n",
      "{'model': 'SVC', 'group': 'unpriv', 'result': 0.6923076923076923}\n",
      "{'model': 'SVC', 'group': 'priv', 'result': 0.7843137254901961}\n",
      "{'model': 'SVC', 'group': 'unpriv', 'result': 0.7833333333333333}\n",
      "{'model': 'SVC', 'group': 'priv', 'result': 0.34}\n",
      "{'model': 'SVC', 'group': 'unpriv', 'result': 0.4090909090909091}\n",
      "{'model': 'SVC', 'group': 'priv', 'result': 0.05511811023622047}\n",
      "{'model': 'SVC', 'group': 'unpriv', 'result': 0.0784313725490196}\n",
      "{'model': 'SVC', 'group': 'priv', 'result': 0.7740112994350282}\n",
      "{'model': 'SVC', 'group': 'unpriv', 'result': 0.7671232876712328}\n",
      "{'model': 'SVC', 'group': 'priv', 'result': 0.08351228823669768}\n",
      "{'model': 'SVC', 'group': 'unpriv', 'result': 0.13273001508295626}\n",
      "{'model': 'AdaBoostClassifier', 'group': 'priv', 'result': 0.2598870056497175}\n",
      "{'model': 'AdaBoostClassifier', 'group': 'unpriv', 'result': 0.2465753424657534}\n",
      "{'model': 'AdaBoostClassifier', 'group': 'priv', 'result': 0.5652173913043478}\n",
      "{'model': 'AdaBoostClassifier', 'group': 'unpriv', 'result': 0.3888888888888889}\n",
      "{'model': 'AdaBoostClassifier', 'group': 'priv', 'result': 0.816793893129771}\n",
      "{'model': 'AdaBoostClassifier', 'group': 'unpriv', 'result': 0.7272727272727273}\n",
      "{'model': 'AdaBoostClassifier', 'group': 'priv', 'result': 0.52}\n",
      "{'model': 'AdaBoostClassifier', 'group': 'unpriv', 'result': 0.3181818181818182}\n",
      "{'model': 'AdaBoostClassifier', 'group': 'priv', 'result': 0.15748031496062992}\n",
      "{'model': 'AdaBoostClassifier', 'group': 'unpriv', 'result': 0.21568627450980393}\n",
      "{'model': 'AdaBoostClassifier', 'group': 'priv', 'result': 0.751412429378531}\n",
      "{'model': 'AdaBoostClassifier', 'group': 'unpriv', 'result': 0.6438356164383562}\n",
      "{'model': 'AdaBoostClassifier', 'group': 'priv', 'result': 0.32808398950131235}\n",
      "{'model': 'AdaBoostClassifier', 'group': 'unpriv', 'result': 0.3163398692810458}\n",
      "{'model': 'KNeighborsClassifier', 'group': 'priv', 'result': 0.15819209039548024}\n",
      "{'model': 'KNeighborsClassifier', 'group': 'unpriv', 'result': 0.2054794520547945}\n",
      "{'model': 'KNeighborsClassifier', 'group': 'priv', 'result': 0.6428571428571429}\n",
      "{'model': 'KNeighborsClassifier', 'group': 'unpriv', 'result': 0.6666666666666666}\n",
      "{'model': 'KNeighborsClassifier', 'group': 'priv', 'result': 0.785234899328859}\n",
      "{'model': 'KNeighborsClassifier', 'group': 'unpriv', 'result': 0.7931034482758621}\n",
      "{'model': 'KNeighborsClassifier', 'group': 'priv', 'result': 0.36}\n",
      "{'model': 'KNeighborsClassifier', 'group': 'unpriv', 'result': 0.45454545454545453}\n",
      "{'model': 'KNeighborsClassifier', 'group': 'priv', 'result': 0.07874015748031496}\n",
      "{'model': 'KNeighborsClassifier', 'group': 'unpriv', 'result': 0.09803921568627451}\n",
      "{'model': 'KNeighborsClassifier', 'group': 'priv', 'result': 0.7627118644067796}\n",
      "{'model': 'KNeighborsClassifier', 'group': 'unpriv', 'result': 0.7671232876712328}\n",
      "{'model': 'KNeighborsClassifier', 'group': 'priv', 'result': 0.12303149606299212}\n",
      "{'model': 'KNeighborsClassifier', 'group': 'unpriv', 'result': 0.17973856209150327}\n",
      "{'model': 'GaussianNB', 'group': 'priv', 'result': 0.4350282485875706}\n",
      "{'model': 'GaussianNB', 'group': 'unpriv', 'result': 0.4383561643835616}\n",
      "{'model': 'GaussianNB', 'group': 'priv', 'result': 0.4805194805194805}\n",
      "{'model': 'GaussianNB', 'group': 'unpriv', 'result': 0.5625}\n",
      "{'model': 'GaussianNB', 'group': 'priv', 'result': 0.87}\n",
      "{'model': 'GaussianNB', 'group': 'unpriv', 'result': 0.9024390243902439}\n",
      "{'model': 'GaussianNB', 'group': 'priv', 'result': 0.74}\n",
      "{'model': 'GaussianNB', 'group': 'unpriv', 'result': 0.8181818181818182}\n",
      "{'model': 'GaussianNB', 'group': 'priv', 'result': 0.31496062992125984}\n",
      "{'model': 'GaussianNB', 'group': 'unpriv', 'result': 0.27450980392156865}\n",
      "{'model': 'GaussianNB', 'group': 'priv', 'result': 0.7005649717514124}\n",
      "{'model': 'GaussianNB', 'group': 'unpriv', 'result': 0.7534246575342466}\n",
      "{'model': 'GaussianNB', 'group': 'priv', 'result': 1.2113870381586918}\n",
      "{'model': 'GaussianNB', 'group': 'unpriv', 'result': 1.5098039215686276}\n"
     ]
    },
    {
     "output_type": "execute_result",
     "data": {
      "text/plain": [
       "                     model   group    result\n",
       "0   DecisionTreeClassifier    priv  0.276836\n",
       "1   DecisionTreeClassifier  unpriv  0.301370\n",
       "2   DecisionTreeClassifier    priv  0.489796\n",
       "3   DecisionTreeClassifier  unpriv  0.409091\n",
       "4   DecisionTreeClassifier    priv  0.796875\n",
       "..                     ...     ...       ...\n",
       "79              GaussianNB  unpriv  0.274510\n",
       "80              GaussianNB    priv  0.700565\n",
       "81              GaussianNB  unpriv  0.753425\n",
       "82              GaussianNB    priv  1.211387\n",
       "83              GaussianNB  unpriv  1.509804\n",
       "\n",
       "[84 rows x 3 columns]"
      ],
      "text/html": [
       "<div>\n",
       "<style scoped>\n",
       "    .dataframe tbody tr th:only-of-type {\n",
       "        vertical-align: middle;\n",
       "    }\n",
       "\n",
       "    .dataframe tbody tr th {\n",
       "        vertical-align: top;\n",
       "    }\n",
       "\n",
       "    .dataframe thead th {\n",
       "        text-align: right;\n",
       "    }\n",
       "</style>\n",
       "<table border=\"1\" class=\"dataframe\">\n",
       "  <thead>\n",
       "    <tr style=\"text-align: right;\">\n",
       "      <th></th>\n",
       "      <th>model</th>\n",
       "      <th>group</th>\n",
       "      <th>result</th>\n",
       "    </tr>\n",
       "  </thead>\n",
       "  <tbody>\n",
       "    <tr>\n",
       "      <th>0</th>\n",
       "      <td>DecisionTreeClassifier</td>\n",
       "      <td>priv</td>\n",
       "      <td>0.276836</td>\n",
       "    </tr>\n",
       "    <tr>\n",
       "      <th>1</th>\n",
       "      <td>DecisionTreeClassifier</td>\n",
       "      <td>unpriv</td>\n",
       "      <td>0.301370</td>\n",
       "    </tr>\n",
       "    <tr>\n",
       "      <th>2</th>\n",
       "      <td>DecisionTreeClassifier</td>\n",
       "      <td>priv</td>\n",
       "      <td>0.489796</td>\n",
       "    </tr>\n",
       "    <tr>\n",
       "      <th>3</th>\n",
       "      <td>DecisionTreeClassifier</td>\n",
       "      <td>unpriv</td>\n",
       "      <td>0.409091</td>\n",
       "    </tr>\n",
       "    <tr>\n",
       "      <th>4</th>\n",
       "      <td>DecisionTreeClassifier</td>\n",
       "      <td>priv</td>\n",
       "      <td>0.796875</td>\n",
       "    </tr>\n",
       "    <tr>\n",
       "      <th>...</th>\n",
       "      <td>...</td>\n",
       "      <td>...</td>\n",
       "      <td>...</td>\n",
       "    </tr>\n",
       "    <tr>\n",
       "      <th>79</th>\n",
       "      <td>GaussianNB</td>\n",
       "      <td>unpriv</td>\n",
       "      <td>0.274510</td>\n",
       "    </tr>\n",
       "    <tr>\n",
       "      <th>80</th>\n",
       "      <td>GaussianNB</td>\n",
       "      <td>priv</td>\n",
       "      <td>0.700565</td>\n",
       "    </tr>\n",
       "    <tr>\n",
       "      <th>81</th>\n",
       "      <td>GaussianNB</td>\n",
       "      <td>unpriv</td>\n",
       "      <td>0.753425</td>\n",
       "    </tr>\n",
       "    <tr>\n",
       "      <th>82</th>\n",
       "      <td>GaussianNB</td>\n",
       "      <td>priv</td>\n",
       "      <td>1.211387</td>\n",
       "    </tr>\n",
       "    <tr>\n",
       "      <th>83</th>\n",
       "      <td>GaussianNB</td>\n",
       "      <td>unpriv</td>\n",
       "      <td>1.509804</td>\n",
       "    </tr>\n",
       "  </tbody>\n",
       "</table>\n",
       "<p>84 rows × 3 columns</p>\n",
       "</div>"
      ]
     },
     "metadata": {},
     "execution_count": 31
    }
   ],
   "metadata": {}
  },
  {
   "cell_type": "code",
   "execution_count": 29,
   "source": [
    "result_df.loc[(result_df[\"model\"]==\"DecisionTreeClassifier\")&(result_df[\"group\"]==\"priv\")][\"model\"].item()\n"
   ],
   "outputs": [
    {
     "output_type": "execute_result",
     "data": {
      "text/plain": [
       "'DecisionTreeClassifier'"
      ]
     },
     "metadata": {},
     "execution_count": 29
    }
   ],
   "metadata": {}
  },
  {
   "cell_type": "code",
   "execution_count": 28,
   "source": [
    "result_df[\"group\"]"
   ],
   "outputs": [
    {
     "output_type": "execute_result",
     "data": {
      "text/plain": [
       "0       priv\n",
       "1     unpriv\n",
       "2       priv\n",
       "3     unpriv\n",
       "4       priv\n",
       "5     unpriv\n",
       "6       priv\n",
       "7     unpriv\n",
       "8       priv\n",
       "9     unpriv\n",
       "10      priv\n",
       "11    unpriv\n",
       "Name: group, dtype: object"
      ]
     },
     "metadata": {},
     "execution_count": 28
    }
   ],
   "metadata": {}
  },
  {
   "cell_type": "code",
   "execution_count": null,
   "source": [],
   "outputs": [],
   "metadata": {}
  }
 ],
 "metadata": {
  "orig_nbformat": 4,
  "language_info": {
   "name": "python",
   "version": "3.8.10",
   "mimetype": "text/x-python",
   "codemirror_mode": {
    "name": "ipython",
    "version": 3
   },
   "pygments_lexer": "ipython3",
   "nbconvert_exporter": "python",
   "file_extension": ".py"
  },
  "kernelspec": {
   "name": "python3",
   "display_name": "Python 3.8.10 64-bit"
  },
  "interpreter": {
   "hash": "916dbcbb3f70747c44a77c7bcd40155683ae19c65e1c03b4aa3499c5328201f1"
  }
 },
 "nbformat": 4,
 "nbformat_minor": 2
}