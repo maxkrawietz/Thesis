{
 "cells": [
  {
   "cell_type": "markdown",
   "source": [
    "# Imports and Setups"
   ],
   "metadata": {}
  },
  {
   "cell_type": "code",
   "execution_count": null,
   "source": [
    "%load_ext autoreload\n",
    "%autoreload 2\n",
    "\n",
    "import pandas as pd\n",
    "import os\n",
    "import matplotlib.pyplot as plt\n",
    "import numpy as np\n",
    "import plotnine as p9\n",
    "from sklearn import preprocessing\n",
    "from sklearn.preprocessing import StandardScaler\n",
    "from sklearn.preprocessing import LabelBinarizer\n",
    "from sklearn.pipeline import Pipeline\n",
    "import transformer\n",
    "from sklearn.metrics import mean_squared_error\n",
    "from sklearn import metrics\n",
    "from fairnesTester import FairnessTester\n",
    "from sklearn.pipeline import FeatureUnion\n",
    "from sklearn.model_selection import train_test_split\n",
    "from fairnesTester import FairnessTester\n",
    "\n",
    "from sklearn.neighbors import KNeighborsClassifier\n",
    "from sklearn.svm import SVC\n",
    "from sklearn.tree import DecisionTreeClassifier, plot_tree, export_graphviz\n",
    "from sklearn.ensemble import RandomForestClassifier, AdaBoostClassifier, GradientBoostingClassifier\n",
    "from sklearn.naive_bayes import GaussianNB\n",
    "from sklearn.gaussian_process import GaussianProcessClassifier\n",
    "from xgboost import XGBClassifier\n",
    "\n",
    "#pipelines and transformer\n",
    "\n",
    "cat_trans = Pipeline(steps=[\n",
    "    (\"selector\", transformer.DataSelector(\"object\")),\n",
    "    (\"one_hot\", preprocessing.OneHotEncoder())\n",
    "])\n",
    "num_trans = Pipeline(steps=[\n",
    "    (\"selector\", transformer.DataSelector(\"number\")),\n",
    "    (\"scaler\", StandardScaler() )\n",
    "])\n",
    "\n",
    "pre_pipe = FeatureUnion(transformer_list=[\n",
    "    (\"cat\", cat_trans),\n",
    "    (\"num\", num_trans)\n",
    "])\n",
    "\n",
    "lb = LabelBinarizer()\n",
    "del_nan = transformer.DeleteNAN(\"\")"
   ],
   "outputs": [],
   "metadata": {}
  },
  {
   "cell_type": "markdown",
   "source": [
    "# Importing and preparing the data\n"
   ],
   "metadata": {}
  },
  {
   "cell_type": "markdown",
   "source": [
    "## Adult Income Data set"
   ],
   "metadata": {}
  },
  {
   "cell_type": "code",
   "execution_count": 99,
   "source": [
    "filename = \"Datasets/adult.data\"\n",
    "names = [\"age\", \"workclass\", \"fnlwgt\",\"education\", \"education-num\", \"marital-status\", \"occupation\", \"relationship\", \"race\", \"sex\", \"capital-gain\", \"capital-loss\", \"hours-per-week\", \"native-country\", \"class\"]\n",
    "train = pd.read_csv(filename, names=names)\n",
    "test = test = pd.read_csv(\"Datasets/adult.test\", names=names)\n",
    "\n",
    "del_nan.set_nan_char(\" ?\")\n",
    "train = del_nan.transform(train)\n",
    "test = del_nan.transform(test)\n",
    "\n",
    "train[\"class\"] = lb.fit_transform(train[\"class\"])\n",
    "test[\"class\"] = lb.fit_transform(test[\"class\"])\n",
    "\n",
    "train_data = pre_pipe.fit_transform(train.drop(\"class\", axis=1))\n",
    "train_labels = train[\"class\"]\n",
    "\n",
    "test_data = pre_pipe.transform(test.drop(\"class\", axis=1))\n",
    "test_labels = test[\"class\"]\n",
    "\n",
    "#attribute for Fairness tester\n",
    "dataset_name = \"Adult_Income\"\n",
    "priv_val = \" Male\"\n",
    "unpriv_val = \" Female\"\n",
    "protected_att = \"sex\""
   ],
   "outputs": [],
   "metadata": {}
  },
  {
   "cell_type": "markdown",
   "source": [
    "## German Credit Dataset"
   ],
   "metadata": {}
  },
  {
   "cell_type": "code",
   "execution_count": 110,
   "source": [
    "filename = \"Datasets/german.data\"\n",
    "names = [\"status existing account\",\"duration\", \"credit history\", \"purpose\", \"credit amount\", \"savings\", \"employment since\", \"installment rate\", \"sex\", \"other debtors\", \"residence since\", \"property\", \"age\", \"installment plans\", \"housing\", \"num existing credits\", \"job\", \"no of pople liable\", \"telephone\", \"foreign worker\", \"class\" ]\n",
    "data = pd.read_csv(filename, sep=\" \", names =names)\n",
    "\n",
    "data[\"class\"] = lb.fit_transform(data[\"class\"])\n",
    "\n",
    "data, test, train_labels, test_labels = train_test_split(data, data[\"class\"], random_state=42)\n",
    "\n",
    "train_data = pre_pipe.fit_transform(data.drop(\"class\", axis=1))\n",
    "test_data = pre_pipe.transform(test.drop(\"class\", axis=1))\n",
    "\n",
    "#transform for Fairness tester\n",
    "test[\"sex\"].replace([\"A91\",\"A93\", \"A94\"],\"m\",inplace=True)\n",
    "test[\"sex\"].replace([\"A92\",\"A95\"],\"f\",inplace=True)\n",
    "\n",
    "#attribute for Fairness tester\n",
    "dataset_name = \"German_Credit\"\n",
    "priv_val = \"m\"\n",
    "unpriv_val = \"f\"\n",
    "protected_att = \"sex\"\n"
   ],
   "outputs": [],
   "metadata": {}
  },
  {
   "cell_type": "markdown",
   "source": [
    "## Default of Creddit Card Payments"
   ],
   "metadata": {}
  },
  {
   "cell_type": "code",
   "execution_count": 121,
   "source": [
    "filename = \"Datasets/default of credit.xls\"\n",
    "data_inp = pd.read_excel(filename, dtype={\"X1\": int,\"X2\": object,\"X3\": object,\"X4\": object,\"X5\": object,\"X6\": object,\"X7\": object,\"X8\": object,\"X9\": object,\"X10\": object,\"X11\": object,\"X12\": int,\"X13\": int,\"X14\": int,\"X15\": int,\"X16\": int,\"X17\": int,\"X23\": int,\"X18\": int,\"X19\": int,\"X20\": int,\"X21\": int,\"X22\": int})\n",
    "\n",
    "data_inp = data_inp.rename(columns={\"Y\": \"class\"})\n",
    "\n",
    "data, test, train_labels, test_labels = train_test_split(data_inp, data_inp[\"class\"], random_state=42)\n",
    "\n",
    "pre_pipe.fit(data_inp.drop(\"class\", axis=1))\n",
    "train_data = pre_pipe.transform(data.drop(\"class\", axis=1))\n",
    "test_data = pre_pipe.transform(test.drop(\"class\", axis=1))\n",
    "\n",
    "\n",
    "#attribute for Fairness tester\n",
    "dataset_name = \"default_of_credit\"\n",
    "priv_val = 1 #male\n",
    "unpriv_val = 2 #female\n",
    "protected_att = \"X2\"\n",
    "\n"
   ],
   "outputs": [],
   "metadata": {}
  },
  {
   "cell_type": "markdown",
   "source": [
    "## Rici vs Stefano Dataset"
   ],
   "metadata": {}
  },
  {
   "cell_type": "code",
   "execution_count": null,
   "source": [
    "filename = \"Datasets/ricci.csv\"\n",
    "data_inp = pd.read_csv(filename).drop(\"Unnamed: 0\", axis=1)\n",
    "#applicants with combine >= 70 pass\n",
    "#read paper Did the Results of Promotion Exams Have a Disparate Impact on Minorities? Using Statistical Evidence in Ricci v. DeStefano\n",
    "data_inp.rename(columns={\"Combine\": \"class\"}, inplace=True)\n",
    "\n",
    "data_inp.loc[(data_inp[\"class\"]<70), \"class\"] = 0\n",
    "data_inp.loc[data_inp[\"class\"]>=70, \"class\"] = 1\n",
    "\n",
    "\n",
    "data, test, train_labels, test_labels = train_test_split(data_inp, data_inp[\"class\"], random_state=42)\n",
    "\n",
    "pre_pipe.fit(data_inp.drop(\"class\", axis=1))\n",
    "train_data = pre_pipe.transform(data.drop(\"class\", axis=1))\n",
    "test_data = pre_pipe.transform(test.drop(\"class\", axis=1))\n",
    "\n",
    "#transform for Fairness tester\n",
    "test[\"Race\"].replace([\"H\",\"B\",],\"NW\",inplace=True)\n",
    "\n",
    "\n",
    "#attribute for Fairness tester\n",
    "dataset_name = \"ricci_vs_stefano\"\n",
    "priv_val = \"W\" #white\n",
    "unpriv_val = \"NW\" #not white\n",
    "protected_att = \"Race\"\n"
   ],
   "outputs": [],
   "metadata": {}
  },
  {
   "cell_type": "markdown",
   "source": [
    "## Heart Disease Dataset"
   ],
   "metadata": {}
  },
  {
   "cell_type": "code",
   "execution_count": null,
   "source": [
    "filename = \"Datasets/processed.cleveland.data\"\n",
    "names = [\"age\", \"sex\", 3,4,5,6,7,8,9,10,11,12,13,\"class\"]\n",
    "data_inp = pd.read_csv(filename, names=names)\n",
    "\n",
    "\n",
    "data_inp.loc[data_inp[\"class\"]>=1, \"class\"] = 1 #existing heart disase\n",
    "\n",
    "data, test, train_labels, test_labels = train_test_split(data_inp, data_inp[\"class\"], random_state=42)\n",
    "\n",
    "pre_pipe.fit(data_inp.drop(\"class\", axis=1))\n",
    "train_data = pre_pipe.transform(data.drop(\"class\", axis=1))\n",
    "test_data = pre_pipe.transform(test.drop(\"class\", axis=1))\n",
    "\n",
    "\n",
    "#attribute for Fairness tester\n",
    "dataset_name = \"heart_diseases_dataset\"\n",
    "priv_val = 1 #male\n",
    "unpriv_val = 0 #female\n",
    "protected_att = \"sex\""
   ],
   "outputs": [],
   "metadata": {}
  },
  {
   "cell_type": "markdown",
   "source": [
    "## Heart Failure Dataset"
   ],
   "metadata": {}
  },
  {
   "cell_type": "code",
   "execution_count": null,
   "source": [
    "filename = \"Datasets/heart_failure.csv\"\n",
    "data_inp = pd.read_csv(filename)\n",
    "data_inp.rename(columns={\"DEATH_EVENT\":\"class\"}, inplace=True)\n",
    "\n",
    "data, test, train_labels, test_labels = train_test_split(data_inp, data_inp[\"class\"], random_state=42)\n",
    "\n",
    "\n",
    "pre_pipe.fit(data_inp.drop(\"class\", axis=1))\n",
    "train_data = pre_pipe.transform(data.drop(\"class\", axis=1))\n",
    "test_data = pre_pipe.transform(test.drop(\"class\", axis=1))\n",
    "\n",
    "\n",
    "#attribute for Fairness tester\n",
    "dataset_name = \"heart_failure_dataset\"\n",
    "priv_val = 1 #male\n",
    "unpriv_val = 0 #female\n",
    "protected_att = \"sex\""
   ],
   "outputs": [],
   "metadata": {}
  },
  {
   "cell_type": "markdown",
   "source": [
    "## Student Performance Data Set"
   ],
   "metadata": {}
  },
  {
   "cell_type": "code",
   "execution_count": null,
   "source": [
    "filename = \"Datasets/student-por.csv\"\n",
    "data_inp = pd.read_csv(filename, sep=\";\")\n",
    "\n",
    "data_inp.drop([\"G1\",\"G2\"],axis=1,inplace=True)\n",
    "data_inp.rename(columns={\"G3\":\"class\"},inplace=True)\n",
    "\n",
    "data_inp.loc[(data_inp[\"class\"]<10), \"class\"] = 0 #failed\n",
    "data_inp.loc[data_inp[\"class\"]>=10, \"class\"] = 1 #passed\n",
    "\n",
    "\n",
    "data, test, train_labels, test_labels = train_test_split(data_inp, data_inp[\"class\"], random_state=42)\n",
    "\n",
    "\n",
    "pre_pipe.fit(data_inp.drop(\"class\", axis=1))\n",
    "train_data = pre_pipe.transform(data.drop(\"class\", axis=1))\n",
    "test_data = pre_pipe.transform(test.drop(\"class\", axis=1))\n",
    "\n",
    "\n",
    "#attribute for Fairness tester\n",
    "dataset_name = \"student_performance_dataset\"\n",
    "priv_val = \"M\" #male\n",
    "unpriv_val = \"F\" #female\n",
    "protected_att = \"sex\"\n",
    "\n"
   ],
   "outputs": [],
   "metadata": {}
  },
  {
   "cell_type": "markdown",
   "source": [
    "# Classifiers"
   ],
   "metadata": {}
  },
  {
   "cell_type": "markdown",
   "source": [
    "## Decision Tree"
   ],
   "metadata": {}
  },
  {
   "cell_type": "code",
   "execution_count": null,
   "source": [
    "tree = DecisionTreeClassifier()\n",
    "tree.fit(train_data,train_labels)\n",
    "\n",
    "tree_pred = tree.predict(test_data)\n",
    "test[\"prediction\"] = tree_pred\n",
    "dataset_name"
   ],
   "outputs": [],
   "metadata": {}
  },
  {
   "cell_type": "markdown",
   "source": [
    "## Random Forest"
   ],
   "metadata": {}
  },
  {
   "cell_type": "code",
   "execution_count": null,
   "source": [
    "forest = RandomForestClassifier()\n",
    "forest.fit(train_data,train_labels)\n",
    "\n",
    "forest_pred = forest.predict(test_data)\n",
    "test[\"prediction\"] = forest_pred\n",
    "dataset_name"
   ],
   "outputs": [],
   "metadata": {}
  },
  {
   "cell_type": "code",
   "execution_count": null,
   "source": [
    "features = [\"X\", \"Race_White\", \"Race_Black\", \"Race_Hispanic\", \"Position_Leutantent\", \"Position_Captain\", \"oral\", \"written\"]\n",
    "export_graphviz(tree,out_file=\"decision_tree_graph\" , feature_names= features, fill=True)"
   ],
   "outputs": [],
   "metadata": {}
  },
  {
   "cell_type": "markdown",
   "source": [
    "## K-Nearest-Neighbour"
   ],
   "metadata": {}
  },
  {
   "cell_type": "code",
   "execution_count": null,
   "source": [
    "knn = KNeighborsClassifier(3)\n",
    "knn.fit(train_data,train_labels)\n",
    "\n",
    "knn_pred = knn.predict(test_data)\n",
    "test[\"prediction\"] = knn_pred\n",
    "dataset_name "
   ],
   "outputs": [],
   "metadata": {}
  },
  {
   "cell_type": "markdown",
   "source": [
    "## Support Vector Machine"
   ],
   "metadata": {}
  },
  {
   "cell_type": "code",
   "execution_count": null,
   "source": [
    "#nochmal dringend anschauen\n",
    "svc = SVC(kernel=\"rbf\", C=0.025, probability=True) \n",
    "svc.fit(train_data,train_labels)\n",
    "\n",
    "svc_pred = svc.predict(test_data)\n",
    "test[\"prediction\"] = svc_pred\n",
    "dataset_name"
   ],
   "outputs": [],
   "metadata": {}
  },
  {
   "cell_type": "markdown",
   "source": [
    "## Ada Boost "
   ],
   "metadata": {}
  },
  {
   "cell_type": "code",
   "execution_count": null,
   "source": [
    "ada = AdaBoostClassifier()\n",
    "svc.fit(train_data,train_labels)\n",
    "\n",
    "svc_pred = svc.predict(test_data)\n",
    "test[\"prediction\"] = svc_pred\n",
    "dataset_name"
   ],
   "outputs": [],
   "metadata": {}
  },
  {
   "cell_type": "markdown",
   "source": [
    "## Gaussian NB"
   ],
   "metadata": {}
  },
  {
   "cell_type": "code",
   "execution_count": null,
   "source": [
    "gnb = GaussianNB()\n",
    "gnb.fit(train_data.toarray(),train_labels)\n",
    "\n",
    "gnb_pred = gnb.predict(test_data.toarray())\n",
    "test[\"prediction\"] = gnb_pred\n",
    "dataset_name"
   ],
   "outputs": [],
   "metadata": {}
  },
  {
   "cell_type": "markdown",
   "source": [
    "## Gaussian Proccess Classifier"
   ],
   "metadata": {}
  },
  {
   "cell_type": "code",
   "execution_count": null,
   "source": [
    "gpc = GaussianProcessClassifier()\n",
    "gpc.fit(train_data.toarray(),train_labels)\n",
    "\n",
    "gpc_pred = gpc.predict(test_data.toarray())\n",
    "test[\"prediction\"] = gpc_pred\n",
    "gpc.__class__.__name__"
   ],
   "outputs": [],
   "metadata": {}
  },
  {
   "cell_type": "markdown",
   "source": [
    "## XGBoost"
   ],
   "metadata": {}
  },
  {
   "cell_type": "code",
   "execution_count": null,
   "source": [
    "xgb = XGBClassifier()\n",
    "xgb.fit(train_data.toarray(),train_labels)\n",
    "\n",
    "xgb_pred = xgb.predict(test_data.toarray())\n",
    "test[\"prediction\"] = xgb_pred"
   ],
   "outputs": [],
   "metadata": {}
  },
  {
   "cell_type": "markdown",
   "source": [
    "# Classifier List\r\n"
   ],
   "metadata": {}
  },
  {
   "cell_type": "code",
   "execution_count": 122,
   "source": [
    "classifiers = [DecisionTreeClassifier(),RandomForestClassifier(),SVC(),AdaBoostClassifier(),KNeighborsClassifier(5), GaussianNB(), XGBClassifier()]\n",
    "model_names = []\n",
    "\n",
    "for model in classifiers:\n",
    "    \n",
    "    name = model.__class__.__name__\n",
    "    print(name)\n",
    "    model_names.append(name)\n",
    "\n",
    "    model.fit(train_data.toarray(), train_labels)\n",
    "    pred = model.predict(test_data.toarray())\n",
    "\n",
    "    test[name]=pred"
   ],
   "outputs": [
    {
     "output_type": "stream",
     "name": "stdout",
     "text": [
      "DecisionTreeClassifier\n"
     ]
    },
    {
     "output_type": "stream",
     "name": "stderr",
     "text": [
      "/tmp/ipykernel_3037/4127379242.py:13: SettingWithCopyWarning: \n",
      "A value is trying to be set on a copy of a slice from a DataFrame.\n",
      "Try using .loc[row_indexer,col_indexer] = value instead\n",
      "\n",
      "See the caveats in the documentation: https://pandas.pydata.org/pandas-docs/stable/user_guide/indexing.html#returning-a-view-versus-a-copy\n"
     ]
    },
    {
     "output_type": "stream",
     "name": "stdout",
     "text": [
      "RandomForestClassifier\n"
     ]
    },
    {
     "output_type": "stream",
     "name": "stderr",
     "text": [
      "/tmp/ipykernel_3037/4127379242.py:13: SettingWithCopyWarning: \n",
      "A value is trying to be set on a copy of a slice from a DataFrame.\n",
      "Try using .loc[row_indexer,col_indexer] = value instead\n",
      "\n",
      "See the caveats in the documentation: https://pandas.pydata.org/pandas-docs/stable/user_guide/indexing.html#returning-a-view-versus-a-copy\n"
     ]
    },
    {
     "output_type": "stream",
     "name": "stdout",
     "text": [
      "SVC\n"
     ]
    },
    {
     "output_type": "stream",
     "name": "stderr",
     "text": [
      "/tmp/ipykernel_3037/4127379242.py:13: SettingWithCopyWarning: \n",
      "A value is trying to be set on a copy of a slice from a DataFrame.\n",
      "Try using .loc[row_indexer,col_indexer] = value instead\n",
      "\n",
      "See the caveats in the documentation: https://pandas.pydata.org/pandas-docs/stable/user_guide/indexing.html#returning-a-view-versus-a-copy\n"
     ]
    },
    {
     "output_type": "stream",
     "name": "stdout",
     "text": [
      "AdaBoostClassifier\n"
     ]
    },
    {
     "output_type": "stream",
     "name": "stderr",
     "text": [
      "/tmp/ipykernel_3037/4127379242.py:13: SettingWithCopyWarning: \n",
      "A value is trying to be set on a copy of a slice from a DataFrame.\n",
      "Try using .loc[row_indexer,col_indexer] = value instead\n",
      "\n",
      "See the caveats in the documentation: https://pandas.pydata.org/pandas-docs/stable/user_guide/indexing.html#returning-a-view-versus-a-copy\n"
     ]
    },
    {
     "output_type": "stream",
     "name": "stdout",
     "text": [
      "KNeighborsClassifier\n"
     ]
    },
    {
     "output_type": "stream",
     "name": "stderr",
     "text": [
      "/tmp/ipykernel_3037/4127379242.py:13: SettingWithCopyWarning: \n",
      "A value is trying to be set on a copy of a slice from a DataFrame.\n",
      "Try using .loc[row_indexer,col_indexer] = value instead\n",
      "\n",
      "See the caveats in the documentation: https://pandas.pydata.org/pandas-docs/stable/user_guide/indexing.html#returning-a-view-versus-a-copy\n",
      "/tmp/ipykernel_3037/4127379242.py:13: SettingWithCopyWarning: \n",
      "A value is trying to be set on a copy of a slice from a DataFrame.\n",
      "Try using .loc[row_indexer,col_indexer] = value instead\n",
      "\n",
      "See the caveats in the documentation: https://pandas.pydata.org/pandas-docs/stable/user_guide/indexing.html#returning-a-view-versus-a-copy\n",
      "/home/maxk/.local/lib/python3.8/site-packages/xgboost/sklearn.py:1146: UserWarning: The use of label encoder in XGBClassifier is deprecated and will be removed in a future release. To remove this warning, do the following: 1) Pass option use_label_encoder=False when constructing XGBClassifier object; and 2) Encode your labels (y) as integers starting with 0, i.e. 0, 1, 2, ..., [num_class - 1].\n"
     ]
    },
    {
     "output_type": "stream",
     "name": "stdout",
     "text": [
      "GaussianNB\n",
      "XGBClassifier\n",
      "[18:09:35] WARNING: ../src/learner.cc:1095: Starting in XGBoost 1.3.0, the default evaluation metric used with the objective 'binary:logistic' was changed from 'error' to 'logloss'. Explicitly set eval_metric if you'd like to restore the old behavior.\n"
     ]
    }
   ],
   "metadata": {}
  },
  {
   "cell_type": "markdown",
   "source": [
    "# Testing for Fairness\r\n"
   ],
   "metadata": {}
  },
  {
   "cell_type": "markdown",
   "source": [
    "## testing one model"
   ],
   "metadata": {}
  },
  {
   "cell_type": "code",
   "execution_count": null,
   "source": [
    "tester = FairnessTester()\n",
    "tester.setup(test, protected_att, priv_val, unpriv_val)\n",
    "print(\"privileged confusion: \\n\",tester.priv_confusion_matrix())\n",
    "print(\"unprivileged confusion: \\n\", tester.unpriv_confusion_matrix())\n",
    "tester.confuison_based_dic()"
   ],
   "outputs": [],
   "metadata": {}
  },
  {
   "cell_type": "markdown",
   "source": [
    "## testing classifiers list"
   ],
   "metadata": {}
  },
  {
   "cell_type": "code",
   "execution_count": 123,
   "source": [
    "tester = FairnessTester()\n",
    "\n",
    "\n",
    "result_df = pd.DataFrame()\n",
    "\n",
    "for name in model_names:\n",
    "    tester.setup(test, protected_att, priv_val, unpriv_val, name)\n",
    "    result_dic = {\"model\": name}\n",
    "    result_dic.update(tester.confusion_based_dic_priv())\n",
    "    result_df= result_df.append(result_dic, ignore_index=True)\n",
    "    \n",
    "    result_dic = {\"model\": name}\n",
    "    result_dic.update(tester.confusion_based_dic_unpriv())\n",
    "    result_df= result_df.append(result_dic, ignore_index=True)\n",
    "definitions_names = list(tester.confuison_based_dic().keys())\n",
    "result_df\n",
    "    "
   ],
   "outputs": [
    {
     "output_type": "execute_result",
     "data": {
      "text/html": [
       "<div>\n",
       "<style scoped>\n",
       "    .dataframe tbody tr th:only-of-type {\n",
       "        vertical-align: middle;\n",
       "    }\n",
       "\n",
       "    .dataframe tbody tr th {\n",
       "        vertical-align: top;\n",
       "    }\n",
       "\n",
       "    .dataframe thead th {\n",
       "        text-align: right;\n",
       "    }\n",
       "</style>\n",
       "<table border=\"1\" class=\"dataframe\">\n",
       "  <thead>\n",
       "    <tr style=\"text-align: right;\">\n",
       "      <th></th>\n",
       "      <th>model</th>\n",
       "      <th>group</th>\n",
       "      <th>statistical parity</th>\n",
       "      <th>predictive parity</th>\n",
       "      <th>negative predictive parity</th>\n",
       "      <th>equal opportunity</th>\n",
       "      <th>predictive equality</th>\n",
       "      <th>overall accuracy equality</th>\n",
       "      <th>treatment equality</th>\n",
       "    </tr>\n",
       "  </thead>\n",
       "  <tbody>\n",
       "    <tr>\n",
       "      <th>0</th>\n",
       "      <td>DecisionTreeClassifier</td>\n",
       "      <td>priv</td>\n",
       "      <td>0.233169</td>\n",
       "      <td>0.394366</td>\n",
       "      <td>0.815418</td>\n",
       "      <td>0.393812</td>\n",
       "      <td>0.184233</td>\n",
       "      <td>0.717241</td>\n",
       "      <td>0.303920</td>\n",
       "    </tr>\n",
       "    <tr>\n",
       "      <th>1</th>\n",
       "      <td>DecisionTreeClassifier</td>\n",
       "      <td>unpriv</td>\n",
       "      <td>0.225365</td>\n",
       "      <td>0.367530</td>\n",
       "      <td>0.841495</td>\n",
       "      <td>0.402838</td>\n",
       "      <td>0.179429</td>\n",
       "      <td>0.734680</td>\n",
       "      <td>0.300470</td>\n",
       "    </tr>\n",
       "    <tr>\n",
       "      <th>2</th>\n",
       "      <td>RandomForestClassifier</td>\n",
       "      <td>priv</td>\n",
       "      <td>0.129392</td>\n",
       "      <td>0.624365</td>\n",
       "      <td>0.824594</td>\n",
       "      <td>0.345992</td>\n",
       "      <td>0.063410</td>\n",
       "      <td>0.798686</td>\n",
       "      <td>0.096957</td>\n",
       "    </tr>\n",
       "    <tr>\n",
       "      <th>3</th>\n",
       "      <td>RandomForestClassifier</td>\n",
       "      <td>unpriv</td>\n",
       "      <td>0.112907</td>\n",
       "      <td>0.656064</td>\n",
       "      <td>0.851721</td>\n",
       "      <td>0.360262</td>\n",
       "      <td>0.048884</td>\n",
       "      <td>0.829630</td>\n",
       "      <td>0.076412</td>\n",
       "    </tr>\n",
       "    <tr>\n",
       "      <th>4</th>\n",
       "      <td>SVC</td>\n",
       "      <td>priv</td>\n",
       "      <td>0.094253</td>\n",
       "      <td>0.686411</td>\n",
       "      <td>0.813633</td>\n",
       "      <td>0.277075</td>\n",
       "      <td>0.038560</td>\n",
       "      <td>0.801642</td>\n",
       "      <td>0.053339</td>\n",
       "    </tr>\n",
       "    <tr>\n",
       "      <th>5</th>\n",
       "      <td>SVC</td>\n",
       "      <td>unpriv</td>\n",
       "      <td>0.096521</td>\n",
       "      <td>0.686047</td>\n",
       "      <td>0.845714</td>\n",
       "      <td>0.322052</td>\n",
       "      <td>0.038146</td>\n",
       "      <td>0.830303</td>\n",
       "      <td>0.056267</td>\n",
       "    </tr>\n",
       "    <tr>\n",
       "      <th>6</th>\n",
       "      <td>AdaBoostClassifier</td>\n",
       "      <td>priv</td>\n",
       "      <td>0.114943</td>\n",
       "      <td>0.665714</td>\n",
       "      <td>0.822635</td>\n",
       "      <td>0.327707</td>\n",
       "      <td>0.050129</td>\n",
       "      <td>0.804598</td>\n",
       "      <td>0.074564</td>\n",
       "    </tr>\n",
       "    <tr>\n",
       "      <th>7</th>\n",
       "      <td>AdaBoostClassifier</td>\n",
       "      <td>unpriv</td>\n",
       "      <td>0.096296</td>\n",
       "      <td>0.673660</td>\n",
       "      <td>0.844262</td>\n",
       "      <td>0.315502</td>\n",
       "      <td>0.039559</td>\n",
       "      <td>0.827834</td>\n",
       "      <td>0.057793</td>\n",
       "    </tr>\n",
       "    <tr>\n",
       "      <th>8</th>\n",
       "      <td>KNeighborsClassifier</td>\n",
       "      <td>priv</td>\n",
       "      <td>0.133662</td>\n",
       "      <td>0.520885</td>\n",
       "      <td>0.810842</td>\n",
       "      <td>0.298172</td>\n",
       "      <td>0.083548</td>\n",
       "      <td>0.772085</td>\n",
       "      <td>0.119043</td>\n",
       "    </tr>\n",
       "    <tr>\n",
       "      <th>9</th>\n",
       "      <td>KNeighborsClassifier</td>\n",
       "      <td>unpriv</td>\n",
       "      <td>0.116723</td>\n",
       "      <td>0.580769</td>\n",
       "      <td>0.843964</td>\n",
       "      <td>0.329694</td>\n",
       "      <td>0.061599</td>\n",
       "      <td>0.813244</td>\n",
       "      <td>0.091897</td>\n",
       "    </tr>\n",
       "    <tr>\n",
       "      <th>10</th>\n",
       "      <td>GaussianNB</td>\n",
       "      <td>priv</td>\n",
       "      <td>0.198030</td>\n",
       "      <td>0.514096</td>\n",
       "      <td>0.835790</td>\n",
       "      <td>0.436006</td>\n",
       "      <td>0.125536</td>\n",
       "      <td>0.772085</td>\n",
       "      <td>0.222583</td>\n",
       "    </tr>\n",
       "    <tr>\n",
       "      <th>11</th>\n",
       "      <td>GaussianNB</td>\n",
       "      <td>unpriv</td>\n",
       "      <td>0.168575</td>\n",
       "      <td>0.528628</td>\n",
       "      <td>0.859881</td>\n",
       "      <td>0.433406</td>\n",
       "      <td>0.100028</td>\n",
       "      <td>0.804040</td>\n",
       "      <td>0.176543</td>\n",
       "    </tr>\n",
       "    <tr>\n",
       "      <th>12</th>\n",
       "      <td>XGBClassifier</td>\n",
       "      <td>priv</td>\n",
       "      <td>0.136289</td>\n",
       "      <td>0.624096</td>\n",
       "      <td>0.828137</td>\n",
       "      <td>0.364276</td>\n",
       "      <td>0.066838</td>\n",
       "      <td>0.800328</td>\n",
       "      <td>0.105137</td>\n",
       "    </tr>\n",
       "    <tr>\n",
       "      <th>13</th>\n",
       "      <td>XGBClassifier</td>\n",
       "      <td>unpriv</td>\n",
       "      <td>0.117845</td>\n",
       "      <td>0.628571</td>\n",
       "      <td>0.850891</td>\n",
       "      <td>0.360262</td>\n",
       "      <td>0.055100</td>\n",
       "      <td>0.824691</td>\n",
       "      <td>0.086129</td>\n",
       "    </tr>\n",
       "  </tbody>\n",
       "</table>\n",
       "</div>"
      ],
      "text/plain": [
       "                     model   group  statistical parity  predictive parity  \\\n",
       "0   DecisionTreeClassifier    priv            0.233169           0.394366   \n",
       "1   DecisionTreeClassifier  unpriv            0.225365           0.367530   \n",
       "2   RandomForestClassifier    priv            0.129392           0.624365   \n",
       "3   RandomForestClassifier  unpriv            0.112907           0.656064   \n",
       "4                      SVC    priv            0.094253           0.686411   \n",
       "5                      SVC  unpriv            0.096521           0.686047   \n",
       "6       AdaBoostClassifier    priv            0.114943           0.665714   \n",
       "7       AdaBoostClassifier  unpriv            0.096296           0.673660   \n",
       "8     KNeighborsClassifier    priv            0.133662           0.520885   \n",
       "9     KNeighborsClassifier  unpriv            0.116723           0.580769   \n",
       "10              GaussianNB    priv            0.198030           0.514096   \n",
       "11              GaussianNB  unpriv            0.168575           0.528628   \n",
       "12           XGBClassifier    priv            0.136289           0.624096   \n",
       "13           XGBClassifier  unpriv            0.117845           0.628571   \n",
       "\n",
       "    negative predictive parity  equal opportunity  predictive equality  \\\n",
       "0                     0.815418           0.393812             0.184233   \n",
       "1                     0.841495           0.402838             0.179429   \n",
       "2                     0.824594           0.345992             0.063410   \n",
       "3                     0.851721           0.360262             0.048884   \n",
       "4                     0.813633           0.277075             0.038560   \n",
       "5                     0.845714           0.322052             0.038146   \n",
       "6                     0.822635           0.327707             0.050129   \n",
       "7                     0.844262           0.315502             0.039559   \n",
       "8                     0.810842           0.298172             0.083548   \n",
       "9                     0.843964           0.329694             0.061599   \n",
       "10                    0.835790           0.436006             0.125536   \n",
       "11                    0.859881           0.433406             0.100028   \n",
       "12                    0.828137           0.364276             0.066838   \n",
       "13                    0.850891           0.360262             0.055100   \n",
       "\n",
       "    overall accuracy equality  treatment equality  \n",
       "0                    0.717241            0.303920  \n",
       "1                    0.734680            0.300470  \n",
       "2                    0.798686            0.096957  \n",
       "3                    0.829630            0.076412  \n",
       "4                    0.801642            0.053339  \n",
       "5                    0.830303            0.056267  \n",
       "6                    0.804598            0.074564  \n",
       "7                    0.827834            0.057793  \n",
       "8                    0.772085            0.119043  \n",
       "9                    0.813244            0.091897  \n",
       "10                   0.772085            0.222583  \n",
       "11                   0.804040            0.176543  \n",
       "12                   0.800328            0.105137  \n",
       "13                   0.824691            0.086129  "
      ]
     },
     "metadata": {},
     "execution_count": 123
    }
   ],
   "metadata": {}
  },
  {
   "cell_type": "code",
   "execution_count": 124,
   "source": [
    "#fit all data into better selectable format(for complete plot of all definitions)\n",
    "\n",
    "full_result_df = pd.DataFrame()\n",
    "for model in model_names:\n",
    "    for defi in definitions_names:\n",
    "        for group in [\"priv\", \"unpriv\"]:    \n",
    "            #if defi == \"treatment equality\":   #skip treatment equality as it will destroy the scales for full plot\n",
    "            #    continue          \n",
    "            dic = {}\n",
    "            dic[\"model\"] = result_df.loc[(result_df[\"model\"]==model)&(result_df[\"group\"]==group)][\"model\"].item()\n",
    "            dic[\"group\"] = result_df.loc[(result_df[\"model\"]==model)&(result_df[\"group\"]==group)][\"group\"].item()\n",
    "            dic[\"definition\"] = defi\n",
    "            dic[\"result\"]= result_df.loc[(result_df[\"model\"]==model)&(result_df[\"group\"]==group)][defi].item()\n",
    "            full_result_df = full_result_df.append(dic, ignore_index=True)\n",
    "\n",
    "full_result_df\n",
    "        "
   ],
   "outputs": [
    {
     "output_type": "execute_result",
     "data": {
      "text/html": [
       "<div>\n",
       "<style scoped>\n",
       "    .dataframe tbody tr th:only-of-type {\n",
       "        vertical-align: middle;\n",
       "    }\n",
       "\n",
       "    .dataframe tbody tr th {\n",
       "        vertical-align: top;\n",
       "    }\n",
       "\n",
       "    .dataframe thead th {\n",
       "        text-align: right;\n",
       "    }\n",
       "</style>\n",
       "<table border=\"1\" class=\"dataframe\">\n",
       "  <thead>\n",
       "    <tr style=\"text-align: right;\">\n",
       "      <th></th>\n",
       "      <th>model</th>\n",
       "      <th>group</th>\n",
       "      <th>definition</th>\n",
       "      <th>result</th>\n",
       "    </tr>\n",
       "  </thead>\n",
       "  <tbody>\n",
       "    <tr>\n",
       "      <th>0</th>\n",
       "      <td>DecisionTreeClassifier</td>\n",
       "      <td>priv</td>\n",
       "      <td>statistical parity</td>\n",
       "      <td>0.233169</td>\n",
       "    </tr>\n",
       "    <tr>\n",
       "      <th>1</th>\n",
       "      <td>DecisionTreeClassifier</td>\n",
       "      <td>unpriv</td>\n",
       "      <td>statistical parity</td>\n",
       "      <td>0.225365</td>\n",
       "    </tr>\n",
       "    <tr>\n",
       "      <th>2</th>\n",
       "      <td>DecisionTreeClassifier</td>\n",
       "      <td>priv</td>\n",
       "      <td>predictive parity</td>\n",
       "      <td>0.394366</td>\n",
       "    </tr>\n",
       "    <tr>\n",
       "      <th>3</th>\n",
       "      <td>DecisionTreeClassifier</td>\n",
       "      <td>unpriv</td>\n",
       "      <td>predictive parity</td>\n",
       "      <td>0.367530</td>\n",
       "    </tr>\n",
       "    <tr>\n",
       "      <th>4</th>\n",
       "      <td>DecisionTreeClassifier</td>\n",
       "      <td>priv</td>\n",
       "      <td>negative predictive parity</td>\n",
       "      <td>0.815418</td>\n",
       "    </tr>\n",
       "    <tr>\n",
       "      <th>...</th>\n",
       "      <td>...</td>\n",
       "      <td>...</td>\n",
       "      <td>...</td>\n",
       "      <td>...</td>\n",
       "    </tr>\n",
       "    <tr>\n",
       "      <th>93</th>\n",
       "      <td>XGBClassifier</td>\n",
       "      <td>unpriv</td>\n",
       "      <td>predictive equality</td>\n",
       "      <td>0.055100</td>\n",
       "    </tr>\n",
       "    <tr>\n",
       "      <th>94</th>\n",
       "      <td>XGBClassifier</td>\n",
       "      <td>priv</td>\n",
       "      <td>overall accuracy equality</td>\n",
       "      <td>0.800328</td>\n",
       "    </tr>\n",
       "    <tr>\n",
       "      <th>95</th>\n",
       "      <td>XGBClassifier</td>\n",
       "      <td>unpriv</td>\n",
       "      <td>overall accuracy equality</td>\n",
       "      <td>0.824691</td>\n",
       "    </tr>\n",
       "    <tr>\n",
       "      <th>96</th>\n",
       "      <td>XGBClassifier</td>\n",
       "      <td>priv</td>\n",
       "      <td>treatment equality</td>\n",
       "      <td>0.105137</td>\n",
       "    </tr>\n",
       "    <tr>\n",
       "      <th>97</th>\n",
       "      <td>XGBClassifier</td>\n",
       "      <td>unpriv</td>\n",
       "      <td>treatment equality</td>\n",
       "      <td>0.086129</td>\n",
       "    </tr>\n",
       "  </tbody>\n",
       "</table>\n",
       "<p>98 rows × 4 columns</p>\n",
       "</div>"
      ],
      "text/plain": [
       "                     model   group                  definition    result\n",
       "0   DecisionTreeClassifier    priv          statistical parity  0.233169\n",
       "1   DecisionTreeClassifier  unpriv          statistical parity  0.225365\n",
       "2   DecisionTreeClassifier    priv           predictive parity  0.394366\n",
       "3   DecisionTreeClassifier  unpriv           predictive parity  0.367530\n",
       "4   DecisionTreeClassifier    priv  negative predictive parity  0.815418\n",
       "..                     ...     ...                         ...       ...\n",
       "93           XGBClassifier  unpriv         predictive equality  0.055100\n",
       "94           XGBClassifier    priv   overall accuracy equality  0.800328\n",
       "95           XGBClassifier  unpriv   overall accuracy equality  0.824691\n",
       "96           XGBClassifier    priv          treatment equality  0.105137\n",
       "97           XGBClassifier  unpriv          treatment equality  0.086129\n",
       "\n",
       "[98 rows x 4 columns]"
      ]
     },
     "metadata": {},
     "execution_count": 124
    }
   ],
   "metadata": {}
  },
  {
   "cell_type": "code",
   "execution_count": 125,
   "source": [
    "# get differences from data\n",
    "\n",
    "differences = pd.DataFrame()\n",
    "\n",
    "for model in model_names:\n",
    "    for defi in definitions_names:   \n",
    "        if defi == \"treatment equality\":   #skip treatment equality as it will destroy the scales for full plot\n",
    "            continue          \n",
    "        dic = {}\n",
    "        dic[\"model\"] = result_df.loc[(result_df[\"model\"]==model)&(result_df[\"group\"]==group)][\"model\"].item()\n",
    "        x = result_df.loc[(result_df[\"model\"]==model)&(result_df[\"group\"]==\"priv\")][defi].item()\n",
    "        y = result_df.loc[(result_df[\"model\"]==model)&(result_df[\"group\"]==\"unpriv\")][defi].item()\n",
    "        dic[\"definition\"] = defi\n",
    "        dic[\"difference\"]= abs(x-y)\n",
    "        differences = differences.append(dic, ignore_index=True)"
   ],
   "outputs": [],
   "metadata": {}
  },
  {
   "cell_type": "code",
   "execution_count": 126,
   "source": [
    "# get ratio from data\n",
    "\n",
    "ratio = pd.DataFrame()\n",
    "\n",
    "for model in model_names:\n",
    "    for defi in definitions_names:   \n",
    "        if defi == \"treatment equality\":   #skip treatment equality as it will destroy the scales for full plot\n",
    "            continue          \n",
    "        dic = {}\n",
    "        dic[\"model\"] = result_df.loc[(result_df[\"model\"]==model)&(result_df[\"group\"]==group)][\"model\"].item()\n",
    "        x = result_df.loc[(result_df[\"model\"]==model)&(result_df[\"group\"]==\"priv\")][defi].item()\n",
    "        y = result_df.loc[(result_df[\"model\"]==model)&(result_df[\"group\"]==\"unpriv\")][defi].item()\n",
    "        dic[\"definition\"] = defi\n",
    "        if (x == 0):\n",
    "            dic[\"ratio\"]= 0\n",
    "        else:\n",
    "            dic[\"ratio\"]= y/x\n",
    "        \n",
    "        ratio = ratio.append(dic, ignore_index=True)"
   ],
   "outputs": [],
   "metadata": {}
  },
  {
   "cell_type": "markdown",
   "source": [
    "# Plotting"
   ],
   "metadata": {}
  },
  {
   "cell_type": "code",
   "execution_count": 127,
   "source": [
    "#one plot for each definition with color\n",
    "plots = []\n",
    "for definition in definitions_names:\n",
    "\n",
    "    plot = (p9.ggplot(data= result_df, mapping = p9.aes(x=\"model\", y=definition, fill=\"group\")) \n",
    "    + p9.geom_col(position=\"dodge\")\n",
    "    + p9.theme(axis_text_x = p9.element_text(angle=90))\n",
    "    + p9.labs(x=\"ML Models\", y= \"Results\", title=(definition+\" for \" + dataset_name)))\n",
    "    plots.append(plot) \n",
    "\n",
    "i=0\n",
    "for plot in plots:\n",
    "    plot.save(filename=\"plots/\"+dataset_name+\"/\"+dataset_name+\"_\"+definitions_names[i]+\"_color.png\")\n",
    "    i+=1"
   ],
   "outputs": [
    {
     "output_type": "stream",
     "name": "stderr",
     "text": [
      "/home/maxk/.local/lib/python3.8/site-packages/plotnine/ggplot.py:719: PlotnineWarning: Saving 6.4 x 4.8 in image.\n",
      "/home/maxk/.local/lib/python3.8/site-packages/plotnine/ggplot.py:722: PlotnineWarning: Filename: plots/default_of_credit/default_of_credit_statistical parity_color.png\n",
      "/home/maxk/.local/lib/python3.8/site-packages/plotnine/ggplot.py:719: PlotnineWarning: Saving 6.4 x 4.8 in image.\n",
      "/home/maxk/.local/lib/python3.8/site-packages/plotnine/ggplot.py:722: PlotnineWarning: Filename: plots/default_of_credit/default_of_credit_predictive parity_color.png\n",
      "/home/maxk/.local/lib/python3.8/site-packages/plotnine/ggplot.py:719: PlotnineWarning: Saving 6.4 x 4.8 in image.\n",
      "/home/maxk/.local/lib/python3.8/site-packages/plotnine/ggplot.py:722: PlotnineWarning: Filename: plots/default_of_credit/default_of_credit_negative predictive parity_color.png\n",
      "/home/maxk/.local/lib/python3.8/site-packages/plotnine/ggplot.py:719: PlotnineWarning: Saving 6.4 x 4.8 in image.\n",
      "/home/maxk/.local/lib/python3.8/site-packages/plotnine/ggplot.py:722: PlotnineWarning: Filename: plots/default_of_credit/default_of_credit_equal opportunity_color.png\n",
      "/home/maxk/.local/lib/python3.8/site-packages/plotnine/ggplot.py:719: PlotnineWarning: Saving 6.4 x 4.8 in image.\n",
      "/home/maxk/.local/lib/python3.8/site-packages/plotnine/ggplot.py:722: PlotnineWarning: Filename: plots/default_of_credit/default_of_credit_predictive equality_color.png\n",
      "/home/maxk/.local/lib/python3.8/site-packages/plotnine/ggplot.py:719: PlotnineWarning: Saving 6.4 x 4.8 in image.\n",
      "/home/maxk/.local/lib/python3.8/site-packages/plotnine/ggplot.py:722: PlotnineWarning: Filename: plots/default_of_credit/default_of_credit_overall accuracy equality_color.png\n",
      "/home/maxk/.local/lib/python3.8/site-packages/plotnine/ggplot.py:719: PlotnineWarning: Saving 6.4 x 4.8 in image.\n",
      "/home/maxk/.local/lib/python3.8/site-packages/plotnine/ggplot.py:722: PlotnineWarning: Filename: plots/default_of_credit/default_of_credit_treatment equality_color.png\n"
     ]
    }
   ],
   "metadata": {}
  },
  {
   "cell_type": "code",
   "execution_count": 128,
   "source": [
    "#overall plot for all definitions with color\n",
    "#skip treatment equality as it will destory the scales\n",
    "plot = (p9.ggplot(data= full_result_df.drop(full_result_df[full_result_df.definition==\"treatment equality\"].index), mapping = p9.aes(x=\"model\", y=\"result\", fill=\"group\")) \n",
    "    + p9.geom_col(position=\"dodge\")\n",
    "    + p9.facet_grid(\".~definition\") \n",
    "    + p9.theme(axis_text_x = p9.element_text(angle=90))\n",
    "    + p9.labs(x=\"ML Models\", y= \"Results\", title=(\" Complete results for \" + dataset_name))\n",
    "    )\n",
    "plot.save(filename=\"plots/\"+dataset_name+\"/\"+dataset_name+\"_complete_color.png\", height=4 , width = 17)"
   ],
   "outputs": [
    {
     "output_type": "stream",
     "name": "stderr",
     "text": [
      "/home/maxk/.local/lib/python3.8/site-packages/plotnine/ggplot.py:719: PlotnineWarning: Saving 17 x 4 in image.\n",
      "/home/maxk/.local/lib/python3.8/site-packages/plotnine/ggplot.py:722: PlotnineWarning: Filename: plots/default_of_credit/default_of_credit_complete_color.png\n"
     ]
    }
   ],
   "metadata": {}
  },
  {
   "cell_type": "code",
   "execution_count": 129,
   "source": [
    "# plot differences\n",
    "plot = (p9.ggplot(data= differences, mapping = p9.aes(x=\"model\", y=\"difference\")) \n",
    "    + p9.geom_col()\n",
    "    + p9.facet_grid(\".~definition\", space=\"free_x\", scales=\"fixed\") \n",
    "    + p9.theme(axis_text_x = p9.element_text(angle=90))\n",
    "    + p9.labs(x=\"ML Models\", y= \"Differences\", title=(\"Differences for \" + dataset_name))\n",
    "    + p9.ylim(0,1)\n",
    "    )\n",
    "plot.save(filename=\"plots/\"+dataset_name+\"/\"+dataset_name+\"_differences_scaled.png\", height=4 , width = 17)\n"
   ],
   "outputs": [
    {
     "output_type": "stream",
     "name": "stderr",
     "text": [
      "/home/maxk/.local/lib/python3.8/site-packages/plotnine/ggplot.py:719: PlotnineWarning: Saving 17 x 4 in image.\n",
      "/home/maxk/.local/lib/python3.8/site-packages/plotnine/ggplot.py:722: PlotnineWarning: Filename: plots/default_of_credit/default_of_credit_differences_scaled.png\n"
     ]
    }
   ],
   "metadata": {}
  },
  {
   "cell_type": "code",
   "execution_count": 130,
   "source": [
    "# plot differences\n",
    "plot = (p9.ggplot(data= differences, mapping = p9.aes(x=\"model\", y=\"difference\")) \n",
    "    + p9.geom_col()\n",
    "    + p9.facet_grid(\".~definition\", space=\"free_x\", scales=\"fixed\") \n",
    "    + p9.theme(axis_text_x = p9.element_text(angle=90))\n",
    "    + p9.labs(x=\"ML Models\", y= \"Differences\", title=(\"Differences for \" + dataset_name))\n",
    "    )\n",
    "plot.save(filename=\"plots/\"+dataset_name+\"/\"+dataset_name+\"_differences_close.png\", height=4 , width = 17)"
   ],
   "outputs": [
    {
     "output_type": "stream",
     "name": "stderr",
     "text": [
      "/home/maxk/.local/lib/python3.8/site-packages/plotnine/ggplot.py:719: PlotnineWarning: Saving 17 x 4 in image.\n",
      "/home/maxk/.local/lib/python3.8/site-packages/plotnine/ggplot.py:722: PlotnineWarning: Filename: plots/default_of_credit/default_of_credit_differences_close.png\n"
     ]
    }
   ],
   "metadata": {}
  },
  {
   "cell_type": "code",
   "execution_count": 131,
   "source": [
    "#plot ratio\n",
    "plot = (p9.ggplot(data= ratio, mapping = p9.aes(x=\"model\", y=\"ratio\")) \n",
    "    + p9.geom_col()\n",
    "    + p9.facet_grid(\".~definition\", space=\"free_x\", scales=\"free\") \n",
    "    + p9.theme(axis_text_x = p9.element_text(angle=90))\n",
    "    + p9.labs(x=\"ML Models\", y= \"Ratio\", title=(\"Ratio for \" + dataset_name))\n",
    "    )\n",
    "plot.save(filename=\"plots/\"+dataset_name+\"/\"+dataset_name+\"_ratio.png\", height=4 , width = 17)"
   ],
   "outputs": [
    {
     "output_type": "stream",
     "name": "stderr",
     "text": [
      "/home/maxk/.local/lib/python3.8/site-packages/plotnine/ggplot.py:719: PlotnineWarning: Saving 17 x 4 in image.\n",
      "/home/maxk/.local/lib/python3.8/site-packages/plotnine/ggplot.py:722: PlotnineWarning: Filename: plots/default_of_credit/default_of_credit_ratio.png\n"
     ]
    }
   ],
   "metadata": {}
  }
 ],
 "metadata": {
  "orig_nbformat": 4,
  "language_info": {
   "name": "python",
   "version": "3.8.10",
   "mimetype": "text/x-python",
   "codemirror_mode": {
    "name": "ipython",
    "version": 3
   },
   "pygments_lexer": "ipython3",
   "nbconvert_exporter": "python",
   "file_extension": ".py"
  },
  "kernelspec": {
   "name": "python3",
   "display_name": "Python 3.8.10 64-bit"
  },
  "interpreter": {
   "hash": "916dbcbb3f70747c44a77c7bcd40155683ae19c65e1c03b4aa3499c5328201f1"
  }
 },
 "nbformat": 4,
 "nbformat_minor": 2
}