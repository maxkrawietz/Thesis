{
 "cells": [
  {
   "cell_type": "markdown",
   "source": [
    "# Imports and Setups"
   ],
   "metadata": {}
  },
  {
   "cell_type": "code",
   "execution_count": null,
   "source": [
    "%load_ext autoreload\n",
    "%autoreload 2\n",
    "\n",
    "import pandas as pd\n",
    "import os\n",
    "import matplotlib.pyplot as plt\n",
    "import numpy as np\n",
    "import plotnine as p9\n",
    "from sklearn import preprocessing\n",
    "from sklearn.preprocessing import StandardScaler\n",
    "from sklearn.preprocessing import LabelBinarizer\n",
    "from sklearn.pipeline import Pipeline\n",
    "import transformer\n",
    "from sklearn.metrics import mean_squared_error\n",
    "from sklearn import metrics\n",
    "from fairnesTester import FairnessTester\n",
    "from sklearn.pipeline import FeatureUnion\n",
    "from sklearn.model_selection import train_test_split\n",
    "from fairnesTester import FairnessTester\n",
    "\n",
    "from sklearn.neighbors import KNeighborsClassifier\n",
    "from sklearn.svm import SVC\n",
    "from sklearn.tree import DecisionTreeClassifier, plot_tree, export_graphviz\n",
    "from sklearn.ensemble import RandomForestClassifier, AdaBoostClassifier, GradientBoostingClassifier\n",
    "from sklearn.naive_bayes import GaussianNB\n",
    "from sklearn.gaussian_process import GaussianProcessClassifier\n",
    "from xgboost import XGBClassifier\n",
    "\n",
    "#pipelines and transformer\n",
    "\n",
    "cat_trans = Pipeline(steps=[\n",
    "    (\"selector\", transformer.DataSelector(\"object\")),\n",
    "    (\"one_hot\", preprocessing.OneHotEncoder())\n",
    "])\n",
    "num_trans = Pipeline(steps=[\n",
    "    (\"selector\", transformer.DataSelector(\"number\")),\n",
    "    (\"scaler\", StandardScaler() )\n",
    "])\n",
    "\n",
    "pre_pipe = FeatureUnion(transformer_list=[\n",
    "    (\"cat\", cat_trans),\n",
    "    (\"num\", num_trans)\n",
    "])\n",
    "\n",
    "lb = LabelBinarizer()\n",
    "del_nan = transformer.DeleteNAN(\"\")"
   ],
   "outputs": [],
   "metadata": {}
  },
  {
   "cell_type": "markdown",
   "source": [
    "# Importing and preparing the data\n"
   ],
   "metadata": {}
  },
  {
   "cell_type": "markdown",
   "source": [
    "## Adult Income Data set"
   ],
   "metadata": {}
  },
  {
   "cell_type": "code",
   "execution_count": null,
   "source": [
    "filename = \"Datasets/adult.data\"\n",
    "names = [\"age\", \"workclass\", \"fnlwgt\",\"education\", \"education-num\", \"marital-status\", \"occupation\", \"relationship\", \"race\", \"sex\", \"capital-gain\", \"capital-loss\", \"hours-per-week\", \"native-country\", \"class\"]\n",
    "train = pd.read_csv(filename, names=names)\n",
    "test = test = pd.read_csv(\"Datasets/adult.test\", names=names)\n",
    "\n",
    "del_nan.set_nan_char(\" ?\")\n",
    "train = del_nan.transform(train)\n",
    "test = del_nan.transform(test)\n",
    "\n",
    "train[\"class\"] = lb.fit_transform(train[\"class\"])\n",
    "test[\"class\"] = lb.fit_transform(test[\"class\"])\n",
    "\n",
    "train_data = pre_pipe.fit_transform(train.drop(\"class\", axis=1))\n",
    "train_labels = train[\"class\"]\n",
    "\n",
    "test_data = pre_pipe.transform(test.drop(\"class\", axis=1))\n",
    "test_labels = test[\"class\"]\n",
    "\n",
    "#attribute for Fairness tester\n",
    "dataset_name = \"Adult_Income\"\n",
    "priv_val = \" Male\"\n",
    "unpriv_val = \" Female\"\n",
    "protected_att = \"sex\""
   ],
   "outputs": [],
   "metadata": {}
  },
  {
   "cell_type": "markdown",
   "source": [
    "## German Credit Dataset"
   ],
   "metadata": {}
  },
  {
   "cell_type": "code",
   "execution_count": null,
   "source": [
    "filename = \"Datasets/german.data\"\n",
    "names = [\"status existing account\",\"duration\", \"credit history\", \"purpose\", \"credit amount\", \"savings\", \"employment since\", \"installment rate\", \"sex\", \"other debtors\", \"residence since\", \"property\", \"age\", \"installment plans\", \"housing\", \"num existing credits\", \"job\", \"no of pople liable\", \"telephone\", \"foreign worker\", \"class\" ]\n",
    "data = pd.read_csv(filename, sep=\" \", names =names)\n",
    "\n",
    "data[\"class\"] = lb.fit_transform(data[\"class\"])\n",
    "\n",
    "data, test, train_labels, test_labels = train_test_split(data, data[\"class\"], random_state=42)\n",
    "\n",
    "train_data = pre_pipe.fit_transform(data.drop(\"class\", axis=1))\n",
    "test_data = pre_pipe.transform(test.drop(\"class\", axis=1))\n",
    "\n",
    "#transform for Fairness tester\n",
    "test[\"sex\"].replace([\"A91\",\"A93\", \"A94\"],\"m\",inplace=True)\n",
    "test[\"sex\"].replace([\"A92\",\"A95\"],\"f\",inplace=True)\n",
    "\n",
    "#attribute for Fairness tester\n",
    "dataset_name = \"German_Credit\"\n",
    "priv_val = \"m\"\n",
    "unpriv_val = \"f\"\n",
    "protected_att = \"sex\"\n"
   ],
   "outputs": [],
   "metadata": {}
  },
  {
   "cell_type": "markdown",
   "source": [
    "## Default of Creddit Card Payments"
   ],
   "metadata": {}
  },
  {
   "cell_type": "code",
   "execution_count": null,
   "source": [
    "filename = \"Datasets/default of credit.xls\"\n",
    "data_inp = pd.read_excel(filename, dtype={\"X1\": int,\"X2\": object,\"X3\": object,\"X4\": object,\"X5\": object,\"X6\": object,\"X7\": object,\"X8\": object,\"X9\": object,\"X10\": object,\"X11\": object,\"X12\": int,\"X13\": int,\"X14\": int,\"X15\": int,\"X16\": int,\"X17\": int,\"X23\": int,\"X18\": int,\"X19\": int,\"X20\": int,\"X21\": int,\"X22\": int})\n",
    "\n",
    "data_inp = data_inp.rename(columns={\"Y\": \"class\"})\n",
    "\n",
    "data, test, train_labels, test_labels = train_test_split(data_inp, data_inp[\"class\"], random_state=42)\n",
    "\n",
    "pre_pipe.fit(data_inp.drop(\"class\", axis=1))\n",
    "train_data = pre_pipe.transform(data.drop(\"class\", axis=1))\n",
    "test_data = pre_pipe.transform(test.drop(\"class\", axis=1))\n",
    "\n",
    "\n",
    "#attribute for Fairness tester\n",
    "dataset_name = \"default_of_credit\"\n",
    "priv_val = 1 #male\n",
    "unpriv_val = 2 #female\n",
    "protected_att = \"X2\"\n",
    "\n"
   ],
   "outputs": [],
   "metadata": {}
  },
  {
   "cell_type": "markdown",
   "source": [
    "## Rici vs Stefano Dataset"
   ],
   "metadata": {}
  },
  {
   "cell_type": "code",
   "execution_count": null,
   "source": [
    "filename = \"Datasets/ricci.csv\"\n",
    "data_inp = pd.read_csv(filename).drop(\"Unnamed: 0\", axis=1)\n",
    "#applicants with combine >= 70 pass\n",
    "#read paper Did the Results of Promotion Exams Have a Disparate Impact on Minorities? Using Statistical Evidence in Ricci v. DeStefano\n",
    "data_inp.rename(columns={\"Combine\": \"class\"}, inplace=True)\n",
    "\n",
    "data_inp.loc[(data_inp[\"class\"]<70), \"class\"] = 0\n",
    "data_inp.loc[data_inp[\"class\"]>=70, \"class\"] = 1\n",
    "\n",
    "\n",
    "data, test, train_labels, test_labels = train_test_split(data_inp, data_inp[\"class\"], random_state=42)\n",
    "\n",
    "pre_pipe.fit(data_inp.drop(\"class\", axis=1))\n",
    "train_data = pre_pipe.transform(data.drop(\"class\", axis=1))\n",
    "test_data = pre_pipe.transform(test.drop(\"class\", axis=1))\n",
    "\n",
    "#transform for Fairness tester\n",
    "test[\"Race\"].replace([\"H\",\"B\",],\"NW\",inplace=True)\n",
    "\n",
    "\n",
    "#attribute for Fairness tester\n",
    "dataset_name = \"ricci_vs_stefano\"\n",
    "priv_val = \"W\" #white\n",
    "unpriv_val = \"NW\" #not white\n",
    "protected_att = \"Race\"\n"
   ],
   "outputs": [],
   "metadata": {}
  },
  {
   "cell_type": "markdown",
   "source": [
    "## Heart Disease Dataset"
   ],
   "metadata": {}
  },
  {
   "cell_type": "code",
   "execution_count": null,
   "source": [
    "filename = \"Datasets/processed.cleveland.data\"\n",
    "names = [\"age\", \"sex\", 3,4,5,6,7,8,9,10,11,12,13,\"class\"]\n",
    "data_inp = pd.read_csv(filename, names=names)\n",
    "\n",
    "\n",
    "data_inp.loc[data_inp[\"class\"]>=1, \"class\"] = 1 #existing heart disase\n",
    "\n",
    "data, test, train_labels, test_labels = train_test_split(data_inp, data_inp[\"class\"], random_state=42)\n",
    "\n",
    "pre_pipe.fit(data_inp.drop(\"class\", axis=1))\n",
    "train_data = pre_pipe.transform(data.drop(\"class\", axis=1))\n",
    "test_data = pre_pipe.transform(test.drop(\"class\", axis=1))\n",
    "\n",
    "\n",
    "#attribute for Fairness tester\n",
    "dataset_name = \"heart_diseases_dataset\"\n",
    "priv_val = 1 #male\n",
    "unpriv_val = 0 #female\n",
    "protected_att = \"sex\""
   ],
   "outputs": [],
   "metadata": {}
  },
  {
   "cell_type": "markdown",
   "source": [
    "## Heart Failure Dataset"
   ],
   "metadata": {}
  },
  {
   "cell_type": "code",
   "execution_count": null,
   "source": [
    "filename = \"Datasets/heart_failure.csv\"\n",
    "data_inp = pd.read_csv(filename)\n",
    "data_inp.rename(columns={\"DEATH_EVENT\":\"class\"}, inplace=True)\n",
    "\n",
    "data, test, train_labels, test_labels = train_test_split(data_inp, data_inp[\"class\"], random_state=42)\n",
    "\n",
    "\n",
    "pre_pipe.fit(data_inp.drop(\"class\", axis=1))\n",
    "train_data = pre_pipe.transform(data.drop(\"class\", axis=1))\n",
    "test_data = pre_pipe.transform(test.drop(\"class\", axis=1))\n",
    "\n",
    "\n",
    "#attribute for Fairness tester\n",
    "dataset_name = \"heart_failure_dataset\"\n",
    "priv_val = 1 #male\n",
    "unpriv_val = 0 #female\n",
    "protected_att = \"sex\""
   ],
   "outputs": [],
   "metadata": {}
  },
  {
   "cell_type": "markdown",
   "source": [
    "## Student Performance Data Set"
   ],
   "metadata": {}
  },
  {
   "cell_type": "code",
   "execution_count": null,
   "source": [
    "filename = \"Datasets/student-por.csv\"\n",
    "data_inp = pd.read_csv(filename, sep=\";\")\n",
    "\n",
    "data_inp.drop([\"G1\",\"G2\"],axis=1,inplace=True)\n",
    "data_inp.rename(columns={\"G3\":\"class\"},inplace=True)\n",
    "\n",
    "data_inp.loc[(data_inp[\"class\"]<10), \"class\"] = 0 #failed\n",
    "data_inp.loc[data_inp[\"class\"]>=10, \"class\"] = 1 #passed\n",
    "\n",
    "\n",
    "data, test, train_labels, test_labels = train_test_split(data_inp, data_inp[\"class\"], random_state=42)\n",
    "\n",
    "\n",
    "pre_pipe.fit(data_inp.drop(\"class\", axis=1))\n",
    "train_data = pre_pipe.transform(data.drop(\"class\", axis=1))\n",
    "test_data = pre_pipe.transform(test.drop(\"class\", axis=1))\n",
    "\n",
    "\n",
    "#attribute for Fairness tester\n",
    "dataset_name = \"student_performance_dataset\"\n",
    "priv_val = \"M\" #male\n",
    "unpriv_val = \"F\" #female\n",
    "protected_att = \"sex\"\n",
    "\n"
   ],
   "outputs": [],
   "metadata": {}
  },
  {
   "cell_type": "markdown",
   "source": [
    "# Classifiers"
   ],
   "metadata": {}
  },
  {
   "cell_type": "markdown",
   "source": [
    "## Decision Tree"
   ],
   "metadata": {}
  },
  {
   "cell_type": "code",
   "execution_count": null,
   "source": [
    "tree = DecisionTreeClassifier()\n",
    "tree.fit(train_data,train_labels)\n",
    "\n",
    "tree_pred = tree.predict(test_data)\n",
    "test[\"prediction\"] = tree_pred\n",
    "dataset_name"
   ],
   "outputs": [],
   "metadata": {}
  },
  {
   "cell_type": "markdown",
   "source": [
    "## Random Forest"
   ],
   "metadata": {}
  },
  {
   "cell_type": "code",
   "execution_count": null,
   "source": [
    "forest = RandomForestClassifier()\n",
    "forest.fit(train_data,train_labels)\n",
    "\n",
    "forest_pred = forest.predict(test_data)\n",
    "test[\"prediction\"] = forest_pred\n",
    "dataset_name"
   ],
   "outputs": [],
   "metadata": {}
  },
  {
   "cell_type": "code",
   "execution_count": null,
   "source": [
    "features = [\"X\", \"Race_White\", \"Race_Black\", \"Race_Hispanic\", \"Position_Leutantent\", \"Position_Captain\", \"oral\", \"written\"]\n",
    "export_graphviz(tree,out_file=\"decision_tree_graph\" , feature_names= features, fill=True)"
   ],
   "outputs": [],
   "metadata": {}
  },
  {
   "cell_type": "markdown",
   "source": [
    "## K-Nearest-Neighbour"
   ],
   "metadata": {}
  },
  {
   "cell_type": "code",
   "execution_count": null,
   "source": [
    "knn = KNeighborsClassifier(3)\n",
    "knn.fit(train_data,train_labels)\n",
    "\n",
    "knn_pred = knn.predict(test_data)\n",
    "test[\"prediction\"] = knn_pred\n",
    "dataset_name "
   ],
   "outputs": [],
   "metadata": {}
  },
  {
   "cell_type": "markdown",
   "source": [
    "## Support Vector Machine"
   ],
   "metadata": {}
  },
  {
   "cell_type": "code",
   "execution_count": null,
   "source": [
    "#nochmal dringend anschauen\n",
    "svc = SVC(kernel=\"rbf\", C=0.025, probability=True) \n",
    "svc.fit(train_data,train_labels)\n",
    "\n",
    "svc_pred = svc.predict(test_data)\n",
    "test[\"prediction\"] = svc_pred\n",
    "dataset_name"
   ],
   "outputs": [],
   "metadata": {}
  },
  {
   "cell_type": "markdown",
   "source": [
    "## Ada Boost "
   ],
   "metadata": {}
  },
  {
   "cell_type": "code",
   "execution_count": null,
   "source": [
    "ada = AdaBoostClassifier()\n",
    "svc.fit(train_data,train_labels)\n",
    "\n",
    "svc_pred = svc.predict(test_data)\n",
    "test[\"prediction\"] = svc_pred\n",
    "dataset_name"
   ],
   "outputs": [],
   "metadata": {}
  },
  {
   "cell_type": "markdown",
   "source": [
    "## Gaussian NB"
   ],
   "metadata": {}
  },
  {
   "cell_type": "code",
   "execution_count": null,
   "source": [
    "gnb = GaussianNB()\n",
    "gnb.fit(train_data.toarray(),train_labels)\n",
    "\n",
    "gnb_pred = gnb.predict(test_data.toarray())\n",
    "test[\"prediction\"] = gnb_pred\n",
    "dataset_name"
   ],
   "outputs": [],
   "metadata": {}
  },
  {
   "cell_type": "markdown",
   "source": [
    "## Gaussian Proccess Classifier"
   ],
   "metadata": {}
  },
  {
   "cell_type": "code",
   "execution_count": null,
   "source": [
    "gpc = GaussianProcessClassifier()\n",
    "gpc.fit(train_data.toarray(),train_labels)\n",
    "\n",
    "gpc_pred = gpc.predict(test_data.toarray())\n",
    "test[\"prediction\"] = gpc_pred\n",
    "gpc.__class__.__name__"
   ],
   "outputs": [],
   "metadata": {}
  },
  {
   "cell_type": "markdown",
   "source": [
    "## XGBoost"
   ],
   "metadata": {}
  },
  {
   "cell_type": "code",
   "execution_count": null,
   "source": [
    "xgb = XGBClassifier()\n",
    "xgb.fit(train_data.toarray(),train_labels)\n",
    "\n",
    "xgb_pred = xgb.predict(test_data.toarray())\n",
    "test[\"prediction\"] = xgb_pred"
   ],
   "outputs": [],
   "metadata": {}
  },
  {
   "cell_type": "markdown",
   "source": [
    "# Classifier List\r\n"
   ],
   "metadata": {}
  },
  {
   "cell_type": "code",
   "execution_count": null,
   "source": [
    "classifiers = [DecisionTreeClassifier(),RandomForestClassifier(),SVC(),AdaBoostClassifier(),KNeighborsClassifier(5), GaussianNB(), XGBClassifier()]\n",
    "model_names = []\n",
    "\n",
    "for model in classifiers:\n",
    "    \n",
    "    name = model.__class__.__name__\n",
    "    print(name)\n",
    "    model_names.append(name)\n",
    "\n",
    "    model.fit(train_data.toarray(), train_labels)\n",
    "    pred = model.predict(test_data.toarray())\n",
    "\n",
    "    test[name]=pred"
   ],
   "outputs": [],
   "metadata": {}
  },
  {
   "cell_type": "markdown",
   "source": [
    "# Testing for Fairness\r\n"
   ],
   "metadata": {}
  },
  {
   "cell_type": "markdown",
   "source": [
    "## testing one model"
   ],
   "metadata": {}
  },
  {
   "cell_type": "code",
   "execution_count": null,
   "source": [
    "tester = FairnessTester()\n",
    "tester.setup(test, protected_att, priv_val, unpriv_val)\n",
    "print(\"privileged confusion: \\n\",tester.priv_confusion_matrix())\n",
    "print(\"unprivileged confusion: \\n\", tester.unpriv_confusion_matrix())\n",
    "tester.confuison_based_dic()"
   ],
   "outputs": [],
   "metadata": {}
  },
  {
   "cell_type": "markdown",
   "source": [
    "## testing classifiers list"
   ],
   "metadata": {}
  },
  {
   "cell_type": "code",
   "execution_count": null,
   "source": [
    "tester = FairnessTester()\n",
    "\n",
    "\n",
    "result_df = pd.DataFrame()\n",
    "\n",
    "for name in model_names:\n",
    "    tester.setup(test, protected_att, priv_val, unpriv_val, name)\n",
    "    result_dic = {\"model\": name}\n",
    "    result_dic.update(tester.confusion_based_dic_priv())\n",
    "    result_df= result_df.append(result_dic, ignore_index=True)\n",
    "    \n",
    "    result_dic = {\"model\": name}\n",
    "    result_dic.update(tester.confusion_based_dic_unpriv())\n",
    "    result_df= result_df.append(result_dic, ignore_index=True)\n",
    "definitions_names = list(tester.confuison_based_dic().keys())\n",
    "result_df\n",
    "    "
   ],
   "outputs": [],
   "metadata": {}
  },
  {
   "cell_type": "code",
   "execution_count": null,
   "source": [
    "#fit all data into better selectable format(for complete plot of all definitions)\n",
    "\n",
    "full_result_df = pd.DataFrame()\n",
    "for model in model_names:\n",
    "    for defi in definitions_names:\n",
    "        for group in [\"priv\", \"unpriv\"]:    \n",
    "            #if defi == \"treatment equality\":   #skip treatment equality as it will destroy the scales for full plot\n",
    "            #    continue          \n",
    "            dic = {}\n",
    "            dic[\"model\"] = result_df.loc[(result_df[\"model\"]==model)&(result_df[\"group\"]==group)][\"model\"].item()\n",
    "            dic[\"group\"] = result_df.loc[(result_df[\"model\"]==model)&(result_df[\"group\"]==group)][\"group\"].item()\n",
    "            dic[\"definition\"] = defi\n",
    "            dic[\"result\"]= result_df.loc[(result_df[\"model\"]==model)&(result_df[\"group\"]==group)][defi].item()\n",
    "            full_result_df = full_result_df.append(dic, ignore_index=True)\n",
    "\n",
    "full_result_df\n",
    "        "
   ],
   "outputs": [],
   "metadata": {}
  },
  {
   "cell_type": "code",
   "execution_count": null,
   "source": [
    "# get differences from data\n",
    "\n",
    "differences = pd.DataFrame()\n",
    "\n",
    "for model in model_names:\n",
    "    for defi in definitions_names:   \n",
    "        if defi == \"treatment equality\":   #skip treatment equality as it will destroy the scales for full plot\n",
    "            continue          \n",
    "        dic = {}\n",
    "        dic[\"model\"] = result_df.loc[(result_df[\"model\"]==model)&(result_df[\"group\"]==group)][\"model\"].item()\n",
    "        x = result_df.loc[(result_df[\"model\"]==model)&(result_df[\"group\"]==\"priv\")][defi].item()\n",
    "        y = result_df.loc[(result_df[\"model\"]==model)&(result_df[\"group\"]==\"unpriv\")][defi].item()\n",
    "        dic[\"definition\"] = defi\n",
    "        dic[\"difference\"]= abs(x-y)\n",
    "        differences = differences.append(dic, ignore_index=True)"
   ],
   "outputs": [],
   "metadata": {}
  },
  {
   "cell_type": "code",
   "execution_count": null,
   "source": [
    "# get ratio from data\n",
    "\n",
    "ratio = pd.DataFrame()\n",
    "\n",
    "for model in model_names:\n",
    "    for defi in definitions_names:   \n",
    "        if defi == \"treatment equality\":   #skip treatment equality as it will destroy the scales for full plot\n",
    "            continue          \n",
    "        dic = {}\n",
    "        dic[\"model\"] = result_df.loc[(result_df[\"model\"]==model)&(result_df[\"group\"]==group)][\"model\"].item()\n",
    "        x = result_df.loc[(result_df[\"model\"]==model)&(result_df[\"group\"]==\"priv\")][defi].item()\n",
    "        y = result_df.loc[(result_df[\"model\"]==model)&(result_df[\"group\"]==\"unpriv\")][defi].item()\n",
    "        dic[\"definition\"] = defi\n",
    "        if (x == 0):\n",
    "            dic[\"ratio\"]= 0\n",
    "        else:\n",
    "            dic[\"ratio\"]= y/x\n",
    "        \n",
    "        ratio = ratio.append(dic, ignore_index=True)"
   ],
   "outputs": [],
   "metadata": {}
  },
  {
   "cell_type": "markdown",
   "source": [
    "# Plotting"
   ],
   "metadata": {}
  },
  {
   "cell_type": "code",
   "execution_count": null,
   "source": [
    "#one plot for each definition with color\n",
    "plots = []\n",
    "for definition in definitions_names:\n",
    "\n",
    "    plot = (p9.ggplot(data= result_df, mapping = p9.aes(x=\"model\", y=definition, fill=\"group\")) \n",
    "    + p9.geom_col(position=\"dodge\")\n",
    "    + p9.theme(axis_text_x = p9.element_text(angle=90))\n",
    "    + p9.labs(x=\"ML Models\", y= \"Results\", title=(definition+\" for \" + dataset_name)))\n",
    "    plots.append(plot) \n",
    "\n",
    "i=0\n",
    "for plot in plots:\n",
    "    plot.save(filename=\"plots/\"+dataset_name+\"/\"+dataset_name+\"_\"+definitions_names[i]+\"_color.png\")\n",
    "    i+=1"
   ],
   "outputs": [],
   "metadata": {}
  },
  {
   "cell_type": "code",
   "execution_count": null,
   "source": [
    "#overall plot for all definitions with color\n",
    "#skip treatment equality as it will destory the scales\n",
    "plot = (p9.ggplot(data= full_result_df.drop(full_result_df[full_result_df.definition==\"treatment equality\"].index), mapping = p9.aes(x=\"model\", y=\"result\", fill=\"group\")) \n",
    "    + p9.geom_col(position=\"dodge\")\n",
    "    + p9.facet_grid(\".~definition\") \n",
    "    + p9.theme(axis_text_x = p9.element_text(angle=90))\n",
    "    + p9.labs(x=\"ML Models\", y= \"Results\", title=(\" Complete results for \" + dataset_name))\n",
    "    )\n",
    "plot.save(filename=\"plots/\"+dataset_name+\"/\"+dataset_name+\"_complete_color.png\", height=4 , width = 17)"
   ],
   "outputs": [],
   "metadata": {}
  },
  {
   "cell_type": "code",
   "execution_count": null,
   "source": [
    "# plot differences\n",
    "plot = (p9.ggplot(data= differences, mapping = p9.aes(x=\"model\", y=\"difference\")) \n",
    "    + p9.geom_col()\n",
    "    + p9.facet_grid(\".~definition\", space=\"free_x\", scales=\"fixed\") \n",
    "    + p9.theme(axis_text_x = p9.element_text(angle=90))\n",
    "    + p9.labs(x=\"ML Models\", y= \"Differences\", title=(\"Differences for \" + dataset_name))\n",
    "    + p9.ylim(0,1)\n",
    "    )\n",
    "plot.save(filename=\"plots/\"+dataset_name+\"/\"+dataset_name+\"_differences_scaled.png\", height=4 , width = 17)\n"
   ],
   "outputs": [],
   "metadata": {}
  },
  {
   "cell_type": "code",
   "execution_count": null,
   "source": [
    "# plot differences\n",
    "plot = (p9.ggplot(data= differences, mapping = p9.aes(x=\"model\", y=\"difference\")) \n",
    "    + p9.geom_col()\n",
    "    + p9.facet_grid(\".~definition\", space=\"free_x\", scales=\"fixed\") \n",
    "    + p9.theme(axis_text_x = p9.element_text(angle=90))\n",
    "    + p9.labs(x=\"ML Models\", y= \"Differences\", title=(\"Differences for \" + dataset_name))\n",
    "    )\n",
    "plot.save(filename=\"plots/\"+dataset_name+\"/\"+dataset_name+\"_differences_close.png\", height=4 , width = 17)"
   ],
   "outputs": [],
   "metadata": {}
  },
  {
   "cell_type": "code",
   "execution_count": null,
   "source": [
    "#plot ratio\n",
    "plot = (p9.ggplot(data= ratio, mapping = p9.aes(x=\"model\", y=\"ratio\")) \n",
    "    + p9.geom_col()\n",
    "    + p9.facet_grid(\".~definition\", space=\"free_x\", scales=\"free\") \n",
    "    + p9.theme(axis_text_x = p9.element_text(angle=90))\n",
    "    + p9.labs(x=\"ML Models\", y= \"Ratio\", title=(\"Ratio for \" + dataset_name))\n",
    "    )\n",
    "plot.save(filename=\"plots/\"+dataset_name+\"/\"+dataset_name+\"_ratio.png\", height=4 , width = 17)"
   ],
   "outputs": [],
   "metadata": {}
  }
 ],
 "metadata": {
  "orig_nbformat": 4,
  "language_info": {
   "name": "python",
   "version": "3.8.10",
   "mimetype": "text/x-python",
   "codemirror_mode": {
    "name": "ipython",
    "version": 3
   },
   "pygments_lexer": "ipython3",
   "nbconvert_exporter": "python",
   "file_extension": ".py"
  },
  "kernelspec": {
   "name": "python3",
   "display_name": "Python 3.8.10 64-bit"
  },
  "interpreter": {
   "hash": "916dbcbb3f70747c44a77c7bcd40155683ae19c65e1c03b4aa3499c5328201f1"
  }
 },
 "nbformat": 4,
 "nbformat_minor": 2
}